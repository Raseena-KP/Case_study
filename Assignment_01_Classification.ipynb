{
 "cells": [
  {
   "cell_type": "markdown",
   "id": "8d73f49e",
   "metadata": {},
   "source": [
    "# Classification Problem"
   ]
  },
  {
   "cell_type": "code",
   "execution_count": 1,
   "id": "0ac52b28",
   "metadata": {},
   "outputs": [],
   "source": [
    "# import necessary libraries\n",
    "import numpy as np\n",
    "import pandas as pd\n",
    "import matplotlib.pyplot as plt\n",
    "import seaborn as sns\n",
    "import warnings\n",
    "warnings.filterwarnings(\"ignore\")\n",
    "from sklearn.ensemble import RandomForestClassifier\n",
    "from sklearn.tree import DecisionTreeClassifier\n",
    "from sklearn.ensemble import AdaBoostClassifier"
   ]
  },
  {
   "cell_type": "code",
   "execution_count": 2,
   "id": "d777bba2",
   "metadata": {},
   "outputs": [],
   "source": [
    "# read the csv data into python env\n",
    "df=pd.read_csv('diabetes.csv')"
   ]
  },
  {
   "cell_type": "markdown",
   "id": "55038d64",
   "metadata": {},
   "source": [
    "# Data Familiarisation"
   ]
  },
  {
   "cell_type": "code",
   "execution_count": 3,
   "id": "28ae6629",
   "metadata": {},
   "outputs": [
    {
     "data": {
      "text/html": [
       "<div>\n",
       "<style scoped>\n",
       "    .dataframe tbody tr th:only-of-type {\n",
       "        vertical-align: middle;\n",
       "    }\n",
       "\n",
       "    .dataframe tbody tr th {\n",
       "        vertical-align: top;\n",
       "    }\n",
       "\n",
       "    .dataframe thead th {\n",
       "        text-align: right;\n",
       "    }\n",
       "</style>\n",
       "<table border=\"1\" class=\"dataframe\">\n",
       "  <thead>\n",
       "    <tr style=\"text-align: right;\">\n",
       "      <th></th>\n",
       "      <th>Pregnancies</th>\n",
       "      <th>Glucose</th>\n",
       "      <th>BloodPressure</th>\n",
       "      <th>SkinThickness</th>\n",
       "      <th>Insulin</th>\n",
       "      <th>BMI</th>\n",
       "      <th>DiabetesPedigreeFunction</th>\n",
       "      <th>Age</th>\n",
       "      <th>Outcome</th>\n",
       "    </tr>\n",
       "  </thead>\n",
       "  <tbody>\n",
       "    <tr>\n",
       "      <th>0</th>\n",
       "      <td>6</td>\n",
       "      <td>148</td>\n",
       "      <td>72</td>\n",
       "      <td>35</td>\n",
       "      <td>0</td>\n",
       "      <td>33.6</td>\n",
       "      <td>0.627</td>\n",
       "      <td>50</td>\n",
       "      <td>1</td>\n",
       "    </tr>\n",
       "    <tr>\n",
       "      <th>1</th>\n",
       "      <td>1</td>\n",
       "      <td>85</td>\n",
       "      <td>66</td>\n",
       "      <td>29</td>\n",
       "      <td>0</td>\n",
       "      <td>26.6</td>\n",
       "      <td>0.351</td>\n",
       "      <td>31</td>\n",
       "      <td>0</td>\n",
       "    </tr>\n",
       "    <tr>\n",
       "      <th>2</th>\n",
       "      <td>8</td>\n",
       "      <td>183</td>\n",
       "      <td>64</td>\n",
       "      <td>0</td>\n",
       "      <td>0</td>\n",
       "      <td>23.3</td>\n",
       "      <td>0.672</td>\n",
       "      <td>32</td>\n",
       "      <td>1</td>\n",
       "    </tr>\n",
       "  </tbody>\n",
       "</table>\n",
       "</div>"
      ],
      "text/plain": [
       "   Pregnancies  Glucose  BloodPressure  SkinThickness  Insulin   BMI  \\\n",
       "0            6      148             72             35        0  33.6   \n",
       "1            1       85             66             29        0  26.6   \n",
       "2            8      183             64              0        0  23.3   \n",
       "\n",
       "   DiabetesPedigreeFunction  Age  Outcome  \n",
       "0                     0.627   50        1  \n",
       "1                     0.351   31        0  \n",
       "2                     0.672   32        1  "
      ]
     },
     "execution_count": 3,
     "metadata": {},
     "output_type": "execute_result"
    }
   ],
   "source": [
    "# display the first 3 rows\n",
    "df.head(3)"
   ]
  },
  {
   "cell_type": "code",
   "execution_count": 4,
   "id": "51c1f4ee",
   "metadata": {},
   "outputs": [
    {
     "data": {
      "text/html": [
       "<div>\n",
       "<style scoped>\n",
       "    .dataframe tbody tr th:only-of-type {\n",
       "        vertical-align: middle;\n",
       "    }\n",
       "\n",
       "    .dataframe tbody tr th {\n",
       "        vertical-align: top;\n",
       "    }\n",
       "\n",
       "    .dataframe thead th {\n",
       "        text-align: right;\n",
       "    }\n",
       "</style>\n",
       "<table border=\"1\" class=\"dataframe\">\n",
       "  <thead>\n",
       "    <tr style=\"text-align: right;\">\n",
       "      <th></th>\n",
       "      <th>Pregnancies</th>\n",
       "      <th>Glucose</th>\n",
       "      <th>BloodPressure</th>\n",
       "      <th>SkinThickness</th>\n",
       "      <th>Insulin</th>\n",
       "      <th>BMI</th>\n",
       "      <th>DiabetesPedigreeFunction</th>\n",
       "      <th>Age</th>\n",
       "      <th>Outcome</th>\n",
       "    </tr>\n",
       "  </thead>\n",
       "  <tbody>\n",
       "    <tr>\n",
       "      <th>765</th>\n",
       "      <td>5</td>\n",
       "      <td>121</td>\n",
       "      <td>72</td>\n",
       "      <td>23</td>\n",
       "      <td>112</td>\n",
       "      <td>26.2</td>\n",
       "      <td>0.245</td>\n",
       "      <td>30</td>\n",
       "      <td>0</td>\n",
       "    </tr>\n",
       "    <tr>\n",
       "      <th>766</th>\n",
       "      <td>1</td>\n",
       "      <td>126</td>\n",
       "      <td>60</td>\n",
       "      <td>0</td>\n",
       "      <td>0</td>\n",
       "      <td>30.1</td>\n",
       "      <td>0.349</td>\n",
       "      <td>47</td>\n",
       "      <td>1</td>\n",
       "    </tr>\n",
       "    <tr>\n",
       "      <th>767</th>\n",
       "      <td>1</td>\n",
       "      <td>93</td>\n",
       "      <td>70</td>\n",
       "      <td>31</td>\n",
       "      <td>0</td>\n",
       "      <td>30.4</td>\n",
       "      <td>0.315</td>\n",
       "      <td>23</td>\n",
       "      <td>0</td>\n",
       "    </tr>\n",
       "  </tbody>\n",
       "</table>\n",
       "</div>"
      ],
      "text/plain": [
       "     Pregnancies  Glucose  BloodPressure  SkinThickness  Insulin   BMI  \\\n",
       "765            5      121             72             23      112  26.2   \n",
       "766            1      126             60              0        0  30.1   \n",
       "767            1       93             70             31        0  30.4   \n",
       "\n",
       "     DiabetesPedigreeFunction  Age  Outcome  \n",
       "765                     0.245   30        0  \n",
       "766                     0.349   47        1  \n",
       "767                     0.315   23        0  "
      ]
     },
     "execution_count": 4,
     "metadata": {},
     "output_type": "execute_result"
    }
   ],
   "source": [
    "# display the last 3 rows\n",
    "df.tail(3)"
   ]
  },
  {
   "cell_type": "markdown",
   "id": "f7cb3f1d",
   "metadata": {},
   "source": [
    "Note: The data set is diabetes dataset/ medical data. Our Target column is outcome, It can be 0 or 1. So its a binary classification model.Here we are predicting the chance of diabetes in patients based on other features."
   ]
  },
  {
   "cell_type": "code",
   "execution_count": 5,
   "id": "9a87f632",
   "metadata": {},
   "outputs": [
    {
     "data": {
      "text/plain": [
       "Index(['Pregnancies', 'Glucose', 'BloodPressure', 'SkinThickness', 'Insulin',\n",
       "       'BMI', 'DiabetesPedigreeFunction', 'Age', 'Outcome'],\n",
       "      dtype='object')"
      ]
     },
     "execution_count": 5,
     "metadata": {},
     "output_type": "execute_result"
    }
   ],
   "source": [
    "# display the column names\n",
    "df.columns"
   ]
  },
  {
   "cell_type": "code",
   "execution_count": 6,
   "id": "bb94af8b",
   "metadata": {},
   "outputs": [
    {
     "data": {
      "text/plain": [
       "(768, 9)"
      ]
     },
     "execution_count": 6,
     "metadata": {},
     "output_type": "execute_result"
    }
   ],
   "source": [
    "# shape of the data\n",
    "df.shape"
   ]
  },
  {
   "cell_type": "markdown",
   "id": "bf72c247",
   "metadata": {},
   "source": [
    "There are 768 rows & 9 columns in the dataset."
   ]
  },
  {
   "cell_type": "code",
   "execution_count": 7,
   "id": "ed43a76d",
   "metadata": {},
   "outputs": [
    {
     "name": "stdout",
     "output_type": "stream",
     "text": [
      "<class 'pandas.core.frame.DataFrame'>\n",
      "RangeIndex: 768 entries, 0 to 767\n",
      "Data columns (total 9 columns):\n",
      " #   Column                    Non-Null Count  Dtype  \n",
      "---  ------                    --------------  -----  \n",
      " 0   Pregnancies               768 non-null    int64  \n",
      " 1   Glucose                   768 non-null    int64  \n",
      " 2   BloodPressure             768 non-null    int64  \n",
      " 3   SkinThickness             768 non-null    int64  \n",
      " 4   Insulin                   768 non-null    int64  \n",
      " 5   BMI                       768 non-null    float64\n",
      " 6   DiabetesPedigreeFunction  768 non-null    float64\n",
      " 7   Age                       768 non-null    int64  \n",
      " 8   Outcome                   768 non-null    int64  \n",
      "dtypes: float64(2), int64(7)\n",
      "memory usage: 54.1 KB\n"
     ]
    }
   ],
   "source": [
    "# print the info of the dataset\n",
    "df.info()"
   ]
  },
  {
   "cell_type": "markdown",
   "id": "9f788f1d",
   "metadata": {},
   "source": [
    "Note:</br>\n",
    "1. There are 768 rows & 9 columns in the dataset.</br>\n",
    "2. There are no null values, but it was told that need to consider 0 as missing value</br>\n",
    "3. All columns are of numeric type\n"
   ]
  },
  {
   "cell_type": "code",
   "execution_count": 8,
   "id": "86dafa3f",
   "metadata": {},
   "outputs": [
    {
     "data": {
      "text/html": [
       "<div>\n",
       "<style scoped>\n",
       "    .dataframe tbody tr th:only-of-type {\n",
       "        vertical-align: middle;\n",
       "    }\n",
       "\n",
       "    .dataframe tbody tr th {\n",
       "        vertical-align: top;\n",
       "    }\n",
       "\n",
       "    .dataframe thead th {\n",
       "        text-align: right;\n",
       "    }\n",
       "</style>\n",
       "<table border=\"1\" class=\"dataframe\">\n",
       "  <thead>\n",
       "    <tr style=\"text-align: right;\">\n",
       "      <th></th>\n",
       "      <th>Pregnancies</th>\n",
       "      <th>Glucose</th>\n",
       "      <th>BloodPressure</th>\n",
       "      <th>SkinThickness</th>\n",
       "      <th>Insulin</th>\n",
       "      <th>BMI</th>\n",
       "      <th>DiabetesPedigreeFunction</th>\n",
       "      <th>Age</th>\n",
       "      <th>Outcome</th>\n",
       "    </tr>\n",
       "  </thead>\n",
       "  <tbody>\n",
       "    <tr>\n",
       "      <th>count</th>\n",
       "      <td>768.000000</td>\n",
       "      <td>768.000000</td>\n",
       "      <td>768.000000</td>\n",
       "      <td>768.000000</td>\n",
       "      <td>768.000000</td>\n",
       "      <td>768.000000</td>\n",
       "      <td>768.000000</td>\n",
       "      <td>768.000000</td>\n",
       "      <td>768.000000</td>\n",
       "    </tr>\n",
       "    <tr>\n",
       "      <th>mean</th>\n",
       "      <td>3.845052</td>\n",
       "      <td>120.894531</td>\n",
       "      <td>69.105469</td>\n",
       "      <td>20.536458</td>\n",
       "      <td>79.799479</td>\n",
       "      <td>31.992578</td>\n",
       "      <td>0.471876</td>\n",
       "      <td>33.240885</td>\n",
       "      <td>0.348958</td>\n",
       "    </tr>\n",
       "    <tr>\n",
       "      <th>std</th>\n",
       "      <td>3.369578</td>\n",
       "      <td>31.972618</td>\n",
       "      <td>19.355807</td>\n",
       "      <td>15.952218</td>\n",
       "      <td>115.244002</td>\n",
       "      <td>7.884160</td>\n",
       "      <td>0.331329</td>\n",
       "      <td>11.760232</td>\n",
       "      <td>0.476951</td>\n",
       "    </tr>\n",
       "    <tr>\n",
       "      <th>min</th>\n",
       "      <td>0.000000</td>\n",
       "      <td>0.000000</td>\n",
       "      <td>0.000000</td>\n",
       "      <td>0.000000</td>\n",
       "      <td>0.000000</td>\n",
       "      <td>0.000000</td>\n",
       "      <td>0.078000</td>\n",
       "      <td>21.000000</td>\n",
       "      <td>0.000000</td>\n",
       "    </tr>\n",
       "    <tr>\n",
       "      <th>25%</th>\n",
       "      <td>1.000000</td>\n",
       "      <td>99.000000</td>\n",
       "      <td>62.000000</td>\n",
       "      <td>0.000000</td>\n",
       "      <td>0.000000</td>\n",
       "      <td>27.300000</td>\n",
       "      <td>0.243750</td>\n",
       "      <td>24.000000</td>\n",
       "      <td>0.000000</td>\n",
       "    </tr>\n",
       "    <tr>\n",
       "      <th>50%</th>\n",
       "      <td>3.000000</td>\n",
       "      <td>117.000000</td>\n",
       "      <td>72.000000</td>\n",
       "      <td>23.000000</td>\n",
       "      <td>30.500000</td>\n",
       "      <td>32.000000</td>\n",
       "      <td>0.372500</td>\n",
       "      <td>29.000000</td>\n",
       "      <td>0.000000</td>\n",
       "    </tr>\n",
       "    <tr>\n",
       "      <th>75%</th>\n",
       "      <td>6.000000</td>\n",
       "      <td>140.250000</td>\n",
       "      <td>80.000000</td>\n",
       "      <td>32.000000</td>\n",
       "      <td>127.250000</td>\n",
       "      <td>36.600000</td>\n",
       "      <td>0.626250</td>\n",
       "      <td>41.000000</td>\n",
       "      <td>1.000000</td>\n",
       "    </tr>\n",
       "    <tr>\n",
       "      <th>max</th>\n",
       "      <td>17.000000</td>\n",
       "      <td>199.000000</td>\n",
       "      <td>122.000000</td>\n",
       "      <td>99.000000</td>\n",
       "      <td>846.000000</td>\n",
       "      <td>67.100000</td>\n",
       "      <td>2.420000</td>\n",
       "      <td>81.000000</td>\n",
       "      <td>1.000000</td>\n",
       "    </tr>\n",
       "  </tbody>\n",
       "</table>\n",
       "</div>"
      ],
      "text/plain": [
       "       Pregnancies     Glucose  BloodPressure  SkinThickness     Insulin  \\\n",
       "count   768.000000  768.000000     768.000000     768.000000  768.000000   \n",
       "mean      3.845052  120.894531      69.105469      20.536458   79.799479   \n",
       "std       3.369578   31.972618      19.355807      15.952218  115.244002   \n",
       "min       0.000000    0.000000       0.000000       0.000000    0.000000   \n",
       "25%       1.000000   99.000000      62.000000       0.000000    0.000000   \n",
       "50%       3.000000  117.000000      72.000000      23.000000   30.500000   \n",
       "75%       6.000000  140.250000      80.000000      32.000000  127.250000   \n",
       "max      17.000000  199.000000     122.000000      99.000000  846.000000   \n",
       "\n",
       "              BMI  DiabetesPedigreeFunction         Age     Outcome  \n",
       "count  768.000000                768.000000  768.000000  768.000000  \n",
       "mean    31.992578                  0.471876   33.240885    0.348958  \n",
       "std      7.884160                  0.331329   11.760232    0.476951  \n",
       "min      0.000000                  0.078000   21.000000    0.000000  \n",
       "25%     27.300000                  0.243750   24.000000    0.000000  \n",
       "50%     32.000000                  0.372500   29.000000    0.000000  \n",
       "75%     36.600000                  0.626250   41.000000    1.000000  \n",
       "max     67.100000                  2.420000   81.000000    1.000000  "
      ]
     },
     "execution_count": 8,
     "metadata": {},
     "output_type": "execute_result"
    }
   ],
   "source": [
    "# display the statistic summary of the dataset\n",
    "df.describe()"
   ]
  },
  {
   "cell_type": "markdown",
   "id": "325725f8",
   "metadata": {},
   "source": [
    "Note: we can see that there are outliers in the dataset. In insulin column we can see the effect of high value outliers."
   ]
  },
  {
   "cell_type": "code",
   "execution_count": 9,
   "id": "de7b2ebf",
   "metadata": {},
   "outputs": [
    {
     "data": {
      "text/html": [
       "<div>\n",
       "<style scoped>\n",
       "    .dataframe tbody tr th:only-of-type {\n",
       "        vertical-align: middle;\n",
       "    }\n",
       "\n",
       "    .dataframe tbody tr th {\n",
       "        vertical-align: top;\n",
       "    }\n",
       "\n",
       "    .dataframe thead th {\n",
       "        text-align: right;\n",
       "    }\n",
       "</style>\n",
       "<table border=\"1\" class=\"dataframe\">\n",
       "  <thead>\n",
       "    <tr style=\"text-align: right;\">\n",
       "      <th></th>\n",
       "      <th>Pregnancies</th>\n",
       "      <th>Glucose</th>\n",
       "      <th>BloodPressure</th>\n",
       "      <th>SkinThickness</th>\n",
       "      <th>Insulin</th>\n",
       "      <th>BMI</th>\n",
       "      <th>DiabetesPedigreeFunction</th>\n",
       "      <th>Age</th>\n",
       "      <th>Outcome</th>\n",
       "    </tr>\n",
       "  </thead>\n",
       "  <tbody>\n",
       "  </tbody>\n",
       "</table>\n",
       "</div>"
      ],
      "text/plain": [
       "Empty DataFrame\n",
       "Columns: [Pregnancies, Glucose, BloodPressure, SkinThickness, Insulin, BMI, DiabetesPedigreeFunction, Age, Outcome]\n",
       "Index: []"
      ]
     },
     "execution_count": 9,
     "metadata": {},
     "output_type": "execute_result"
    }
   ],
   "source": [
    "# duplicated rows in the dataset\n",
    "df[df.duplicated()]"
   ]
  },
  {
   "cell_type": "markdown",
   "id": "d43fd2b6",
   "metadata": {},
   "source": [
    "No duplicate rows in the dataset"
   ]
  },
  {
   "cell_type": "markdown",
   "id": "98291e3e",
   "metadata": {},
   "source": [
    "# Missing value handling"
   ]
  },
  {
   "cell_type": "code",
   "execution_count": 10,
   "id": "77fb6b9d",
   "metadata": {},
   "outputs": [
    {
     "data": {
      "text/plain": [
       "111"
      ]
     },
     "execution_count": 10,
     "metadata": {},
     "output_type": "execute_result"
    }
   ],
   "source": [
    "len(df[df['Pregnancies']==0])"
   ]
  },
  {
   "cell_type": "code",
   "execution_count": 11,
   "id": "3d101c2b",
   "metadata": {},
   "outputs": [],
   "source": [
    "# check the zero value in dataset\n",
    "cols=df.columns\n",
    "missing_values={}\n",
    "\n",
    "for col in cols:\n",
    "    missing_values[col]=len(df[df[col]==0])"
   ]
  },
  {
   "cell_type": "code",
   "execution_count": 12,
   "id": "afd4dc1f",
   "metadata": {},
   "outputs": [
    {
     "data": {
      "text/plain": [
       "{'Pregnancies': 111,\n",
       " 'Glucose': 5,\n",
       " 'BloodPressure': 35,\n",
       " 'SkinThickness': 227,\n",
       " 'Insulin': 374,\n",
       " 'BMI': 11,\n",
       " 'DiabetesPedigreeFunction': 0,\n",
       " 'Age': 0,\n",
       " 'Outcome': 500}"
      ]
     },
     "execution_count": 12,
     "metadata": {},
     "output_type": "execute_result"
    }
   ],
   "source": [
    "# missing values in each columns\n",
    "missing_values"
   ]
  },
  {
   "cell_type": "code",
   "execution_count": 13,
   "id": "b192299a",
   "metadata": {},
   "outputs": [
    {
     "data": {
      "text/plain": [
       "[('Pregnancies', 111),\n",
       " ('Glucose', 5),\n",
       " ('BloodPressure', 35),\n",
       " ('SkinThickness', 227),\n",
       " ('Insulin', 374),\n",
       " ('BMI', 11),\n",
       " ('DiabetesPedigreeFunction', 0),\n",
       " ('Age', 0),\n",
       " ('Outcome', 500)]"
      ]
     },
     "execution_count": 13,
     "metadata": {},
     "output_type": "execute_result"
    }
   ],
   "source": [
    "# convert dict to list\n",
    "list(missing_values.items())"
   ]
  },
  {
   "cell_type": "markdown",
   "id": "d8c3b31f",
   "metadata": {},
   "source": [
    "Note:</br>\n",
    "    1. There are zero values in all columns except DiabetesPedigreeFunction & Age columns</br>\n",
    "    2. We don't need to consider outcome column, Its the target column(binary classification- 0 & 1 indicates the presence or absence)</br>"
   ]
  },
  {
   "cell_type": "code",
   "execution_count": 14,
   "id": "86078ae4",
   "metadata": {},
   "outputs": [
    {
     "data": {
      "text/html": [
       "<div>\n",
       "<style scoped>\n",
       "    .dataframe tbody tr th:only-of-type {\n",
       "        vertical-align: middle;\n",
       "    }\n",
       "\n",
       "    .dataframe tbody tr th {\n",
       "        vertical-align: top;\n",
       "    }\n",
       "\n",
       "    .dataframe thead th {\n",
       "        text-align: right;\n",
       "    }\n",
       "</style>\n",
       "<table border=\"1\" class=\"dataframe\">\n",
       "  <thead>\n",
       "    <tr style=\"text-align: right;\">\n",
       "      <th></th>\n",
       "      <th>column_name</th>\n",
       "      <th>Count_missing_Values</th>\n",
       "    </tr>\n",
       "  </thead>\n",
       "  <tbody>\n",
       "    <tr>\n",
       "      <th>0</th>\n",
       "      <td>Pregnancies</td>\n",
       "      <td>111</td>\n",
       "    </tr>\n",
       "    <tr>\n",
       "      <th>1</th>\n",
       "      <td>Glucose</td>\n",
       "      <td>5</td>\n",
       "    </tr>\n",
       "    <tr>\n",
       "      <th>2</th>\n",
       "      <td>BloodPressure</td>\n",
       "      <td>35</td>\n",
       "    </tr>\n",
       "    <tr>\n",
       "      <th>3</th>\n",
       "      <td>SkinThickness</td>\n",
       "      <td>227</td>\n",
       "    </tr>\n",
       "    <tr>\n",
       "      <th>4</th>\n",
       "      <td>Insulin</td>\n",
       "      <td>374</td>\n",
       "    </tr>\n",
       "    <tr>\n",
       "      <th>5</th>\n",
       "      <td>BMI</td>\n",
       "      <td>11</td>\n",
       "    </tr>\n",
       "    <tr>\n",
       "      <th>6</th>\n",
       "      <td>DiabetesPedigreeFunction</td>\n",
       "      <td>0</td>\n",
       "    </tr>\n",
       "    <tr>\n",
       "      <th>7</th>\n",
       "      <td>Age</td>\n",
       "      <td>0</td>\n",
       "    </tr>\n",
       "    <tr>\n",
       "      <th>8</th>\n",
       "      <td>Outcome</td>\n",
       "      <td>500</td>\n",
       "    </tr>\n",
       "  </tbody>\n",
       "</table>\n",
       "</div>"
      ],
      "text/plain": [
       "                column_name  Count_missing_Values\n",
       "0               Pregnancies                   111\n",
       "1                   Glucose                     5\n",
       "2             BloodPressure                    35\n",
       "3             SkinThickness                   227\n",
       "4                   Insulin                   374\n",
       "5                       BMI                    11\n",
       "6  DiabetesPedigreeFunction                     0\n",
       "7                       Age                     0\n",
       "8                   Outcome                   500"
      ]
     },
     "execution_count": 14,
     "metadata": {},
     "output_type": "execute_result"
    }
   ],
   "source": [
    "# Convert the dictionary to a pandas DataFrame\n",
    "missing_values = pd.DataFrame(list(missing_values.items()), columns=['column_name', 'Count_missing_Values'])\n",
    "missing_values"
   ]
  },
  {
   "cell_type": "code",
   "execution_count": 15,
   "id": "b100bf9c",
   "metadata": {},
   "outputs": [],
   "source": [
    "# calculate missining value %\n",
    "missing_values[\"%missing_vals\"]=(missing_values['Count_missing_Values']/df.shape[0]) * 100"
   ]
  },
  {
   "cell_type": "code",
   "execution_count": 16,
   "id": "57508127",
   "metadata": {},
   "outputs": [
    {
     "data": {
      "image/png": "[encoded data removed]",
      "text/plain": [
       "<Figure size 640x480 with 1 Axes>"
      ]
     },
     "metadata": {},
     "output_type": "display_data"
    }
   ],
   "source": [
    "# plot the graph\n",
    "plt.bar(missing_values[\"column_name\"],missing_values[\"%missing_vals\"])\n",
    "plt.title('Missing values %')\n",
    "plt.xlabel('columns')\n",
    "plt.ylabel('Percentage')\n",
    "plt.xticks(rotation=90)\n",
    "plt.tight_layout()"
   ]
  },
  {
   "cell_type": "markdown",
   "id": "a0c19ede",
   "metadata": {},
   "source": [
    "Note: </br>\n",
    "    1. There are morethan 40 % missing vaues in insulin column, but we cannot drop those values.our dataset is small & the insulin level is an important feature in prediction.</br>"
   ]
  },
  {
   "cell_type": "code",
   "execution_count": 17,
   "id": "d425dab3",
   "metadata": {},
   "outputs": [
    {
     "data": {
      "text/plain": [
       "17"
      ]
     },
     "execution_count": 17,
     "metadata": {},
     "output_type": "execute_result"
    }
   ],
   "source": [
    "df['Pregnancies'].nunique()"
   ]
  },
  {
   "cell_type": "code",
   "execution_count": 18,
   "id": "f3332063",
   "metadata": {},
   "outputs": [],
   "source": [
    "# lets see the unique value count in each column\n",
    "missing_values[\"Unique_values\"]=missing_values['column_name'].apply(lambda x: df[x].nunique())"
   ]
  },
  {
   "cell_type": "code",
   "execution_count": 19,
   "id": "dabacc2d",
   "metadata": {},
   "outputs": [
    {
     "data": {
      "text/html": [
       "<div>\n",
       "<style scoped>\n",
       "    .dataframe tbody tr th:only-of-type {\n",
       "        vertical-align: middle;\n",
       "    }\n",
       "\n",
       "    .dataframe tbody tr th {\n",
       "        vertical-align: top;\n",
       "    }\n",
       "\n",
       "    .dataframe thead th {\n",
       "        text-align: right;\n",
       "    }\n",
       "</style>\n",
       "<table border=\"1\" class=\"dataframe\">\n",
       "  <thead>\n",
       "    <tr style=\"text-align: right;\">\n",
       "      <th></th>\n",
       "      <th>column_name</th>\n",
       "      <th>Count_missing_Values</th>\n",
       "      <th>%missing_vals</th>\n",
       "      <th>Unique_values</th>\n",
       "    </tr>\n",
       "  </thead>\n",
       "  <tbody>\n",
       "    <tr>\n",
       "      <th>0</th>\n",
       "      <td>Pregnancies</td>\n",
       "      <td>111</td>\n",
       "      <td>14.453125</td>\n",
       "      <td>17</td>\n",
       "    </tr>\n",
       "    <tr>\n",
       "      <th>1</th>\n",
       "      <td>Glucose</td>\n",
       "      <td>5</td>\n",
       "      <td>0.651042</td>\n",
       "      <td>136</td>\n",
       "    </tr>\n",
       "    <tr>\n",
       "      <th>2</th>\n",
       "      <td>BloodPressure</td>\n",
       "      <td>35</td>\n",
       "      <td>4.557292</td>\n",
       "      <td>47</td>\n",
       "    </tr>\n",
       "    <tr>\n",
       "      <th>3</th>\n",
       "      <td>SkinThickness</td>\n",
       "      <td>227</td>\n",
       "      <td>29.557292</td>\n",
       "      <td>51</td>\n",
       "    </tr>\n",
       "    <tr>\n",
       "      <th>4</th>\n",
       "      <td>Insulin</td>\n",
       "      <td>374</td>\n",
       "      <td>48.697917</td>\n",
       "      <td>186</td>\n",
       "    </tr>\n",
       "    <tr>\n",
       "      <th>5</th>\n",
       "      <td>BMI</td>\n",
       "      <td>11</td>\n",
       "      <td>1.432292</td>\n",
       "      <td>248</td>\n",
       "    </tr>\n",
       "  </tbody>\n",
       "</table>\n",
       "</div>"
      ],
      "text/plain": [
       "     column_name  Count_missing_Values  %missing_vals  Unique_values\n",
       "0    Pregnancies                   111      14.453125             17\n",
       "1        Glucose                     5       0.651042            136\n",
       "2  BloodPressure                    35       4.557292             47\n",
       "3  SkinThickness                   227      29.557292             51\n",
       "4        Insulin                   374      48.697917            186\n",
       "5            BMI                    11       1.432292            248"
      ]
     },
     "execution_count": 19,
     "metadata": {},
     "output_type": "execute_result"
    }
   ],
   "source": [
    "# remove the rows-DiabetesPedigreeFunction,Age and Outcome \n",
    "missing_values=missing_values[:6]\n",
    "missing_values"
   ]
  },
  {
   "cell_type": "code",
   "execution_count": 20,
   "id": "7b044922",
   "metadata": {},
   "outputs": [],
   "source": [
    "# Lets fill the Pregnancy column with its mode(discrete numeric) & rest with its median value\n",
    "\n",
    "df.loc[df['Pregnancies']==0,'Pregnancies']=df['Pregnancies'].mode()[0]"
   ]
  },
  {
   "cell_type": "code",
   "execution_count": 21,
   "id": "04814003",
   "metadata": {},
   "outputs": [],
   "source": [
    "# Fill the remaining column with its median, all are continous numeric column\n",
    "\n",
    "for col in ['Glucose', 'BloodPressure', 'SkinThickness', 'Insulin', 'BMI']:\n",
    "    df.loc[df[col]==0,col]=df[col].median()"
   ]
  },
  {
   "cell_type": "code",
   "execution_count": 22,
   "id": "3052cb7c",
   "metadata": {},
   "outputs": [
    {
     "data": {
      "text/plain": [
       "{'Pregnancies': 0,\n",
       " 'Glucose': 0,\n",
       " 'BloodPressure': 0,\n",
       " 'SkinThickness': 0,\n",
       " 'Insulin': 0,\n",
       " 'BMI': 0,\n",
       " 'DiabetesPedigreeFunction': 0,\n",
       " 'Age': 0,\n",
       " 'Outcome': 500}"
      ]
     },
     "execution_count": 22,
     "metadata": {},
     "output_type": "execute_result"
    }
   ],
   "source": [
    "# verify the missing values have removed or not\n",
    "cols=df.columns\n",
    "missing_values={}\n",
    "\n",
    "for col in cols:\n",
    "    missing_values[col]=len(df[df[col]==0])\n",
    "    \n",
    "missing_values"
   ]
  },
  {
   "cell_type": "markdown",
   "id": "b1fabda0",
   "metadata": {},
   "source": [
    "# Correlation Between Features"
   ]
  },
  {
   "cell_type": "code",
   "execution_count": 23,
   "id": "c6353d15",
   "metadata": {},
   "outputs": [
    {
     "data": {
      "image/png": "[encoded data removed]",
      "text/plain": [
       "<Figure size 800x800 with 2 Axes>"
      ]
     },
     "metadata": {},
     "output_type": "display_data"
    }
   ],
   "source": [
    "# plot the heatmap to analyze correlation between features\n",
    "plt.figure(figsize=(8,8))\n",
    "sns.heatmap(df.corr(),linewidths=0.2,cmap='RdYlGn',annot=True)\n",
    "plt.title('Correlation between Features')\n",
    "plt.tight_layout()"
   ]
  },
  {
   "cell_type": "markdown",
   "id": "cae812d0",
   "metadata": {},
   "source": [
    "Note: from the above plot. we can see that there is no strong +ve and -ve correlation between features"
   ]
  },
  {
   "cell_type": "markdown",
   "id": "40f7e678",
   "metadata": {},
   "source": [
    "# Outlier detection"
   ]
  },
  {
   "cell_type": "code",
   "execution_count": 24,
   "id": "0edaa944",
   "metadata": {},
   "outputs": [
    {
     "data": {
      "text/html": [
       "<div>\n",
       "<style scoped>\n",
       "    .dataframe tbody tr th:only-of-type {\n",
       "        vertical-align: middle;\n",
       "    }\n",
       "\n",
       "    .dataframe tbody tr th {\n",
       "        vertical-align: top;\n",
       "    }\n",
       "\n",
       "    .dataframe thead th {\n",
       "        text-align: right;\n",
       "    }\n",
       "</style>\n",
       "<table border=\"1\" class=\"dataframe\">\n",
       "  <thead>\n",
       "    <tr style=\"text-align: right;\">\n",
       "      <th></th>\n",
       "      <th>Pregnancies</th>\n",
       "      <th>Glucose</th>\n",
       "      <th>BloodPressure</th>\n",
       "      <th>SkinThickness</th>\n",
       "      <th>Insulin</th>\n",
       "      <th>BMI</th>\n",
       "      <th>DiabetesPedigreeFunction</th>\n",
       "      <th>Age</th>\n",
       "      <th>Outcome</th>\n",
       "    </tr>\n",
       "  </thead>\n",
       "  <tbody>\n",
       "    <tr>\n",
       "      <th>0</th>\n",
       "      <td>6</td>\n",
       "      <td>148</td>\n",
       "      <td>72</td>\n",
       "      <td>35</td>\n",
       "      <td>30.5</td>\n",
       "      <td>33.6</td>\n",
       "      <td>0.627</td>\n",
       "      <td>50</td>\n",
       "      <td>1</td>\n",
       "    </tr>\n",
       "    <tr>\n",
       "      <th>1</th>\n",
       "      <td>1</td>\n",
       "      <td>85</td>\n",
       "      <td>66</td>\n",
       "      <td>29</td>\n",
       "      <td>30.5</td>\n",
       "      <td>26.6</td>\n",
       "      <td>0.351</td>\n",
       "      <td>31</td>\n",
       "      <td>0</td>\n",
       "    </tr>\n",
       "    <tr>\n",
       "      <th>2</th>\n",
       "      <td>8</td>\n",
       "      <td>183</td>\n",
       "      <td>64</td>\n",
       "      <td>23</td>\n",
       "      <td>30.5</td>\n",
       "      <td>23.3</td>\n",
       "      <td>0.672</td>\n",
       "      <td>32</td>\n",
       "      <td>1</td>\n",
       "    </tr>\n",
       "    <tr>\n",
       "      <th>3</th>\n",
       "      <td>1</td>\n",
       "      <td>89</td>\n",
       "      <td>66</td>\n",
       "      <td>23</td>\n",
       "      <td>94.0</td>\n",
       "      <td>28.1</td>\n",
       "      <td>0.167</td>\n",
       "      <td>21</td>\n",
       "      <td>0</td>\n",
       "    </tr>\n",
       "    <tr>\n",
       "      <th>4</th>\n",
       "      <td>1</td>\n",
       "      <td>137</td>\n",
       "      <td>40</td>\n",
       "      <td>35</td>\n",
       "      <td>168.0</td>\n",
       "      <td>43.1</td>\n",
       "      <td>2.288</td>\n",
       "      <td>33</td>\n",
       "      <td>1</td>\n",
       "    </tr>\n",
       "  </tbody>\n",
       "</table>\n",
       "</div>"
      ],
      "text/plain": [
       "   Pregnancies  Glucose  BloodPressure  SkinThickness  Insulin   BMI  \\\n",
       "0            6      148             72             35     30.5  33.6   \n",
       "1            1       85             66             29     30.5  26.6   \n",
       "2            8      183             64             23     30.5  23.3   \n",
       "3            1       89             66             23     94.0  28.1   \n",
       "4            1      137             40             35    168.0  43.1   \n",
       "\n",
       "   DiabetesPedigreeFunction  Age  Outcome  \n",
       "0                     0.627   50        1  \n",
       "1                     0.351   31        0  \n",
       "2                     0.672   32        1  \n",
       "3                     0.167   21        0  \n",
       "4                     2.288   33        1  "
      ]
     },
     "execution_count": 24,
     "metadata": {},
     "output_type": "execute_result"
    }
   ],
   "source": [
    "df.head()"
   ]
  },
  {
   "cell_type": "code",
   "execution_count": 25,
   "id": "df992f22",
   "metadata": {},
   "outputs": [
    {
     "data": {
      "image/png": "[encoded data removed]",
      "text/plain": [
       "<Figure size 640x480 with 1 Axes>"
      ]
     },
     "metadata": {},
     "output_type": "display_data"
    }
   ],
   "source": [
    "plt.boxplot(df)\n",
    "plt.show()"
   ]
  },
  {
   "cell_type": "code",
   "execution_count": 26,
   "id": "2f7b4859",
   "metadata": {},
   "outputs": [
    {
     "data": {
      "image/png": "[encoded data removed]",
      "text/plain": [
       "<Figure size 640x480 with 6 Axes>"
      ]
     },
     "metadata": {},
     "output_type": "display_data"
    }
   ],
   "source": [
    "# we need to handle outliers in continuous numerical column\n",
    "# outliers in Pregnancies, BloodPressure, SkinThickness\n",
    "\n",
    "plt.subplot(2,3,1)\n",
    "plt.title('BloodPressure')\n",
    "plt.boxplot(df['BloodPressure'])\n",
    "plt.subplot(2,3,2)\n",
    "plt.title('SkinThickness')\n",
    "plt.boxplot(df['SkinThickness'])\n",
    "plt.subplot(2,3,3)\n",
    "plt.title('BMI')\n",
    "plt.boxplot(df['BMI'])\n",
    "plt.subplot(2,3,4)\n",
    "plt.title('DiabetesPedigreeFunction')\n",
    "plt.boxplot(df['DiabetesPedigreeFunction'])\n",
    "plt.subplot(2,3,5)\n",
    "plt.title('Age')\n",
    "plt.boxplot(df['Age'])\n",
    "plt.subplot(2,3,6)\n",
    "plt.title('Insulin')\n",
    "plt.boxplot(df['Insulin'])\n",
    "plt.tight_layout()"
   ]
  },
  {
   "cell_type": "markdown",
   "id": "3f705305",
   "metadata": {},
   "source": [
    "Note: Since this is a medical data, we can go for log transformation technique to handle the outlier data"
   ]
  },
  {
   "cell_type": "code",
   "execution_count": 27,
   "id": "d9f9eff1",
   "metadata": {},
   "outputs": [
    {
     "data": {
      "image/png": "[encoded data removed]",
      "text/plain": [
       "<Figure size 640x480 with 2 Axes>"
      ]
     },
     "metadata": {},
     "output_type": "display_data"
    }
   ],
   "source": [
    "# LOgarithemic Transformation\n",
    "# Logarithmic transformations can reduce the impact of outliers by compressing the data’s range and bringing extreme values closer to the mean.\n",
    "# Ensure that all data values are positive, as the logarithm of zero or negative numbers is undefined.\n",
    "# display the effect of the log transformaton\n",
    "# If necessary, add a constant to all data points to make them positive\n",
    "plt.subplot(1,2,1)\n",
    "plt.hist(df['Insulin'])\n",
    "plt.subplot(1,2,2)\n",
    "plt.hist(np.log(df['Insulin']))\n",
    "plt.show()"
   ]
  },
  {
   "cell_type": "markdown",
   "id": "f9c05248",
   "metadata": {},
   "source": [
    "Note: Logarithmic transformations can help normalize positively skewed data"
   ]
  },
  {
   "cell_type": "code",
   "execution_count": 28,
   "id": "b0f4ddef",
   "metadata": {},
   "outputs": [],
   "source": [
    "# add a constant to DiabetesPedigreeFunction to make them positive\n",
    "df['DiabetesPedigreeFunction']=df['DiabetesPedigreeFunction']+3"
   ]
  },
  {
   "cell_type": "code",
   "execution_count": 29,
   "id": "c83efb9e",
   "metadata": {},
   "outputs": [],
   "source": [
    "# Lets do the log transformation \n",
    "cols=['Glucose', 'BloodPressure', 'SkinThickness', 'Insulin','BMI', 'DiabetesPedigreeFunction', 'Age']\n",
    "\n",
    "for col in cols:\n",
    "    df[col]=np.log(df[col])"
   ]
  },
  {
   "cell_type": "code",
   "execution_count": 30,
   "id": "1c9f7fc9",
   "metadata": {},
   "outputs": [
    {
     "data": {
      "text/html": [
       "<div>\n",
       "<style scoped>\n",
       "    .dataframe tbody tr th:only-of-type {\n",
       "        vertical-align: middle;\n",
       "    }\n",
       "\n",
       "    .dataframe tbody tr th {\n",
       "        vertical-align: top;\n",
       "    }\n",
       "\n",
       "    .dataframe thead th {\n",
       "        text-align: right;\n",
       "    }\n",
       "</style>\n",
       "<table border=\"1\" class=\"dataframe\">\n",
       "  <thead>\n",
       "    <tr style=\"text-align: right;\">\n",
       "      <th></th>\n",
       "      <th>Pregnancies</th>\n",
       "      <th>Glucose</th>\n",
       "      <th>BloodPressure</th>\n",
       "      <th>SkinThickness</th>\n",
       "      <th>Insulin</th>\n",
       "      <th>BMI</th>\n",
       "      <th>DiabetesPedigreeFunction</th>\n",
       "      <th>Age</th>\n",
       "      <th>Outcome</th>\n",
       "    </tr>\n",
       "  </thead>\n",
       "  <tbody>\n",
       "  </tbody>\n",
       "</table>\n",
       "</div>"
      ],
      "text/plain": [
       "Empty DataFrame\n",
       "Columns: [Pregnancies, Glucose, BloodPressure, SkinThickness, Insulin, BMI, DiabetesPedigreeFunction, Age, Outcome]\n",
       "Index: []"
      ]
     },
     "execution_count": 30,
     "metadata": {},
     "output_type": "execute_result"
    }
   ],
   "source": [
    "# lets check for -ve values\n",
    "for cols in df.columns.tolist():\n",
    "    df_neg = df[df[cols] < 0]\n",
    "    \n",
    "df_neg"
   ]
  },
  {
   "cell_type": "markdown",
   "id": "185c52c2",
   "metadata": {},
   "source": [
    "no negative values"
   ]
  },
  {
   "cell_type": "code",
   "execution_count": 31,
   "id": "e2554456",
   "metadata": {},
   "outputs": [
    {
     "data": {
      "text/html": [
       "<div>\n",
       "<style scoped>\n",
       "    .dataframe tbody tr th:only-of-type {\n",
       "        vertical-align: middle;\n",
       "    }\n",
       "\n",
       "    .dataframe tbody tr th {\n",
       "        vertical-align: top;\n",
       "    }\n",
       "\n",
       "    .dataframe thead th {\n",
       "        text-align: right;\n",
       "    }\n",
       "</style>\n",
       "<table border=\"1\" class=\"dataframe\">\n",
       "  <thead>\n",
       "    <tr style=\"text-align: right;\">\n",
       "      <th></th>\n",
       "      <th>Pregnancies</th>\n",
       "      <th>Glucose</th>\n",
       "      <th>BloodPressure</th>\n",
       "      <th>SkinThickness</th>\n",
       "      <th>Insulin</th>\n",
       "      <th>BMI</th>\n",
       "      <th>DiabetesPedigreeFunction</th>\n",
       "      <th>Age</th>\n",
       "      <th>Outcome</th>\n",
       "    </tr>\n",
       "  </thead>\n",
       "  <tbody>\n",
       "    <tr>\n",
       "      <th>0</th>\n",
       "      <td>6</td>\n",
       "      <td>4.997212</td>\n",
       "      <td>4.276666</td>\n",
       "      <td>3.555348</td>\n",
       "      <td>3.417727</td>\n",
       "      <td>3.514526</td>\n",
       "      <td>1.288406</td>\n",
       "      <td>3.912023</td>\n",
       "      <td>1</td>\n",
       "    </tr>\n",
       "    <tr>\n",
       "      <th>1</th>\n",
       "      <td>1</td>\n",
       "      <td>4.442651</td>\n",
       "      <td>4.189655</td>\n",
       "      <td>3.367296</td>\n",
       "      <td>3.417727</td>\n",
       "      <td>3.280911</td>\n",
       "      <td>1.209259</td>\n",
       "      <td>3.433987</td>\n",
       "      <td>0</td>\n",
       "    </tr>\n",
       "    <tr>\n",
       "      <th>2</th>\n",
       "      <td>8</td>\n",
       "      <td>5.209486</td>\n",
       "      <td>4.158883</td>\n",
       "      <td>3.135494</td>\n",
       "      <td>3.417727</td>\n",
       "      <td>3.148453</td>\n",
       "      <td>1.300736</td>\n",
       "      <td>3.465736</td>\n",
       "      <td>1</td>\n",
       "    </tr>\n",
       "  </tbody>\n",
       "</table>\n",
       "</div>"
      ],
      "text/plain": [
       "   Pregnancies   Glucose  BloodPressure  SkinThickness   Insulin       BMI  \\\n",
       "0            6  4.997212       4.276666       3.555348  3.417727  3.514526   \n",
       "1            1  4.442651       4.189655       3.367296  3.417727  3.280911   \n",
       "2            8  5.209486       4.158883       3.135494  3.417727  3.148453   \n",
       "\n",
       "   DiabetesPedigreeFunction       Age  Outcome  \n",
       "0                  1.288406  3.912023        1  \n",
       "1                  1.209259  3.433987        0  \n",
       "2                  1.300736  3.465736        1  "
      ]
     },
     "execution_count": 31,
     "metadata": {},
     "output_type": "execute_result"
    }
   ],
   "source": [
    "df.head(3) # outliers have been handled"
   ]
  },
  {
   "cell_type": "markdown",
   "id": "f22cd42a",
   "metadata": {},
   "source": [
    "Note: we don't need to do the scaling part, because data has been compressed to logarithmic scale"
   ]
  },
  {
   "cell_type": "markdown",
   "id": "d044c5a1",
   "metadata": {},
   "source": [
    "# Encoding"
   ]
  },
  {
   "cell_type": "markdown",
   "id": "6208ee20",
   "metadata": {},
   "source": [
    "There is no categorical column, so no need for Encoding."
   ]
  },
  {
   "cell_type": "markdown",
   "id": "00dc6930",
   "metadata": {},
   "source": [
    "# Scaling"
   ]
  },
  {
   "cell_type": "markdown",
   "id": "c09bf1ed",
   "metadata": {},
   "source": [
    "No need to do the scaling part, because data has been compressed to logarithmic scale."
   ]
  },
  {
   "cell_type": "markdown",
   "id": "b8265923",
   "metadata": {},
   "source": [
    "# Modeling"
   ]
  },
  {
   "cell_type": "markdown",
   "id": "511c3a1f",
   "metadata": {},
   "source": [
    "Lets compare the performance of different models.\n",
    "\n",
    "1. Logistic Regression</br>\n",
    "2. KNN</br>\n",
    "3. SVM</br>\n",
    "4. Naive Bayes</br>\n",
    "5. DecisionTreeClassifier</br>\n",
    "6. RandomForestClassifier</br>\n",
    "7. Adaboost"
   ]
  },
  {
   "cell_type": "code",
   "execution_count": 32,
   "id": "2ae6156a",
   "metadata": {},
   "outputs": [],
   "source": [
    "# import necesary libraries for models & metric eveluation\n",
    "from sklearn.linear_model import LogisticRegression\n",
    "from sklearn.naive_bayes import GaussianNB\n",
    "from sklearn.neighbors import KNeighborsClassifier\n",
    "from sklearn.svm import SVC\n",
    "# f1 score is the harmonic mean of precision & recall\n",
    "from sklearn.metrics import accuracy_score,f1_score\n",
    "from sklearn.model_selection import train_test_split"
   ]
  },
  {
   "cell_type": "code",
   "execution_count": 33,
   "id": "2582ae0c",
   "metadata": {},
   "outputs": [],
   "source": [
    "# split data into dependant & independant features\n",
    "y=df['Outcome']\n",
    "x=df.drop('Outcome', axis=1)"
   ]
  },
  {
   "cell_type": "code",
   "execution_count": 34,
   "id": "7de67167",
   "metadata": {},
   "outputs": [],
   "source": [
    "# split teh data into train & test set\n",
    "x_train,x_test,y_train,y_test=train_test_split(x,y,test_size=0.2,random_state=42)"
   ]
  },
  {
   "cell_type": "code",
   "execution_count": 35,
   "id": "7eb9c233",
   "metadata": {},
   "outputs": [],
   "source": [
    "# find the optimum value of k in knn\n",
    "accuracy_score_k=[]\n",
    "for i in range(3,15):\n",
    "    knn=KNeighborsClassifier(n_neighbors=i,metric='minkowski',p=2)\n",
    "    knn.fit(x_train,y_train)\n",
    "    y_pred=knn.predict(x_test)\n",
    "    accuracy_score_k.append(accuracy_score(y_test,y_pred))"
   ]
  },
  {
   "cell_type": "code",
   "execution_count": 36,
   "id": "19307556",
   "metadata": {},
   "outputs": [
    {
     "data": {
      "text/plain": [
       "Text(0.5, 1.0, 'Accuracy score vs k')"
      ]
     },
     "execution_count": 36,
     "metadata": {},
     "output_type": "execute_result"
    },
    {
     "data": {
      "image/png": "[encoded data removed]",
      "text/plain": [
       "<Figure size 640x480 with 1 Axes>"
      ]
     },
     "metadata": {},
     "output_type": "display_data"
    }
   ],
   "source": [
    "# lets plot the graph to find the k value with high accuracy\n",
    "plt.plot(range(3,15),accuracy_score_k)\n",
    "plt.title('Accuracy score vs k')"
   ]
  },
  {
   "cell_type": "markdown",
   "id": "3eb6a1bb",
   "metadata": {},
   "source": [
    "Note: Optimum value of k is 9"
   ]
  },
  {
   "cell_type": "code",
   "execution_count": 37,
   "id": "53591624",
   "metadata": {},
   "outputs": [
    {
     "name": "stdout",
     "output_type": "stream",
     "text": [
      "kernal_linear : 0.7272727272727273\n",
      "kernal_rbf : 0.7142857142857143\n",
      "kernal_poly degree 3 : 0.7727272727272727\n",
      "kernal_poly degree 5 : 0.7207792207792207\n"
     ]
    }
   ],
   "source": [
    "# lets check teh accuracy of SVC using different kernel\n",
    "\n",
    "svc=SVC(kernel='linear')\n",
    "svc.fit(x_train,y_train)\n",
    "y_pred=svc.predict(x_test)\n",
    "print('kernal_linear :',accuracy_score(y_test,y_pred))\n",
    "\n",
    "svc=SVC(kernel='rbf')\n",
    "svc.fit(x_train,y_train)\n",
    "y_pred=svc.predict(x_test)\n",
    "print('kernal_rbf :',accuracy_score(y_test,y_pred))\n",
    "\n",
    "svc=SVC(kernel='poly', degree=3)\n",
    "svc.fit(x_train,y_train)\n",
    "y_pred=svc.predict(x_test)\n",
    "print('kernal_poly degree 3 :',accuracy_score(y_test,y_pred))\n",
    "\n",
    "svc=SVC(kernel='poly', degree=5)\n",
    "svc.fit(x_train,y_train)\n",
    "y_pred=svc.predict(x_test)\n",
    "print('kernal_poly degree 5 :',accuracy_score(y_test,y_pred))"
   ]
  },
  {
   "cell_type": "markdown",
   "id": "d4b6a316",
   "metadata": {},
   "source": [
    "Note: we can see that polynomial with degree 3 performed compared to other"
   ]
  },
  {
   "cell_type": "code",
   "execution_count": 38,
   "id": "632dbd3c",
   "metadata": {},
   "outputs": [
    {
     "name": "stdout",
     "output_type": "stream",
     "text": [
      "with entropy 0.7207792207792207 0.6324786324786325\n",
      "with gini 0.7142857142857143 0.6271186440677966\n"
     ]
    }
   ],
   "source": [
    "# Decision tree classifier with entropy and gini as criterion\n",
    "dt=DecisionTreeClassifier(criterion='entropy', random_state=42)\n",
    "dt.fit(x_train,y_train)\n",
    "y_pred=dt.predict(x_test)\n",
    "print(\"with entropy\",accuracy_score(y_test,y_pred),f1_score(y_test,y_pred))\n",
    "\n",
    "dt_g=DecisionTreeClassifier(criterion='gini',random_state=42)\n",
    "dt_g.fit(x_train,y_train)\n",
    "y_pred=dt_g.predict(x_test)\n",
    "print(\"with gini\",accuracy_score(y_test,y_pred),f1_score(y_test,y_pred))"
   ]
  },
  {
   "cell_type": "markdown",
   "id": "1fd08f1e",
   "metadata": {},
   "source": [
    "Note: we can go for DT with entropy as criterion, becuase it returned high accuracy & f1 score compared to other."
   ]
  },
  {
   "cell_type": "code",
   "execution_count": 39,
   "id": "f8705189",
   "metadata": {},
   "outputs": [
    {
     "name": "stdout",
     "output_type": "stream",
     "text": [
      "0.7727272727272727 0.6902654867256638\n",
      "0.7532467532467533 0.6666666666666665\n"
     ]
    }
   ],
   "source": [
    "# Radom Forest CLassifier n_estimators as 100 & 200\n",
    "rf=RandomForestClassifier(n_estimators=100,random_state=42)\n",
    "rf.fit(x_train,y_train)\n",
    "y_pred=rf.predict(x_test)\n",
    "print(accuracy_score(y_test,y_pred),f1_score(y_test,y_pred))\n",
    "\n",
    "rf2=RandomForestClassifier(n_estimators=200,random_state=42)\n",
    "rf2.fit(x_train,y_train)\n",
    "y_pred=rf2.predict(x_test)\n",
    "print(accuracy_score(y_test,y_pred),f1_score(y_test,y_pred))"
   ]
  },
  {
   "cell_type": "markdown",
   "id": "fe9ab425",
   "metadata": {},
   "source": [
    "Note: we can go for RF with n_estimators as 100, becuase it returned high accuracy & f1 score compared to other."
   ]
  },
  {
   "cell_type": "code",
   "execution_count": 40,
   "id": "1f7f9622",
   "metadata": {},
   "outputs": [
    {
     "name": "stdout",
     "output_type": "stream",
     "text": [
      "0.7662337662337663 0.6785714285714286\n",
      "0.7727272727272727 0.6788990825688074\n",
      "0.7597402597402597 0.6605504587155963\n"
     ]
    }
   ],
   "source": [
    "# # Radom Forest CLassifier n_estimators as 10 ,20, & 30\n",
    "ada=AdaBoostClassifier(n_estimators=10,random_state=42)\n",
    "ada.fit(x_train,y_train)\n",
    "y_pred=ada.predict(x_test)\n",
    "print(accuracy_score(y_test,y_pred),f1_score(y_test,y_pred))\n",
    "\n",
    "ada2=AdaBoostClassifier(n_estimators=20,random_state=42)\n",
    "ada2.fit(x_train,y_train)\n",
    "y_pred=ada2.predict(x_test)\n",
    "print(accuracy_score(y_test,y_pred),f1_score(y_test,y_pred))\n",
    "\n",
    "ada2=AdaBoostClassifier(n_estimators=30,random_state=42)\n",
    "ada2.fit(x_train,y_train)\n",
    "y_pred=ada2.predict(x_test)\n",
    "print(accuracy_score(y_test,y_pred),f1_score(y_test,y_pred))"
   ]
  },
  {
   "cell_type": "markdown",
   "id": "70eec875",
   "metadata": {},
   "source": [
    "Note: we can go for Adaboost with n_estimators as 20, becuase it returned high accuracy & f1 score compared to other."
   ]
  },
  {
   "cell_type": "code",
   "execution_count": 41,
   "id": "0f68b132",
   "metadata": {},
   "outputs": [],
   "source": [
    "# create model's object and store it in a list\n",
    "lr=LogisticRegression()\n",
    "knn=KNeighborsClassifier(n_neighbors=9,metric='minkowski',p=2)\n",
    "gb=GaussianNB()\n",
    "svc=SVC(kernel='poly', degree=3)\n",
    "dt=DecisionTreeClassifier(criterion='entropy')\n",
    "rf=RandomForestClassifier(n_estimators=100,random_state=42)\n",
    "ada2=AdaBoostClassifier(n_estimators=20,random_state=42)\n",
    "\n",
    "models=[lr,gb,knn,svc,dt,rf,ada2]"
   ]
  },
  {
   "cell_type": "code",
   "execution_count": 42,
   "id": "c53a755d",
   "metadata": {},
   "outputs": [],
   "source": [
    "# a function to calculate the accuracy & f1 score\n",
    "def predict_var(model_object):\n",
    "    model_object.fit(x_train,y_train)\n",
    "    y_pred=model_object.predict(x_test)\n",
    "    acc=accuracy_score(y_test,y_pred)\n",
    "    f1=f1_score(y_test,y_pred)\n",
    "    \n",
    "    return acc,f1"
   ]
  },
  {
   "cell_type": "code",
   "execution_count": 43,
   "id": "9d5128b3",
   "metadata": {},
   "outputs": [],
   "source": [
    "# a dictionary to store the model evaluation score\n",
    "model_performance={}"
   ]
  },
  {
   "cell_type": "code",
   "execution_count": 44,
   "id": "e5125f3a",
   "metadata": {},
   "outputs": [],
   "source": [
    "# calculating the score for each model\n",
    "for i in models:\n",
    "    acc,f1=predict_var(i)\n",
    "    # extracting the model name\n",
    "    i=str(i).split('(')[0]\n",
    "    # store the value\n",
    "    model_performance[i]=[acc,f1]\n",
    "    "
   ]
  },
  {
   "cell_type": "code",
   "execution_count": 45,
   "id": "cfee7fa9",
   "metadata": {},
   "outputs": [
    {
     "data": {
      "text/plain": [
       "{'LogisticRegression': [0.7467532467532467, 0.6355140186915889],\n",
       " 'GaussianNB': [0.7272727272727273, 0.6440677966101694],\n",
       " 'KNeighborsClassifier': [0.7142857142857143, 0.5416666666666666],\n",
       " 'SVC': [0.7727272727272727, 0.6666666666666666],\n",
       " 'DecisionTreeClassifier': [0.7402597402597403, 0.6551724137931035],\n",
       " 'RandomForestClassifier': [0.7727272727272727, 0.6902654867256638],\n",
       " 'AdaBoostClassifier': [0.7727272727272727, 0.6788990825688074]}"
      ]
     },
     "execution_count": 45,
     "metadata": {},
     "output_type": "execute_result"
    }
   ],
   "source": [
    "# performance score for different model\n",
    "model_performance"
   ]
  },
  {
   "cell_type": "code",
   "execution_count": 46,
   "id": "e1e0c78b",
   "metadata": {},
   "outputs": [],
   "source": [
    "# convert the model_performance to df\n",
    "model_performance_df = pd.DataFrame(model_performance)\n",
    "# Set the index\n",
    "model_performance_df.index = ['f1', 'acc']"
   ]
  },
  {
   "cell_type": "code",
   "execution_count": 47,
   "id": "94879008",
   "metadata": {},
   "outputs": [
    {
     "data": {
      "text/html": [
       "<div>\n",
       "<style scoped>\n",
       "    .dataframe tbody tr th:only-of-type {\n",
       "        vertical-align: middle;\n",
       "    }\n",
       "\n",
       "    .dataframe tbody tr th {\n",
       "        vertical-align: top;\n",
       "    }\n",
       "\n",
       "    .dataframe thead th {\n",
       "        text-align: right;\n",
       "    }\n",
       "</style>\n",
       "<table border=\"1\" class=\"dataframe\">\n",
       "  <thead>\n",
       "    <tr style=\"text-align: right;\">\n",
       "      <th></th>\n",
       "      <th>LogisticRegression</th>\n",
       "      <th>GaussianNB</th>\n",
       "      <th>KNeighborsClassifier</th>\n",
       "      <th>SVC</th>\n",
       "      <th>DecisionTreeClassifier</th>\n",
       "      <th>RandomForestClassifier</th>\n",
       "      <th>AdaBoostClassifier</th>\n",
       "    </tr>\n",
       "  </thead>\n",
       "  <tbody>\n",
       "    <tr>\n",
       "      <th>f1</th>\n",
       "      <td>0.746753</td>\n",
       "      <td>0.727273</td>\n",
       "      <td>0.714286</td>\n",
       "      <td>0.772727</td>\n",
       "      <td>0.740260</td>\n",
       "      <td>0.772727</td>\n",
       "      <td>0.772727</td>\n",
       "    </tr>\n",
       "    <tr>\n",
       "      <th>acc</th>\n",
       "      <td>0.635514</td>\n",
       "      <td>0.644068</td>\n",
       "      <td>0.541667</td>\n",
       "      <td>0.666667</td>\n",
       "      <td>0.655172</td>\n",
       "      <td>0.690265</td>\n",
       "      <td>0.678899</td>\n",
       "    </tr>\n",
       "  </tbody>\n",
       "</table>\n",
       "</div>"
      ],
      "text/plain": [
       "     LogisticRegression  GaussianNB  KNeighborsClassifier       SVC  \\\n",
       "f1             0.746753    0.727273              0.714286  0.772727   \n",
       "acc            0.635514    0.644068              0.541667  0.666667   \n",
       "\n",
       "     DecisionTreeClassifier  RandomForestClassifier  AdaBoostClassifier  \n",
       "f1                 0.740260                0.772727            0.772727  \n",
       "acc                0.655172                0.690265            0.678899  "
      ]
     },
     "execution_count": 47,
     "metadata": {},
     "output_type": "execute_result"
    }
   ],
   "source": [
    "model_performance_df"
   ]
  },
  {
   "cell_type": "markdown",
   "id": "35cfd3b8",
   "metadata": {},
   "source": [
    "Note:<br>\n",
    "    1. By comparing the model performance, Support vector classifier,Random Forest Classifier & AdaBoostClassifier better performed for this dataset. highest accuracy & f1_score observed for  Random Forest Classifier."
   ]
  }
 ],
 "metadata": {
  "kernelspec": {
   "display_name": "Python 3 (ipykernel)",
   "language": "python",
   "name": "python3"
  },
  "language_info": {
   "codemirror_mode": {
    "name": "ipython",
    "version": 3
   },
   "file_extension": ".py",
   "mimetype": "text/x-python",
   "name": "python",
   "nbconvert_exporter": "python",
   "pygments_lexer": "ipython3",
   "version": "3.11.5"
  }
 },
 "nbformat": 4,
 "nbformat_minor": 5
}
