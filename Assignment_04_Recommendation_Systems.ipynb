{
 "cells": [
  {
   "cell_type": "code",
   "execution_count": 1,
   "id": "0cd537a6",
   "metadata": {},
   "outputs": [],
   "source": [
    "# import necessary libraries\n",
    "import numpy as np\n",
    "import pandas as pd"
   ]
  },
  {
   "cell_type": "markdown",
   "id": "d8cc08a5",
   "metadata": {},
   "source": [
    "# Familiarisation of the data"
   ]
  },
  {
   "cell_type": "code",
   "execution_count": 2,
   "id": "87de0529",
   "metadata": {},
   "outputs": [],
   "source": [
    "# read the data\n",
    "data=pd.read_csv('jokes-data.csv')"
   ]
  },
  {
   "cell_type": "code",
   "execution_count": 3,
   "id": "57afa506",
   "metadata": {},
   "outputs": [],
   "source": [
    "# copy data to variable df\n",
    "df=data.copy()"
   ]
  },
  {
   "cell_type": "code",
   "execution_count": 4,
   "id": "d25416a9",
   "metadata": {},
   "outputs": [
    {
     "data": {
      "text/html": [
       "<div>\n",
       "<style scoped>\n",
       "    .dataframe tbody tr th:only-of-type {\n",
       "        vertical-align: middle;\n",
       "    }\n",
       "\n",
       "    .dataframe tbody tr th {\n",
       "        vertical-align: top;\n",
       "    }\n",
       "\n",
       "    .dataframe thead th {\n",
       "        text-align: right;\n",
       "    }\n",
       "</style>\n",
       "<table border=\"1\" class=\"dataframe\">\n",
       "  <thead>\n",
       "    <tr style=\"text-align: right;\">\n",
       "      <th></th>\n",
       "      <th>id</th>\n",
       "      <th>user_id</th>\n",
       "      <th>joke_id</th>\n",
       "      <th>Rating</th>\n",
       "    </tr>\n",
       "  </thead>\n",
       "  <tbody>\n",
       "    <tr>\n",
       "      <th>0</th>\n",
       "      <td>31030_110</td>\n",
       "      <td>31030</td>\n",
       "      <td>110</td>\n",
       "      <td>2.750</td>\n",
       "    </tr>\n",
       "    <tr>\n",
       "      <th>1</th>\n",
       "      <td>16144_109</td>\n",
       "      <td>16144</td>\n",
       "      <td>109</td>\n",
       "      <td>5.094</td>\n",
       "    </tr>\n",
       "    <tr>\n",
       "      <th>2</th>\n",
       "      <td>23098_6</td>\n",
       "      <td>23098</td>\n",
       "      <td>6</td>\n",
       "      <td>-6.438</td>\n",
       "    </tr>\n",
       "  </tbody>\n",
       "</table>\n",
       "</div>"
      ],
      "text/plain": [
       "          id  user_id  joke_id  Rating\n",
       "0  31030_110    31030      110   2.750\n",
       "1  16144_109    16144      109   5.094\n",
       "2    23098_6    23098        6  -6.438"
      ]
     },
     "execution_count": 4,
     "metadata": {},
     "output_type": "execute_result"
    }
   ],
   "source": [
    "# print first 3 rows of the data\n",
    "df.head(3)"
   ]
  },
  {
   "cell_type": "markdown",
   "id": "5b4cdbf3",
   "metadata": {},
   "source": [
    "data contains user_id,joke_id,Rating."
   ]
  },
  {
   "cell_type": "code",
   "execution_count": 5,
   "id": "7baf5bae",
   "metadata": {},
   "outputs": [
    {
     "data": {
      "text/plain": [
       "(1092059, 4)"
      ]
     },
     "execution_count": 5,
     "metadata": {},
     "output_type": "execute_result"
    }
   ],
   "source": [
    "# lets check the shape of the data\n",
    "df.shape"
   ]
  },
  {
   "cell_type": "markdown",
   "id": "fc67c14e",
   "metadata": {},
   "source": [
    "dataset contains 1092059 rows & 4 columns"
   ]
  },
  {
   "cell_type": "code",
   "execution_count": 6,
   "id": "f2811958",
   "metadata": {},
   "outputs": [
    {
     "data": {
      "text/plain": [
       "40863"
      ]
     },
     "execution_count": 6,
     "metadata": {},
     "output_type": "execute_result"
    }
   ],
   "source": [
    "# lets find the unique userid & joke id\n",
    "df['user_id'].nunique()"
   ]
  },
  {
   "cell_type": "markdown",
   "id": "49f95410",
   "metadata": {},
   "source": [
    "We have only 40863 user_ID. because same user can give ratings to different jokes"
   ]
  },
  {
   "cell_type": "code",
   "execution_count": 7,
   "id": "9081d462",
   "metadata": {},
   "outputs": [
    {
     "data": {
      "text/plain": [
       "139"
      ]
     },
     "execution_count": 7,
     "metadata": {},
     "output_type": "execute_result"
    }
   ],
   "source": [
    "# Lets check the unique joke_id\n",
    "df['joke_id'].nunique()"
   ]
  },
  {
   "cell_type": "markdown",
   "id": "4a6ffae3",
   "metadata": {},
   "source": [
    "In this case also, we have only 139 jokes, but multiple user can give ratings to same jokes."
   ]
  },
  {
   "cell_type": "code",
   "execution_count": 8,
   "id": "53df1a0d",
   "metadata": {},
   "outputs": [
    {
     "data": {
      "text/plain": [
       "0"
      ]
     },
     "execution_count": 8,
     "metadata": {},
     "output_type": "execute_result"
    }
   ],
   "source": [
    "# check the duplicated rows\n",
    "df.duplicated().sum()"
   ]
  },
  {
   "cell_type": "markdown",
   "id": "4aa66ae0",
   "metadata": {},
   "source": [
    "There is no duplicated rows. each row is unique."
   ]
  },
  {
   "cell_type": "code",
   "execution_count": 9,
   "id": "15483d75",
   "metadata": {},
   "outputs": [
    {
     "data": {
      "text/plain": [
       "id         0\n",
       "user_id    0\n",
       "joke_id    0\n",
       "Rating     0\n",
       "dtype: int64"
      ]
     },
     "execution_count": 9,
     "metadata": {},
     "output_type": "execute_result"
    }
   ],
   "source": [
    "# check for null values\n",
    "df.isna().sum()"
   ]
  },
  {
   "cell_type": "markdown",
   "id": "8bf4ac75",
   "metadata": {},
   "source": [
    "There is no null values in the dataset."
   ]
  },
  {
   "cell_type": "code",
   "execution_count": 10,
   "id": "98bfbeea",
   "metadata": {},
   "outputs": [
    {
     "data": {
      "text/html": [
       "<div>\n",
       "<style scoped>\n",
       "    .dataframe tbody tr th:only-of-type {\n",
       "        vertical-align: middle;\n",
       "    }\n",
       "\n",
       "    .dataframe tbody tr th {\n",
       "        vertical-align: top;\n",
       "    }\n",
       "\n",
       "    .dataframe thead th {\n",
       "        text-align: right;\n",
       "    }\n",
       "</style>\n",
       "<table border=\"1\" class=\"dataframe\">\n",
       "  <thead>\n",
       "    <tr style=\"text-align: right;\">\n",
       "      <th></th>\n",
       "      <th>id</th>\n",
       "      <th>user_id</th>\n",
       "      <th>joke_id</th>\n",
       "      <th>Rating</th>\n",
       "    </tr>\n",
       "  </thead>\n",
       "  <tbody>\n",
       "    <tr>\n",
       "      <th>1092056</th>\n",
       "      <td>10580_81</td>\n",
       "      <td>10580</td>\n",
       "      <td>81</td>\n",
       "      <td>2.000</td>\n",
       "    </tr>\n",
       "    <tr>\n",
       "      <th>1092057</th>\n",
       "      <td>31007_119</td>\n",
       "      <td>31007</td>\n",
       "      <td>119</td>\n",
       "      <td>8.906</td>\n",
       "    </tr>\n",
       "    <tr>\n",
       "      <th>1092058</th>\n",
       "      <td>8420_98</td>\n",
       "      <td>8420</td>\n",
       "      <td>98</td>\n",
       "      <td>-3.344</td>\n",
       "    </tr>\n",
       "  </tbody>\n",
       "</table>\n",
       "</div>"
      ],
      "text/plain": [
       "                id  user_id  joke_id  Rating\n",
       "1092056   10580_81    10580       81   2.000\n",
       "1092057  31007_119    31007      119   8.906\n",
       "1092058    8420_98     8420       98  -3.344"
      ]
     },
     "execution_count": 10,
     "metadata": {},
     "output_type": "execute_result"
    }
   ],
   "source": [
    "# lets check the last 3 rows of the dataset\n",
    "df.tail(3)"
   ]
  },
  {
   "cell_type": "markdown",
   "id": "1b06370f",
   "metadata": {},
   "source": [
    "# Build a collaborative filtering based recommendation system on jokes rating"
   ]
  },
  {
   "cell_type": "code",
   "execution_count": 11,
   "id": "2247dde6",
   "metadata": {},
   "outputs": [
    {
     "name": "stdout",
     "output_type": "stream",
     "text": [
      "Min value given as rating -10.0\n",
      "Max value given as rating 10.0\n"
     ]
    }
   ],
   "source": [
    "# lets check Rating range\n",
    "print('Min value given as rating',df['Rating'].min())\n",
    "print('Max value given as rating',df['Rating'].max())\n"
   ]
  },
  {
   "cell_type": "markdown",
   "id": "766a2bd0",
   "metadata": {},
   "source": [
    "So, rating range is between -10 to 10"
   ]
  },
  {
   "cell_type": "code",
   "execution_count": 12,
   "id": "d229b051",
   "metadata": {},
   "outputs": [
    {
     "name": "stdout",
     "output_type": "stream",
     "text": [
      "Min no. of reviews 7\n",
      "MAx no. of reviews 93\n"
     ]
    }
   ],
   "source": [
    "# lets check the no of reviews done by each user\n",
    "print('Min no. of reviews',df['user_id'].value_counts().min())\n",
    "print('MAx no. of reviews',df['user_id'].value_counts().max())\n"
   ]
  },
  {
   "cell_type": "markdown",
   "id": "8ec04944",
   "metadata": {},
   "source": [
    "Lowest no of review is 7 and highest review count is 93."
   ]
  },
  {
   "cell_type": "markdown",
   "id": "ecaa0ea2",
   "metadata": {},
   "source": [
    "in collaborative filtering, we can set our rules for the recommendation engine</br>\n",
    "Rules:</br>\n",
    "    1. user should be a genuine type- we can set limit 50. user should have reviewd atleast 30 joke.</br>\n",
    "    2. rating should be greater than 40</br>\n",
    "    3. rating should be a positiive value"
   ]
  },
  {
   "cell_type": "code",
   "execution_count": 13,
   "id": "e22e051f",
   "metadata": {},
   "outputs": [],
   "source": [
    "# lets drop id column\n",
    "df.drop('id',axis=1,inplace=True)"
   ]
  },
  {
   "cell_type": "code",
   "execution_count": 14,
   "id": "0099960f",
   "metadata": {},
   "outputs": [],
   "source": [
    "# lets filter the data based on user. we will consider only those user reviews that are genuine\n",
    "# we will consider only those user who gave rating morethan 30 times\n",
    "x=df.groupby('user_id')['Rating'].count()>30"
   ]
  },
  {
   "cell_type": "code",
   "execution_count": 15,
   "id": "7585aa42",
   "metadata": {},
   "outputs": [],
   "source": [
    "# extract indices\n",
    "valid_users=x[x].index"
   ]
  },
  {
   "cell_type": "code",
   "execution_count": 16,
   "id": "245d91c0",
   "metadata": {},
   "outputs": [],
   "source": [
    "# lets filter data using this user_id\n",
    "filtered_data=df[df['user_id'].isin(valid_users)]"
   ]
  },
  {
   "cell_type": "code",
   "execution_count": 17,
   "id": "0e46ff66",
   "metadata": {},
   "outputs": [
    {
     "data": {
      "text/html": [
       "<div>\n",
       "<style scoped>\n",
       "    .dataframe tbody tr th:only-of-type {\n",
       "        vertical-align: middle;\n",
       "    }\n",
       "\n",
       "    .dataframe tbody tr th {\n",
       "        vertical-align: top;\n",
       "    }\n",
       "\n",
       "    .dataframe thead th {\n",
       "        text-align: right;\n",
       "    }\n",
       "</style>\n",
       "<table border=\"1\" class=\"dataframe\">\n",
       "  <thead>\n",
       "    <tr style=\"text-align: right;\">\n",
       "      <th></th>\n",
       "      <th>user_id</th>\n",
       "      <th>joke_id</th>\n",
       "      <th>Rating</th>\n",
       "    </tr>\n",
       "  </thead>\n",
       "  <tbody>\n",
       "    <tr>\n",
       "      <th>0</th>\n",
       "      <td>31030</td>\n",
       "      <td>110</td>\n",
       "      <td>2.750</td>\n",
       "    </tr>\n",
       "    <tr>\n",
       "      <th>3</th>\n",
       "      <td>14273</td>\n",
       "      <td>86</td>\n",
       "      <td>4.406</td>\n",
       "    </tr>\n",
       "    <tr>\n",
       "      <th>4</th>\n",
       "      <td>18419</td>\n",
       "      <td>134</td>\n",
       "      <td>9.375</td>\n",
       "    </tr>\n",
       "  </tbody>\n",
       "</table>\n",
       "</div>"
      ],
      "text/plain": [
       "   user_id  joke_id  Rating\n",
       "0    31030      110   2.750\n",
       "3    14273       86   4.406\n",
       "4    18419      134   9.375"
      ]
     },
     "execution_count": 17,
     "metadata": {},
     "output_type": "execute_result"
    }
   ],
   "source": [
    "# first 3 rows of the datset\n",
    "filtered_data.head(3)"
   ]
  },
  {
   "cell_type": "code",
   "execution_count": 18,
   "id": "835fd544",
   "metadata": {},
   "outputs": [
    {
     "data": {
      "text/plain": [
       "(662889, 3)"
      ]
     },
     "execution_count": 18,
     "metadata": {},
     "output_type": "execute_result"
    }
   ],
   "source": [
    "# lets check the shape\n",
    "filtered_data.shape"
   ]
  },
  {
   "cell_type": "code",
   "execution_count": 19,
   "id": "f2d4ab11",
   "metadata": {},
   "outputs": [],
   "source": [
    "# from this datset, filter again for those jokes got 40 reviews\n",
    "y=filtered_data.groupby('joke_id')['Rating'].count()>40"
   ]
  },
  {
   "cell_type": "code",
   "execution_count": 20,
   "id": "d16e8d4a",
   "metadata": {},
   "outputs": [],
   "source": [
    "# extract indices\n",
    "famous_jokes=y[y].index"
   ]
  },
  {
   "cell_type": "code",
   "execution_count": 21,
   "id": "0f76aef2",
   "metadata": {},
   "outputs": [],
   "source": [
    "# lets filter the data using this joke_id\n",
    "final_ratings = filtered_data[filtered_data['joke_id'].isin(famous_jokes)]"
   ]
  },
  {
   "cell_type": "code",
   "execution_count": 22,
   "id": "ab8181e4",
   "metadata": {},
   "outputs": [
    {
     "data": {
      "text/plain": [
       "(662889, 3)"
      ]
     },
     "execution_count": 22,
     "metadata": {},
     "output_type": "execute_result"
    }
   ],
   "source": [
    "# lets check the shape\n",
    "final_ratings.shape"
   ]
  },
  {
   "cell_type": "code",
   "execution_count": 23,
   "id": "17808617",
   "metadata": {},
   "outputs": [
    {
     "data": {
      "text/html": [
       "<div>\n",
       "<style scoped>\n",
       "    .dataframe tbody tr th:only-of-type {\n",
       "        vertical-align: middle;\n",
       "    }\n",
       "\n",
       "    .dataframe tbody tr th {\n",
       "        vertical-align: top;\n",
       "    }\n",
       "\n",
       "    .dataframe thead th {\n",
       "        text-align: right;\n",
       "    }\n",
       "</style>\n",
       "<table border=\"1\" class=\"dataframe\">\n",
       "  <thead>\n",
       "    <tr style=\"text-align: right;\">\n",
       "      <th></th>\n",
       "      <th>user_id</th>\n",
       "      <th>joke_id</th>\n",
       "      <th>Rating</th>\n",
       "    </tr>\n",
       "  </thead>\n",
       "  <tbody>\n",
       "    <tr>\n",
       "      <th>0</th>\n",
       "      <td>31030</td>\n",
       "      <td>110</td>\n",
       "      <td>2.750</td>\n",
       "    </tr>\n",
       "    <tr>\n",
       "      <th>3</th>\n",
       "      <td>14273</td>\n",
       "      <td>86</td>\n",
       "      <td>4.406</td>\n",
       "    </tr>\n",
       "    <tr>\n",
       "      <th>4</th>\n",
       "      <td>18419</td>\n",
       "      <td>134</td>\n",
       "      <td>9.375</td>\n",
       "    </tr>\n",
       "  </tbody>\n",
       "</table>\n",
       "</div>"
      ],
      "text/plain": [
       "   user_id  joke_id  Rating\n",
       "0    31030      110   2.750\n",
       "3    14273       86   4.406\n",
       "4    18419      134   9.375"
      ]
     },
     "execution_count": 23,
     "metadata": {},
     "output_type": "execute_result"
    }
   ],
   "source": [
    "# first 3 rows \n",
    "final_ratings.head(3)"
   ]
  },
  {
   "cell_type": "code",
   "execution_count": 24,
   "id": "ebd2c525",
   "metadata": {},
   "outputs": [],
   "source": [
    "final_ratings=final_ratings[final_ratings['Rating']>0]"
   ]
  },
  {
   "cell_type": "code",
   "execution_count": 25,
   "id": "d9d18350",
   "metadata": {},
   "outputs": [],
   "source": [
    "# Lets convert this final_ratings to vectors using pivot function\n",
    "# do pivot to make it jokeid on rows & user_id in columns\n",
    "pivot1=final_ratings.pivot_table(index='joke_id',columns='user_id',values='Rating')"
   ]
  },
  {
   "cell_type": "code",
   "execution_count": 26,
   "id": "a0263eaf",
   "metadata": {},
   "outputs": [
    {
     "data": {
      "text/html": [
       "<div>\n",
       "<style scoped>\n",
       "    .dataframe tbody tr th:only-of-type {\n",
       "        vertical-align: middle;\n",
       "    }\n",
       "\n",
       "    .dataframe tbody tr th {\n",
       "        vertical-align: top;\n",
       "    }\n",
       "\n",
       "    .dataframe thead th {\n",
       "        text-align: right;\n",
       "    }\n",
       "</style>\n",
       "<table border=\"1\" class=\"dataframe\">\n",
       "  <thead>\n",
       "    <tr style=\"text-align: right;\">\n",
       "      <th>user_id</th>\n",
       "      <th>1</th>\n",
       "      <th>4</th>\n",
       "      <th>6</th>\n",
       "      <th>7</th>\n",
       "      <th>9</th>\n",
       "      <th>12</th>\n",
       "      <th>14</th>\n",
       "      <th>18</th>\n",
       "      <th>21</th>\n",
       "      <th>26</th>\n",
       "      <th>...</th>\n",
       "      <th>40822</th>\n",
       "      <th>40823</th>\n",
       "      <th>40827</th>\n",
       "      <th>40828</th>\n",
       "      <th>40836</th>\n",
       "      <th>40845</th>\n",
       "      <th>40846</th>\n",
       "      <th>40847</th>\n",
       "      <th>40848</th>\n",
       "      <th>40863</th>\n",
       "    </tr>\n",
       "    <tr>\n",
       "      <th>joke_id</th>\n",
       "      <th></th>\n",
       "      <th></th>\n",
       "      <th></th>\n",
       "      <th></th>\n",
       "      <th></th>\n",
       "      <th></th>\n",
       "      <th></th>\n",
       "      <th></th>\n",
       "      <th></th>\n",
       "      <th></th>\n",
       "      <th></th>\n",
       "      <th></th>\n",
       "      <th></th>\n",
       "      <th></th>\n",
       "      <th></th>\n",
       "      <th></th>\n",
       "      <th></th>\n",
       "      <th></th>\n",
       "      <th></th>\n",
       "      <th></th>\n",
       "      <th></th>\n",
       "    </tr>\n",
       "  </thead>\n",
       "  <tbody>\n",
       "    <tr>\n",
       "      <th>1</th>\n",
       "      <td>0.219</td>\n",
       "      <td>6.906</td>\n",
       "      <td>NaN</td>\n",
       "      <td>6.219</td>\n",
       "      <td>NaN</td>\n",
       "      <td>NaN</td>\n",
       "      <td>0.469</td>\n",
       "      <td>6.312</td>\n",
       "      <td>NaN</td>\n",
       "      <td>NaN</td>\n",
       "      <td>...</td>\n",
       "      <td>NaN</td>\n",
       "      <td>NaN</td>\n",
       "      <td>NaN</td>\n",
       "      <td>NaN</td>\n",
       "      <td>NaN</td>\n",
       "      <td>NaN</td>\n",
       "      <td>NaN</td>\n",
       "      <td>NaN</td>\n",
       "      <td>NaN</td>\n",
       "      <td>NaN</td>\n",
       "    </tr>\n",
       "    <tr>\n",
       "      <th>2</th>\n",
       "      <td>NaN</td>\n",
       "      <td>NaN</td>\n",
       "      <td>NaN</td>\n",
       "      <td>NaN</td>\n",
       "      <td>0.281</td>\n",
       "      <td>NaN</td>\n",
       "      <td>NaN</td>\n",
       "      <td>NaN</td>\n",
       "      <td>NaN</td>\n",
       "      <td>NaN</td>\n",
       "      <td>...</td>\n",
       "      <td>NaN</td>\n",
       "      <td>NaN</td>\n",
       "      <td>0.812</td>\n",
       "      <td>NaN</td>\n",
       "      <td>2.438</td>\n",
       "      <td>NaN</td>\n",
       "      <td>NaN</td>\n",
       "      <td>NaN</td>\n",
       "      <td>1.375</td>\n",
       "      <td>NaN</td>\n",
       "    </tr>\n",
       "    <tr>\n",
       "      <th>3</th>\n",
       "      <td>NaN</td>\n",
       "      <td>NaN</td>\n",
       "      <td>NaN</td>\n",
       "      <td>NaN</td>\n",
       "      <td>0.781</td>\n",
       "      <td>NaN</td>\n",
       "      <td>NaN</td>\n",
       "      <td>5.469</td>\n",
       "      <td>NaN</td>\n",
       "      <td>NaN</td>\n",
       "      <td>...</td>\n",
       "      <td>NaN</td>\n",
       "      <td>NaN</td>\n",
       "      <td>NaN</td>\n",
       "      <td>3.500</td>\n",
       "      <td>2.531</td>\n",
       "      <td>3.094</td>\n",
       "      <td>NaN</td>\n",
       "      <td>NaN</td>\n",
       "      <td>NaN</td>\n",
       "      <td>NaN</td>\n",
       "    </tr>\n",
       "    <tr>\n",
       "      <th>4</th>\n",
       "      <td>NaN</td>\n",
       "      <td>NaN</td>\n",
       "      <td>NaN</td>\n",
       "      <td>NaN</td>\n",
       "      <td>NaN</td>\n",
       "      <td>NaN</td>\n",
       "      <td>NaN</td>\n",
       "      <td>NaN</td>\n",
       "      <td>NaN</td>\n",
       "      <td>NaN</td>\n",
       "      <td>...</td>\n",
       "      <td>NaN</td>\n",
       "      <td>NaN</td>\n",
       "      <td>NaN</td>\n",
       "      <td>NaN</td>\n",
       "      <td>8.125</td>\n",
       "      <td>NaN</td>\n",
       "      <td>NaN</td>\n",
       "      <td>1.344</td>\n",
       "      <td>NaN</td>\n",
       "      <td>NaN</td>\n",
       "    </tr>\n",
       "    <tr>\n",
       "      <th>5</th>\n",
       "      <td>0.875</td>\n",
       "      <td>NaN</td>\n",
       "      <td>NaN</td>\n",
       "      <td>0.531</td>\n",
       "      <td>NaN</td>\n",
       "      <td>NaN</td>\n",
       "      <td>NaN</td>\n",
       "      <td>NaN</td>\n",
       "      <td>NaN</td>\n",
       "      <td>NaN</td>\n",
       "      <td>...</td>\n",
       "      <td>NaN</td>\n",
       "      <td>NaN</td>\n",
       "      <td>NaN</td>\n",
       "      <td>0.125</td>\n",
       "      <td>2.594</td>\n",
       "      <td>8.000</td>\n",
       "      <td>NaN</td>\n",
       "      <td>5.344</td>\n",
       "      <td>0.125</td>\n",
       "      <td>NaN</td>\n",
       "    </tr>\n",
       "    <tr>\n",
       "      <th>...</th>\n",
       "      <td>...</td>\n",
       "      <td>...</td>\n",
       "      <td>...</td>\n",
       "      <td>...</td>\n",
       "      <td>...</td>\n",
       "      <td>...</td>\n",
       "      <td>...</td>\n",
       "      <td>...</td>\n",
       "      <td>...</td>\n",
       "      <td>...</td>\n",
       "      <td>...</td>\n",
       "      <td>...</td>\n",
       "      <td>...</td>\n",
       "      <td>...</td>\n",
       "      <td>...</td>\n",
       "      <td>...</td>\n",
       "      <td>...</td>\n",
       "      <td>...</td>\n",
       "      <td>...</td>\n",
       "      <td>...</td>\n",
       "      <td>...</td>\n",
       "    </tr>\n",
       "    <tr>\n",
       "      <th>135</th>\n",
       "      <td>NaN</td>\n",
       "      <td>NaN</td>\n",
       "      <td>NaN</td>\n",
       "      <td>NaN</td>\n",
       "      <td>NaN</td>\n",
       "      <td>NaN</td>\n",
       "      <td>NaN</td>\n",
       "      <td>NaN</td>\n",
       "      <td>NaN</td>\n",
       "      <td>NaN</td>\n",
       "      <td>...</td>\n",
       "      <td>8.281</td>\n",
       "      <td>8.906</td>\n",
       "      <td>NaN</td>\n",
       "      <td>NaN</td>\n",
       "      <td>NaN</td>\n",
       "      <td>NaN</td>\n",
       "      <td>NaN</td>\n",
       "      <td>3.469</td>\n",
       "      <td>3.625</td>\n",
       "      <td>8.375</td>\n",
       "    </tr>\n",
       "    <tr>\n",
       "      <th>136</th>\n",
       "      <td>NaN</td>\n",
       "      <td>NaN</td>\n",
       "      <td>NaN</td>\n",
       "      <td>NaN</td>\n",
       "      <td>NaN</td>\n",
       "      <td>NaN</td>\n",
       "      <td>NaN</td>\n",
       "      <td>NaN</td>\n",
       "      <td>NaN</td>\n",
       "      <td>NaN</td>\n",
       "      <td>...</td>\n",
       "      <td>7.375</td>\n",
       "      <td>NaN</td>\n",
       "      <td>NaN</td>\n",
       "      <td>NaN</td>\n",
       "      <td>8.562</td>\n",
       "      <td>NaN</td>\n",
       "      <td>NaN</td>\n",
       "      <td>NaN</td>\n",
       "      <td>NaN</td>\n",
       "      <td>8.938</td>\n",
       "    </tr>\n",
       "    <tr>\n",
       "      <th>137</th>\n",
       "      <td>NaN</td>\n",
       "      <td>NaN</td>\n",
       "      <td>NaN</td>\n",
       "      <td>NaN</td>\n",
       "      <td>NaN</td>\n",
       "      <td>NaN</td>\n",
       "      <td>NaN</td>\n",
       "      <td>NaN</td>\n",
       "      <td>NaN</td>\n",
       "      <td>NaN</td>\n",
       "      <td>...</td>\n",
       "      <td>9.000</td>\n",
       "      <td>3.219</td>\n",
       "      <td>NaN</td>\n",
       "      <td>NaN</td>\n",
       "      <td>NaN</td>\n",
       "      <td>3.656</td>\n",
       "      <td>9.438</td>\n",
       "      <td>NaN</td>\n",
       "      <td>NaN</td>\n",
       "      <td>8.281</td>\n",
       "    </tr>\n",
       "    <tr>\n",
       "      <th>138</th>\n",
       "      <td>NaN</td>\n",
       "      <td>NaN</td>\n",
       "      <td>NaN</td>\n",
       "      <td>NaN</td>\n",
       "      <td>NaN</td>\n",
       "      <td>NaN</td>\n",
       "      <td>NaN</td>\n",
       "      <td>NaN</td>\n",
       "      <td>NaN</td>\n",
       "      <td>NaN</td>\n",
       "      <td>...</td>\n",
       "      <td>9.781</td>\n",
       "      <td>NaN</td>\n",
       "      <td>NaN</td>\n",
       "      <td>NaN</td>\n",
       "      <td>NaN</td>\n",
       "      <td>5.906</td>\n",
       "      <td>NaN</td>\n",
       "      <td>4.688</td>\n",
       "      <td>NaN</td>\n",
       "      <td>NaN</td>\n",
       "    </tr>\n",
       "    <tr>\n",
       "      <th>139</th>\n",
       "      <td>NaN</td>\n",
       "      <td>NaN</td>\n",
       "      <td>NaN</td>\n",
       "      <td>NaN</td>\n",
       "      <td>NaN</td>\n",
       "      <td>NaN</td>\n",
       "      <td>NaN</td>\n",
       "      <td>NaN</td>\n",
       "      <td>NaN</td>\n",
       "      <td>NaN</td>\n",
       "      <td>...</td>\n",
       "      <td>9.500</td>\n",
       "      <td>8.000</td>\n",
       "      <td>NaN</td>\n",
       "      <td>NaN</td>\n",
       "      <td>NaN</td>\n",
       "      <td>6.094</td>\n",
       "      <td>NaN</td>\n",
       "      <td>2.062</td>\n",
       "      <td>1.000</td>\n",
       "      <td>NaN</td>\n",
       "    </tr>\n",
       "  </tbody>\n",
       "</table>\n",
       "<p>139 rows × 11287 columns</p>\n",
       "</div>"
      ],
      "text/plain": [
       "user_id  1      4      6      7      9      12     14     18     21     26     \\\n",
       "joke_id                                                                         \n",
       "1        0.219  6.906    NaN  6.219    NaN    NaN  0.469  6.312    NaN    NaN   \n",
       "2          NaN    NaN    NaN    NaN  0.281    NaN    NaN    NaN    NaN    NaN   \n",
       "3          NaN    NaN    NaN    NaN  0.781    NaN    NaN  5.469    NaN    NaN   \n",
       "4          NaN    NaN    NaN    NaN    NaN    NaN    NaN    NaN    NaN    NaN   \n",
       "5        0.875    NaN    NaN  0.531    NaN    NaN    NaN    NaN    NaN    NaN   \n",
       "...        ...    ...    ...    ...    ...    ...    ...    ...    ...    ...   \n",
       "135        NaN    NaN    NaN    NaN    NaN    NaN    NaN    NaN    NaN    NaN   \n",
       "136        NaN    NaN    NaN    NaN    NaN    NaN    NaN    NaN    NaN    NaN   \n",
       "137        NaN    NaN    NaN    NaN    NaN    NaN    NaN    NaN    NaN    NaN   \n",
       "138        NaN    NaN    NaN    NaN    NaN    NaN    NaN    NaN    NaN    NaN   \n",
       "139        NaN    NaN    NaN    NaN    NaN    NaN    NaN    NaN    NaN    NaN   \n",
       "\n",
       "user_id  ...  40822  40823  40827  40828  40836  40845  40846  40847  40848  \\\n",
       "joke_id  ...                                                                  \n",
       "1        ...    NaN    NaN    NaN    NaN    NaN    NaN    NaN    NaN    NaN   \n",
       "2        ...    NaN    NaN  0.812    NaN  2.438    NaN    NaN    NaN  1.375   \n",
       "3        ...    NaN    NaN    NaN  3.500  2.531  3.094    NaN    NaN    NaN   \n",
       "4        ...    NaN    NaN    NaN    NaN  8.125    NaN    NaN  1.344    NaN   \n",
       "5        ...    NaN    NaN    NaN  0.125  2.594  8.000    NaN  5.344  0.125   \n",
       "...      ...    ...    ...    ...    ...    ...    ...    ...    ...    ...   \n",
       "135      ...  8.281  8.906    NaN    NaN    NaN    NaN    NaN  3.469  3.625   \n",
       "136      ...  7.375    NaN    NaN    NaN  8.562    NaN    NaN    NaN    NaN   \n",
       "137      ...  9.000  3.219    NaN    NaN    NaN  3.656  9.438    NaN    NaN   \n",
       "138      ...  9.781    NaN    NaN    NaN    NaN  5.906    NaN  4.688    NaN   \n",
       "139      ...  9.500  8.000    NaN    NaN    NaN  6.094    NaN  2.062  1.000   \n",
       "\n",
       "user_id  40863  \n",
       "joke_id         \n",
       "1          NaN  \n",
       "2          NaN  \n",
       "3          NaN  \n",
       "4          NaN  \n",
       "5          NaN  \n",
       "...        ...  \n",
       "135      8.375  \n",
       "136      8.938  \n",
       "137      8.281  \n",
       "138        NaN  \n",
       "139        NaN  \n",
       "\n",
       "[139 rows x 11287 columns]"
      ]
     },
     "execution_count": 26,
     "metadata": {},
     "output_type": "execute_result"
    }
   ],
   "source": [
    "# Lets print the pivot table\n",
    "pivot1"
   ]
  },
  {
   "cell_type": "code",
   "execution_count": 27,
   "id": "ae0fcda5",
   "metadata": {},
   "outputs": [],
   "source": [
    "# before applying cosine similiariity , we need to handle the misisng values\n",
    "# so replace nan with 0\n",
    "pivot1.fillna('0',inplace=True)"
   ]
  },
  {
   "cell_type": "code",
   "execution_count": 28,
   "id": "e3906891",
   "metadata": {},
   "outputs": [],
   "source": [
    "# Do the cosine similiarity to calculate similiarity score between the vectors\n",
    "from sklearn.metrics.pairwise import cosine_similarity"
   ]
  },
  {
   "cell_type": "code",
   "execution_count": 29,
   "id": "dbb9684a",
   "metadata": {},
   "outputs": [],
   "source": [
    "# calculate cosine similiarity_score\n",
    "similiarity_score=cosine_similarity(pivot1)"
   ]
  },
  {
   "cell_type": "code",
   "execution_count": 30,
   "id": "9b36b591",
   "metadata": {},
   "outputs": [
    {
     "data": {
      "text/plain": [
       "array([[1.        , 0.04929195, 0.06509902, ..., 0.00772449, 0.00394203,\n",
       "        0.00654602],\n",
       "       [0.04929195, 1.        , 0.33617447, ..., 0.20793893, 0.27405183,\n",
       "        0.24307759],\n",
       "       [0.06509902, 0.33617447, 1.        , ..., 0.28324717, 0.33211691,\n",
       "        0.29545946],\n",
       "       ...,\n",
       "       [0.00772449, 0.20793893, 0.28324717, ..., 1.        , 0.41780454,\n",
       "        0.42255829],\n",
       "       [0.00394203, 0.27405183, 0.33211691, ..., 0.41780454, 1.        ,\n",
       "        0.47845143],\n",
       "       [0.00654602, 0.24307759, 0.29545946, ..., 0.42255829, 0.47845143,\n",
       "        1.        ]])"
      ]
     },
     "execution_count": 30,
     "metadata": {},
     "output_type": "execute_result"
    }
   ],
   "source": [
    "# print the score\n",
    "similiarity_score"
   ]
  },
  {
   "cell_type": "code",
   "execution_count": 31,
   "id": "70175616",
   "metadata": {},
   "outputs": [],
   "source": [
    "pd.options.display.float_format='{:,.2f}'.format"
   ]
  },
  {
   "cell_type": "code",
   "execution_count": 32,
   "id": "453b7217",
   "metadata": {},
   "outputs": [
    {
     "data": {
      "text/plain": [
       "0.9999999999999999"
      ]
     },
     "execution_count": 32,
     "metadata": {},
     "output_type": "execute_result"
    }
   ],
   "source": [
    "similiarity_score[0][0]"
   ]
  },
  {
   "cell_type": "code",
   "execution_count": 33,
   "id": "b1b96534",
   "metadata": {},
   "outputs": [
    {
     "data": {
      "text/plain": [
       "(139, 139)"
      ]
     },
     "execution_count": 33,
     "metadata": {},
     "output_type": "execute_result"
    }
   ],
   "source": [
    "# shape of similiarity_score\n",
    "similiarity_score.shape"
   ]
  },
  {
   "cell_type": "code",
   "execution_count": 34,
   "id": "26fdea15",
   "metadata": {},
   "outputs": [
    {
     "data": {
      "text/plain": [
       "[(0, 0.9999999999999999),\n",
       " (1, 0.049291948931704216),\n",
       " (2, 0.06509902119511526),\n",
       " (3, 0.04378304865741081),\n",
       " (4, 0.03365224933601356),\n",
       " (5, 0.04165642677341311),\n",
       " (6, 0.059366855999738254),\n",
       " (7, 0.02610664604441116),\n",
       " (8, 0.03894762029357893),\n",
       " (9, 0.4875881573384897),\n",
       " (10, 0.07589835846788523),\n",
       " (11, 0.04090556912405909),\n",
       " (12, 0.053854830824470803),\n",
       " (13, 0.06302256345499972),\n",
       " (14, 0.04226101482503605),\n",
       " (15, 0.05807953689875331),\n",
       " (16, 0.40666982417089104),\n",
       " (17, 0.04241621200830606),\n",
       " (18, 0.04331867378229827),\n",
       " (19, 0.04915923201530282),\n",
       " (20, 0.38254799901806225),\n",
       " (21, 0.05310709019466626),\n",
       " (22, 0.037313511588670634),\n",
       " (23, 0.05041754391744829),\n",
       " (24, 0.06676547405001176),\n",
       " (25, 0.04144351060939817),\n",
       " (26, 0.02676398323325723),\n",
       " (27, 0.04140441882615632),\n",
       " (28, 0.054474974017887534),\n",
       " (29, 0.06106429174760494),\n",
       " (30, 0.0491021429435081),\n",
       " (31, 0.07022407910213829),\n",
       " (32, 0.3051476708257401),\n",
       " (33, 0.040819048650673206),\n",
       " (34, 0.038041350071968585),\n",
       " (35, 0.036398877587252854),\n",
       " (36, 0.05383454709880592),\n",
       " (37, 0.039652137311899927),\n",
       " (38, 0.0520075552482215),\n",
       " (39, 0.041423380576740144),\n",
       " (40, 0.2547088861617098),\n",
       " (41, 0.2341112256872827),\n",
       " (42, 0.06914792002432019),\n",
       " (43, 0.0574648372766394),\n",
       " (44, 0.050139412324616356),\n",
       " (45, 0.05032444312275295),\n",
       " (46, 0.03742163490745582),\n",
       " (47, 0.05248954852538962),\n",
       " (48, 0.03529359514727941),\n",
       " (49, 0.03917257799794989),\n",
       " (50, 0.3716815266151468),\n",
       " (51, 0.040222320029806954),\n",
       " (52, 0.03594870388594755),\n",
       " (53, 0.06825363483835013),\n",
       " (54, 0.07170527110749059),\n",
       " (55, 0.03899665445418203),\n",
       " (56, 0.0605528851153235),\n",
       " (57, 0.05147230341993195),\n",
       " (58, 0.05972192176338974),\n",
       " (59, 0.03876918756893967),\n",
       " (60, 0.033173804772241085),\n",
       " (61, 0.044429252329902136),\n",
       " (62, 0.2514597118589227),\n",
       " (63, 0.05972330548021107),\n",
       " (64, 0.0360582550137028),\n",
       " (65, 0.06981131148531354),\n",
       " (66, 0.03608515980983712),\n",
       " (67, 0.04673055732383876),\n",
       " (68, 0.05620048953683238),\n",
       " (69, 0.2468100267604562),\n",
       " (70, 0.06319856877213528),\n",
       " (71, 0.04847839159471648),\n",
       " (72, 0.05345890509915933),\n",
       " (73, 0.05487060778808882),\n",
       " (74, 0.055208496365051145),\n",
       " (75, 0.03996330975879438),\n",
       " (76, 0.04934156014205779),\n",
       " (77, 0.06381365608185709),\n",
       " (78, 0.05325585247780365),\n",
       " (79, 0.03552594210685082),\n",
       " (80, 0.05076017310399926),\n",
       " (81, 0.03993124893635608),\n",
       " (82, 0.052889606825704774),\n",
       " (83, 0.026390809945598562),\n",
       " (84, 0.05382360083650258),\n",
       " (85, 0.04409150017405867),\n",
       " (86, 0.04298396497830599),\n",
       " (87, 0.05275620645772916),\n",
       " (88, 0.03301309397399579),\n",
       " (89, 0.21443245501752733),\n",
       " (90, 0.04204187888597459),\n",
       " (91, 0.03352913980884374),\n",
       " (92, 0.04676036020334973),\n",
       " (93, 0.02857959460771441),\n",
       " (94, 0.039118222178504074),\n",
       " (95, 0.037128526713291976),\n",
       " (96, 0.042288158724354374),\n",
       " (97, 0.02921901784350649),\n",
       " (98, 0.04073686370432909),\n",
       " (99, 0.03777721471931466),\n",
       " (100, 0.028044140077493215),\n",
       " (101, 0.02710371760002177),\n",
       " (102, 0.019390653001156583),\n",
       " (103, 0.023831117882704),\n",
       " (104, 0.06390817837826314),\n",
       " (105, 0.2228032766812663),\n",
       " (106, 0.020997800470726163),\n",
       " (107, 0.050472629127714524),\n",
       " (108, 0.024524781944010164),\n",
       " (109, 0.05250357385996622),\n",
       " (110, 0.033227470813904855),\n",
       " (111, 0.027284180693942985),\n",
       " (112, 0.04262724054782218),\n",
       " (113, 0.02341954797952521),\n",
       " (114, 0.03290122409957509),\n",
       " (115, 0.03351354962577764),\n",
       " (116, 0.044549582122005105),\n",
       " (117, 0.0387943015744011),\n",
       " (118, 0.040100134500408946),\n",
       " (119, 0.038985160851253024),\n",
       " (120, 0.009032206854914755),\n",
       " (121, 0.007334927524483006),\n",
       " (122, 0.006671452356224408),\n",
       " (123, 0.007169205018568394),\n",
       " (124, 0.006475845391405599),\n",
       " (125, 0.00838467941543644),\n",
       " (126, 0.001852265530533678),\n",
       " (127, 0.001215329271173931),\n",
       " (128, 0.001518998014953073),\n",
       " (129, 0.014236388907006757),\n",
       " (130, 0.007797981468020231),\n",
       " (131, 0.0068165104261791246),\n",
       " (132, 0.004893159930769001),\n",
       " (133, 0.006961669782424388),\n",
       " (134, 0.008062439109238467),\n",
       " (135, 0.007995410920832485),\n",
       " (136, 0.007724493754288421),\n",
       " (137, 0.0039420345331974095),\n",
       " (138, 0.006546018590610648)]"
      ]
     },
     "execution_count": 34,
     "metadata": {},
     "output_type": "execute_result"
    }
   ],
   "source": [
    "list(enumerate(similiarity_score[0]))"
   ]
  },
  {
   "cell_type": "code",
   "execution_count": 35,
   "id": "df8cda69",
   "metadata": {},
   "outputs": [
    {
     "data": {
      "text/plain": [
       "[(9, 0.4875881573384897),\n",
       " (16, 0.40666982417089104),\n",
       " (20, 0.38254799901806225),\n",
       " (50, 0.3716815266151468),\n",
       " (32, 0.3051476708257401)]"
      ]
     },
     "execution_count": 35,
     "metadata": {},
     "output_type": "execute_result"
    }
   ],
   "source": [
    "# lets filter the 5 most similiar jokes\n",
    "sorted(list(enumerate(similiarity_score[0])) ,key=lambda x:x[1],reverse=True)[1:6] "
   ]
  },
  {
   "cell_type": "code",
   "execution_count": 36,
   "id": "df0a8e29",
   "metadata": {},
   "outputs": [],
   "source": [
    "# create a function\n",
    "def return_similiar_5_jokes(joke_id):\n",
    "\n",
    "    index = np.where(pivot1.index==joke_id)[0][0]\n",
    "    similar_items = sorted(list(enumerate(similiarity_score[index])), key = lambda x:x[1], reverse=True)[1:6]\n",
    "    data = []\n",
    "    for i in similar_items:\n",
    "        items = []\n",
    "        temp_df = final_ratings[final_ratings['joke_id']==pivot1.index[i[0]]]\n",
    "        items.extend(list(temp_df.drop_duplicates('joke_id')['joke_id']))\n",
    "        items.extend(list(temp_df.drop_duplicates('joke_id')['Rating']))\n",
    "        data.append(items)\n",
    "\n",
    "    return data"
   ]
  },
  {
   "cell_type": "code",
   "execution_count": 37,
   "id": "f86e45f2",
   "metadata": {},
   "outputs": [
    {
     "data": {
      "text/plain": [
       "[[114, 3.312], [34, 7.875], [48, 8.719], [47, 3.531], [64, 8.219]]"
      ]
     },
     "execution_count": 37,
     "metadata": {},
     "output_type": "execute_result"
    }
   ],
   "source": [
    "return_similiar_5_jokes(14) # similiar jokes for joke_id 14"
   ]
  },
  {
   "cell_type": "code",
   "execution_count": 38,
   "id": "cf15fdbf",
   "metadata": {},
   "outputs": [
    {
     "data": {
      "text/plain": [
       "[[63, 3.656],\n",
       " [21, 2.656],\n",
       " [90, 0.594],\n",
       " [17, 5.5310000000000015],\n",
       " [33, 6.093999999999999]]"
      ]
     },
     "execution_count": 38,
     "metadata": {},
     "output_type": "execute_result"
    }
   ],
   "source": [
    "return_similiar_5_jokes(70) # similiar jokes for joke_id 70"
   ]
  },
  {
   "cell_type": "markdown",
   "id": "2188b581",
   "metadata": {},
   "source": [
    "Note: This is a colaborative recommendation system. That means the recommendation is based on similiar user preference."
   ]
  }
 ],
 "metadata": {
  "kernelspec": {
   "display_name": "Python 3 (ipykernel)",
   "language": "python",
   "name": "python3"
  },
  "language_info": {
   "codemirror_mode": {
    "name": "ipython",
    "version": 3
   },
   "file_extension": ".py",
   "mimetype": "text/x-python",
   "name": "python",
   "nbconvert_exporter": "python",
   "pygments_lexer": "ipython3",
   "version": "3.11.5"
  }
 },
 "nbformat": 4,
 "nbformat_minor": 5
}
