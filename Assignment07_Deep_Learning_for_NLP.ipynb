{
  "nbformat": 4,
  "nbformat_minor": 0,
  "metadata": {
    "colab": {
      "provenance": [],
      "gpuType": "T4"
    },
    "kernelspec": {
      "name": "python3",
      "display_name": "Python 3"
    },
    "language_info": {
      "name": "python"
    },
    "accelerator": "GPU"
  },
  "cells": [
    {
      "cell_type": "markdown",
      "source": [
        "# 1. Read the dataset"
      ],
      "metadata": {
        "id": "yviMLFFemnlz"
      }
    },
    {
      "cell_type": "code",
      "execution_count": 2,
      "metadata": {
        "id": "Y37QlL3_ldUx"
      },
      "outputs": [],
      "source": [
        "import pandas as pd"
      ]
    },
    {
      "cell_type": "code",
      "source": [
        "data=pd.read_csv('/content/drive/MyDrive/datasets/judge-1377884607_tweet_product_company.csv',encoding='unicode_escape')"
      ],
      "metadata": {
        "id": "KeT2Lq9emrZX"
      },
      "execution_count": 3,
      "outputs": []
    },
    {
      "cell_type": "code",
      "source": [
        "# display first 3 rows of the dataset\n",
        "data.head(3)"
      ],
      "metadata": {
        "colab": {
          "base_uri": "https://localhost:8080/",
          "height": 143
        },
        "id": "jWo8zZL4mt7F",
        "outputId": "f6695796-f1d2-453d-fc93-ee306bd4cf02"
      },
      "execution_count": 4,
      "outputs": [
        {
          "output_type": "execute_result",
          "data": {
            "text/plain": [
              "                                          tweet_text  \\\n",
              "0  .@wesley83 I have a 3G iPhone. After 3 hrs twe...   \n",
              "1  @jessedee Know about @fludapp ? Awesome iPad/i...   \n",
              "2  @swonderlin Can not wait for #iPad 2 also. The...   \n",
              "\n",
              "  emotion_in_tweet_is_directed_at  \\\n",
              "0                          iPhone   \n",
              "1              iPad or iPhone App   \n",
              "2                            iPad   \n",
              "\n",
              "  is_there_an_emotion_directed_at_a_brand_or_product  \n",
              "0                                   Negative emotion  \n",
              "1                                   Positive emotion  \n",
              "2                                   Positive emotion  "
            ],
            "text/html": [
              "\n",
              "  <div id=\"df-7c93e66f-0215-4430-bd85-8076a3fb1f88\" class=\"colab-df-container\">\n",
              "    <div>\n",
              "<style scoped>\n",
              "    .dataframe tbody tr th:only-of-type {\n",
              "        vertical-align: middle;\n",
              "    }\n",
              "\n",
              "    .dataframe tbody tr th {\n",
              "        vertical-align: top;\n",
              "    }\n",
              "\n",
              "    .dataframe thead th {\n",
              "        text-align: right;\n",
              "    }\n",
              "</style>\n",
              "<table border=\"1\" class=\"dataframe\">\n",
              "  <thead>\n",
              "    <tr style=\"text-align: right;\">\n",
              "      <th></th>\n",
              "      <th>tweet_text</th>\n",
              "      <th>emotion_in_tweet_is_directed_at</th>\n",
              "      <th>is_there_an_emotion_directed_at_a_brand_or_product</th>\n",
              "    </tr>\n",
              "  </thead>\n",
              "  <tbody>\n",
              "    <tr>\n",
              "      <th>0</th>\n",
              "      <td>.@wesley83 I have a 3G iPhone. After 3 hrs twe...</td>\n",
              "      <td>iPhone</td>\n",
              "      <td>Negative emotion</td>\n",
              "    </tr>\n",
              "    <tr>\n",
              "      <th>1</th>\n",
              "      <td>@jessedee Know about @fludapp ? Awesome iPad/i...</td>\n",
              "      <td>iPad or iPhone App</td>\n",
              "      <td>Positive emotion</td>\n",
              "    </tr>\n",
              "    <tr>\n",
              "      <th>2</th>\n",
              "      <td>@swonderlin Can not wait for #iPad 2 also. The...</td>\n",
              "      <td>iPad</td>\n",
              "      <td>Positive emotion</td>\n",
              "    </tr>\n",
              "  </tbody>\n",
              "</table>\n",
              "</div>\n",
              "    <div class=\"colab-df-buttons\">\n",
              "\n",
              "  <div class=\"colab-df-container\">\n",
              "    <button class=\"colab-df-convert\" onclick=\"convertToInteractive('df-7c93e66f-0215-4430-bd85-8076a3fb1f88')\"\n",
              "            title=\"Convert this dataframe to an interactive table.\"\n",
              "            style=\"display:none;\">\n",
              "\n",
              "  <svg xmlns=\"http://www.w3.org/2000/svg\" height=\"24px\" viewBox=\"0 -960 960 960\">\n",
              "    <path d=\"M120-120v-720h720v720H120Zm60-500h600v-160H180v160Zm220 220h160v-160H400v160Zm0 220h160v-160H400v160ZM180-400h160v-160H180v160Zm440 0h160v-160H620v160ZM180-180h160v-160H180v160Zm440 0h160v-160H620v160Z\"/>\n",
              "  </svg>\n",
              "    </button>\n",
              "\n",
              "  <style>\n",
              "    .colab-df-container {\n",
              "      display:flex;\n",
              "      gap: 12px;\n",
              "    }\n",
              "\n",
              "    .colab-df-convert {\n",
              "      background-color: #E8F0FE;\n",
              "      border: none;\n",
              "      border-radius: 50%;\n",
              "      cursor: pointer;\n",
              "      display: none;\n",
              "      fill: #1967D2;\n",
              "      height: 32px;\n",
              "      padding: 0 0 0 0;\n",
              "      width: 32px;\n",
              "    }\n",
              "\n",
              "    .colab-df-convert:hover {\n",
              "      background-color: #E2EBFA;\n",
              "      box-shadow: 0px 1px 2px rgba(60, 64, 67, 0.3), 0px 1px 3px 1px rgba(60, 64, 67, 0.15);\n",
              "      fill: #174EA6;\n",
              "    }\n",
              "\n",
              "    .colab-df-buttons div {\n",
              "      margin-bottom: 4px;\n",
              "    }\n",
              "\n",
              "    [theme=dark] .colab-df-convert {\n",
              "      background-color: #3B4455;\n",
              "      fill: #D2E3FC;\n",
              "    }\n",
              "\n",
              "    [theme=dark] .colab-df-convert:hover {\n",
              "      background-color: #434B5C;\n",
              "      box-shadow: 0px 1px 3px 1px rgba(0, 0, 0, 0.15);\n",
              "      filter: drop-shadow(0px 1px 2px rgba(0, 0, 0, 0.3));\n",
              "      fill: #FFFFFF;\n",
              "    }\n",
              "  </style>\n",
              "\n",
              "    <script>\n",
              "      const buttonEl =\n",
              "        document.querySelector('#df-7c93e66f-0215-4430-bd85-8076a3fb1f88 button.colab-df-convert');\n",
              "      buttonEl.style.display =\n",
              "        google.colab.kernel.accessAllowed ? 'block' : 'none';\n",
              "\n",
              "      async function convertToInteractive(key) {\n",
              "        const element = document.querySelector('#df-7c93e66f-0215-4430-bd85-8076a3fb1f88');\n",
              "        const dataTable =\n",
              "          await google.colab.kernel.invokeFunction('convertToInteractive',\n",
              "                                                    [key], {});\n",
              "        if (!dataTable) return;\n",
              "\n",
              "        const docLinkHtml = 'Like what you see? Visit the ' +\n",
              "          '<a target=\"_blank\" href=https://colab.research.google.com/notebooks/data_table.ipynb>data table notebook</a>'\n",
              "          + ' to learn more about interactive tables.';\n",
              "        element.innerHTML = '';\n",
              "        dataTable['output_type'] = 'display_data';\n",
              "        await google.colab.output.renderOutput(dataTable, element);\n",
              "        const docLink = document.createElement('div');\n",
              "        docLink.innerHTML = docLinkHtml;\n",
              "        element.appendChild(docLink);\n",
              "      }\n",
              "    </script>\n",
              "  </div>\n",
              "\n",
              "\n",
              "<div id=\"df-ea7fda85-0b81-4977-8982-1b0cfa4f2eca\">\n",
              "  <button class=\"colab-df-quickchart\" onclick=\"quickchart('df-ea7fda85-0b81-4977-8982-1b0cfa4f2eca')\"\n",
              "            title=\"Suggest charts\"\n",
              "            style=\"display:none;\">\n",
              "\n",
              "<svg xmlns=\"http://www.w3.org/2000/svg\" height=\"24px\"viewBox=\"0 0 24 24\"\n",
              "     width=\"24px\">\n",
              "    <g>\n",
              "        <path d=\"M19 3H5c-1.1 0-2 .9-2 2v14c0 1.1.9 2 2 2h14c1.1 0 2-.9 2-2V5c0-1.1-.9-2-2-2zM9 17H7v-7h2v7zm4 0h-2V7h2v10zm4 0h-2v-4h2v4z\"/>\n",
              "    </g>\n",
              "</svg>\n",
              "  </button>\n",
              "\n",
              "<style>\n",
              "  .colab-df-quickchart {\n",
              "      --bg-color: #E8F0FE;\n",
              "      --fill-color: #1967D2;\n",
              "      --hover-bg-color: #E2EBFA;\n",
              "      --hover-fill-color: #174EA6;\n",
              "      --disabled-fill-color: #AAA;\n",
              "      --disabled-bg-color: #DDD;\n",
              "  }\n",
              "\n",
              "  [theme=dark] .colab-df-quickchart {\n",
              "      --bg-color: #3B4455;\n",
              "      --fill-color: #D2E3FC;\n",
              "      --hover-bg-color: #434B5C;\n",
              "      --hover-fill-color: #FFFFFF;\n",
              "      --disabled-bg-color: #3B4455;\n",
              "      --disabled-fill-color: #666;\n",
              "  }\n",
              "\n",
              "  .colab-df-quickchart {\n",
              "    background-color: var(--bg-color);\n",
              "    border: none;\n",
              "    border-radius: 50%;\n",
              "    cursor: pointer;\n",
              "    display: none;\n",
              "    fill: var(--fill-color);\n",
              "    height: 32px;\n",
              "    padding: 0;\n",
              "    width: 32px;\n",
              "  }\n",
              "\n",
              "  .colab-df-quickchart:hover {\n",
              "    background-color: var(--hover-bg-color);\n",
              "    box-shadow: 0 1px 2px rgba(60, 64, 67, 0.3), 0 1px 3px 1px rgba(60, 64, 67, 0.15);\n",
              "    fill: var(--button-hover-fill-color);\n",
              "  }\n",
              "\n",
              "  .colab-df-quickchart-complete:disabled,\n",
              "  .colab-df-quickchart-complete:disabled:hover {\n",
              "    background-color: var(--disabled-bg-color);\n",
              "    fill: var(--disabled-fill-color);\n",
              "    box-shadow: none;\n",
              "  }\n",
              "\n",
              "  .colab-df-spinner {\n",
              "    border: 2px solid var(--fill-color);\n",
              "    border-color: transparent;\n",
              "    border-bottom-color: var(--fill-color);\n",
              "    animation:\n",
              "      spin 1s steps(1) infinite;\n",
              "  }\n",
              "\n",
              "  @keyframes spin {\n",
              "    0% {\n",
              "      border-color: transparent;\n",
              "      border-bottom-color: var(--fill-color);\n",
              "      border-left-color: var(--fill-color);\n",
              "    }\n",
              "    20% {\n",
              "      border-color: transparent;\n",
              "      border-left-color: var(--fill-color);\n",
              "      border-top-color: var(--fill-color);\n",
              "    }\n",
              "    30% {\n",
              "      border-color: transparent;\n",
              "      border-left-color: var(--fill-color);\n",
              "      border-top-color: var(--fill-color);\n",
              "      border-right-color: var(--fill-color);\n",
              "    }\n",
              "    40% {\n",
              "      border-color: transparent;\n",
              "      border-right-color: var(--fill-color);\n",
              "      border-top-color: var(--fill-color);\n",
              "    }\n",
              "    60% {\n",
              "      border-color: transparent;\n",
              "      border-right-color: var(--fill-color);\n",
              "    }\n",
              "    80% {\n",
              "      border-color: transparent;\n",
              "      border-right-color: var(--fill-color);\n",
              "      border-bottom-color: var(--fill-color);\n",
              "    }\n",
              "    90% {\n",
              "      border-color: transparent;\n",
              "      border-bottom-color: var(--fill-color);\n",
              "    }\n",
              "  }\n",
              "</style>\n",
              "\n",
              "  <script>\n",
              "    async function quickchart(key) {\n",
              "      const quickchartButtonEl =\n",
              "        document.querySelector('#' + key + ' button');\n",
              "      quickchartButtonEl.disabled = true;  // To prevent multiple clicks.\n",
              "      quickchartButtonEl.classList.add('colab-df-spinner');\n",
              "      try {\n",
              "        const charts = await google.colab.kernel.invokeFunction(\n",
              "            'suggestCharts', [key], {});\n",
              "      } catch (error) {\n",
              "        console.error('Error during call to suggestCharts:', error);\n",
              "      }\n",
              "      quickchartButtonEl.classList.remove('colab-df-spinner');\n",
              "      quickchartButtonEl.classList.add('colab-df-quickchart-complete');\n",
              "    }\n",
              "    (() => {\n",
              "      let quickchartButtonEl =\n",
              "        document.querySelector('#df-ea7fda85-0b81-4977-8982-1b0cfa4f2eca button');\n",
              "      quickchartButtonEl.style.display =\n",
              "        google.colab.kernel.accessAllowed ? 'block' : 'none';\n",
              "    })();\n",
              "  </script>\n",
              "</div>\n",
              "\n",
              "    </div>\n",
              "  </div>\n"
            ],
            "application/vnd.google.colaboratory.intrinsic+json": {
              "type": "dataframe",
              "variable_name": "data",
              "summary": "{\n  \"name\": \"data\",\n  \"rows\": 9093,\n  \"fields\": [\n    {\n      \"column\": \"tweet_text\",\n      \"properties\": {\n        \"dtype\": \"string\",\n        \"num_unique_values\": 9065,\n        \"samples\": [\n          \"RT @mention @mention shows #Apple 's position in the tablet wars. #tapworthy #sxsw  {link}\",\n          \"My first #SXSW survival kit. iPhone not in the shot because I'm using it to take the picture.  {link} I might be ready.\",\n          \"RT@mention by parabolico_bh MARAVILHA, APROVEITEM!\\n{link} \\u0089\\u00e3_ #edchat #musedchat #sxsw #sxswi #classical\"\n        ],\n        \"semantic_type\": \"\",\n        \"description\": \"\"\n      }\n    },\n    {\n      \"column\": \"emotion_in_tweet_is_directed_at\",\n      \"properties\": {\n        \"dtype\": \"category\",\n        \"num_unique_values\": 9,\n        \"samples\": [\n          \"Other Google product or service\",\n          \"iPad or iPhone App\",\n          \"Apple\"\n        ],\n        \"semantic_type\": \"\",\n        \"description\": \"\"\n      }\n    },\n    {\n      \"column\": \"is_there_an_emotion_directed_at_a_brand_or_product\",\n      \"properties\": {\n        \"dtype\": \"category\",\n        \"num_unique_values\": 4,\n        \"samples\": [\n          \"Positive emotion\",\n          \"I can't tell\",\n          \"Negative emotion\"\n        ],\n        \"semantic_type\": \"\",\n        \"description\": \"\"\n      }\n    }\n  ]\n}"
            }
          },
          "metadata": {},
          "execution_count": 4
        }
      ]
    },
    {
      "cell_type": "code",
      "source": [
        "# lets drop column emotion_in_tweet_is_directed_at\n",
        "\n",
        "data=data.drop('emotion_in_tweet_is_directed_at',axis=1)"
      ],
      "metadata": {
        "id": "L0cCk7AgnBNE"
      },
      "execution_count": 5,
      "outputs": []
    },
    {
      "cell_type": "code",
      "source": [
        "# lets check the categories in the target column\n",
        "data['is_there_an_emotion_directed_at_a_brand_or_product'].value_counts()"
      ],
      "metadata": {
        "colab": {
          "base_uri": "https://localhost:8080/"
        },
        "id": "WTnPoV6ynSIj",
        "outputId": "502eccbb-27c1-4b35-97f4-2538a7822ae3"
      },
      "execution_count": 6,
      "outputs": [
        {
          "output_type": "execute_result",
          "data": {
            "text/plain": [
              "is_there_an_emotion_directed_at_a_brand_or_product\n",
              "No emotion toward brand or product    5389\n",
              "Positive emotion                      2978\n",
              "Negative emotion                       570\n",
              "I can't tell                           156\n",
              "Name: count, dtype: int64"
            ]
          },
          "metadata": {},
          "execution_count": 6
        }
      ]
    },
    {
      "cell_type": "markdown",
      "source": [
        "Note: There are 4 classes in the target column- Its a multi class text classification problem."
      ],
      "metadata": {
        "id": "gHFKhoP8nix_"
      }
    },
    {
      "cell_type": "code",
      "source": [
        "# lets check the size of the dataset\n",
        "data.shape"
      ],
      "metadata": {
        "colab": {
          "base_uri": "https://localhost:8080/"
        },
        "id": "l9bxOZranglE",
        "outputId": "4fba9fa1-9901-43c1-c1bb-b8e55c9ea2cd"
      },
      "execution_count": 7,
      "outputs": [
        {
          "output_type": "execute_result",
          "data": {
            "text/plain": [
              "(9093, 2)"
            ]
          },
          "metadata": {},
          "execution_count": 7
        }
      ]
    },
    {
      "cell_type": "markdown",
      "source": [
        "It contains 9093 rows & 2 columns."
      ],
      "metadata": {
        "id": "J3Op6Odnnu1O"
      }
    },
    {
      "cell_type": "code",
      "source": [
        "# info of the dataset\n",
        "data.info()"
      ],
      "metadata": {
        "colab": {
          "base_uri": "https://localhost:8080/"
        },
        "id": "kLTCIKeQntoN",
        "outputId": "fad5005e-bc5c-4a27-e282-cf8066f30f81"
      },
      "execution_count": 8,
      "outputs": [
        {
          "output_type": "stream",
          "name": "stdout",
          "text": [
            "<class 'pandas.core.frame.DataFrame'>\n",
            "RangeIndex: 9093 entries, 0 to 9092\n",
            "Data columns (total 2 columns):\n",
            " #   Column                                              Non-Null Count  Dtype \n",
            "---  ------                                              --------------  ----- \n",
            " 0   tweet_text                                          9092 non-null   object\n",
            " 1   is_there_an_emotion_directed_at_a_brand_or_product  9093 non-null   object\n",
            "dtypes: object(2)\n",
            "memory usage: 142.2+ KB\n"
          ]
        }
      ]
    },
    {
      "cell_type": "markdown",
      "source": [
        "Note: As per the info , there is a null value in the dataset."
      ],
      "metadata": {
        "id": "WJEDvrLCn78u"
      }
    },
    {
      "cell_type": "code",
      "source": [
        "data.isna().sum() # check for the null value"
      ],
      "metadata": {
        "colab": {
          "base_uri": "https://localhost:8080/"
        },
        "id": "xl6GafV3n1xZ",
        "outputId": "dcec32a3-5d3a-46af-c812-14b16c64defb"
      },
      "execution_count": 9,
      "outputs": [
        {
          "output_type": "execute_result",
          "data": {
            "text/plain": [
              "tweet_text                                            1\n",
              "is_there_an_emotion_directed_at_a_brand_or_product    0\n",
              "dtype: int64"
            ]
          },
          "metadata": {},
          "execution_count": 9
        }
      ]
    },
    {
      "cell_type": "code",
      "source": [
        "data[data['tweet_text'].isna()] # one of the tweet is Nan value, lets drop that row"
      ],
      "metadata": {
        "colab": {
          "base_uri": "https://localhost:8080/",
          "height": 81
        },
        "id": "v_Ai1asvoDPe",
        "outputId": "4dc2f3ca-2441-4709-86d3-cca284e8903c"
      },
      "execution_count": 10,
      "outputs": [
        {
          "output_type": "execute_result",
          "data": {
            "text/plain": [
              "  tweet_text is_there_an_emotion_directed_at_a_brand_or_product\n",
              "6        NaN                 No emotion toward brand or product"
            ],
            "text/html": [
              "\n",
              "  <div id=\"df-11c5943a-c0b4-4529-8d4b-4a47d489712d\" class=\"colab-df-container\">\n",
              "    <div>\n",
              "<style scoped>\n",
              "    .dataframe tbody tr th:only-of-type {\n",
              "        vertical-align: middle;\n",
              "    }\n",
              "\n",
              "    .dataframe tbody tr th {\n",
              "        vertical-align: top;\n",
              "    }\n",
              "\n",
              "    .dataframe thead th {\n",
              "        text-align: right;\n",
              "    }\n",
              "</style>\n",
              "<table border=\"1\" class=\"dataframe\">\n",
              "  <thead>\n",
              "    <tr style=\"text-align: right;\">\n",
              "      <th></th>\n",
              "      <th>tweet_text</th>\n",
              "      <th>is_there_an_emotion_directed_at_a_brand_or_product</th>\n",
              "    </tr>\n",
              "  </thead>\n",
              "  <tbody>\n",
              "    <tr>\n",
              "      <th>6</th>\n",
              "      <td>NaN</td>\n",
              "      <td>No emotion toward brand or product</td>\n",
              "    </tr>\n",
              "  </tbody>\n",
              "</table>\n",
              "</div>\n",
              "    <div class=\"colab-df-buttons\">\n",
              "\n",
              "  <div class=\"colab-df-container\">\n",
              "    <button class=\"colab-df-convert\" onclick=\"convertToInteractive('df-11c5943a-c0b4-4529-8d4b-4a47d489712d')\"\n",
              "            title=\"Convert this dataframe to an interactive table.\"\n",
              "            style=\"display:none;\">\n",
              "\n",
              "  <svg xmlns=\"http://www.w3.org/2000/svg\" height=\"24px\" viewBox=\"0 -960 960 960\">\n",
              "    <path d=\"M120-120v-720h720v720H120Zm60-500h600v-160H180v160Zm220 220h160v-160H400v160Zm0 220h160v-160H400v160ZM180-400h160v-160H180v160Zm440 0h160v-160H620v160ZM180-180h160v-160H180v160Zm440 0h160v-160H620v160Z\"/>\n",
              "  </svg>\n",
              "    </button>\n",
              "\n",
              "  <style>\n",
              "    .colab-df-container {\n",
              "      display:flex;\n",
              "      gap: 12px;\n",
              "    }\n",
              "\n",
              "    .colab-df-convert {\n",
              "      background-color: #E8F0FE;\n",
              "      border: none;\n",
              "      border-radius: 50%;\n",
              "      cursor: pointer;\n",
              "      display: none;\n",
              "      fill: #1967D2;\n",
              "      height: 32px;\n",
              "      padding: 0 0 0 0;\n",
              "      width: 32px;\n",
              "    }\n",
              "\n",
              "    .colab-df-convert:hover {\n",
              "      background-color: #E2EBFA;\n",
              "      box-shadow: 0px 1px 2px rgba(60, 64, 67, 0.3), 0px 1px 3px 1px rgba(60, 64, 67, 0.15);\n",
              "      fill: #174EA6;\n",
              "    }\n",
              "\n",
              "    .colab-df-buttons div {\n",
              "      margin-bottom: 4px;\n",
              "    }\n",
              "\n",
              "    [theme=dark] .colab-df-convert {\n",
              "      background-color: #3B4455;\n",
              "      fill: #D2E3FC;\n",
              "    }\n",
              "\n",
              "    [theme=dark] .colab-df-convert:hover {\n",
              "      background-color: #434B5C;\n",
              "      box-shadow: 0px 1px 3px 1px rgba(0, 0, 0, 0.15);\n",
              "      filter: drop-shadow(0px 1px 2px rgba(0, 0, 0, 0.3));\n",
              "      fill: #FFFFFF;\n",
              "    }\n",
              "  </style>\n",
              "\n",
              "    <script>\n",
              "      const buttonEl =\n",
              "        document.querySelector('#df-11c5943a-c0b4-4529-8d4b-4a47d489712d button.colab-df-convert');\n",
              "      buttonEl.style.display =\n",
              "        google.colab.kernel.accessAllowed ? 'block' : 'none';\n",
              "\n",
              "      async function convertToInteractive(key) {\n",
              "        const element = document.querySelector('#df-11c5943a-c0b4-4529-8d4b-4a47d489712d');\n",
              "        const dataTable =\n",
              "          await google.colab.kernel.invokeFunction('convertToInteractive',\n",
              "                                                    [key], {});\n",
              "        if (!dataTable) return;\n",
              "\n",
              "        const docLinkHtml = 'Like what you see? Visit the ' +\n",
              "          '<a target=\"_blank\" href=https://colab.research.google.com/notebooks/data_table.ipynb>data table notebook</a>'\n",
              "          + ' to learn more about interactive tables.';\n",
              "        element.innerHTML = '';\n",
              "        dataTable['output_type'] = 'display_data';\n",
              "        await google.colab.output.renderOutput(dataTable, element);\n",
              "        const docLink = document.createElement('div');\n",
              "        docLink.innerHTML = docLinkHtml;\n",
              "        element.appendChild(docLink);\n",
              "      }\n",
              "    </script>\n",
              "  </div>\n",
              "\n",
              "\n",
              "    </div>\n",
              "  </div>\n"
            ],
            "application/vnd.google.colaboratory.intrinsic+json": {
              "type": "dataframe",
              "repr_error": "0"
            }
          },
          "metadata": {},
          "execution_count": 10
        }
      ]
    },
    {
      "cell_type": "code",
      "source": [
        "data.dropna(inplace=True)"
      ],
      "metadata": {
        "id": "RuOd5gUcoG4K"
      },
      "execution_count": 11,
      "outputs": []
    },
    {
      "cell_type": "code",
      "source": [
        "data.shape"
      ],
      "metadata": {
        "colab": {
          "base_uri": "https://localhost:8080/"
        },
        "id": "hGk33wxgoa_d",
        "outputId": "0344495c-14d2-4972-9f19-a3832a8da6a6"
      },
      "execution_count": 12,
      "outputs": [
        {
          "output_type": "execute_result",
          "data": {
            "text/plain": [
              "(9092, 2)"
            ]
          },
          "metadata": {},
          "execution_count": 12
        }
      ]
    },
    {
      "cell_type": "markdown",
      "source": [
        "Note: So our dataset contains 9092 rows."
      ],
      "metadata": {
        "id": "gMVVobbUorcI"
      }
    },
    {
      "cell_type": "markdown",
      "source": [
        "# 2. LSTM Based Classifier"
      ],
      "metadata": {
        "id": "_5Xl0ZWCo0aG"
      }
    },
    {
      "cell_type": "markdown",
      "source": [
        "# Steps:\n",
        "1. Prepared the text data for processing\n",
        "2. Tokenise the text and generate get teh word index\n",
        "3. Convert the text into sequences\n",
        "4. Convert the sequences into same length\n",
        "5. Encode the target column\n",
        "6. Split the data into train & test\n",
        "7. Define LSTM model\n",
        "8. Fit the model\n",
        "9. evaluate the model\n",
        "10. Test it on unseen data"
      ],
      "metadata": {
        "id": "WoY1sFAyo-92"
      }
    },
    {
      "cell_type": "markdown",
      "source": [
        "#### Prepared the text data for processing"
      ],
      "metadata": {
        "id": "oKo-w_kWtJto"
      }
    },
    {
      "cell_type": "code",
      "source": [
        "# for preprocessing task , we ar using nltk library\n",
        "\n",
        "import nltk\n",
        "nltk.download('punkt')\n",
        "nltk.download('wordnet')\n",
        "nltk.download('stopwords')"
      ],
      "metadata": {
        "colab": {
          "base_uri": "https://localhost:8080/"
        },
        "id": "1fLnymOMpyNt",
        "outputId": "9a039fd8-d7a4-4724-ad3b-a4268ad1d2b1"
      },
      "execution_count": 13,
      "outputs": [
        {
          "output_type": "stream",
          "name": "stderr",
          "text": [
            "[nltk_data] Downloading package punkt to /root/nltk_data...\n",
            "[nltk_data]   Unzipping tokenizers/punkt.zip.\n",
            "[nltk_data] Downloading package wordnet to /root/nltk_data...\n",
            "[nltk_data] Downloading package stopwords to /root/nltk_data...\n",
            "[nltk_data]   Unzipping corpora/stopwords.zip.\n"
          ]
        },
        {
          "output_type": "execute_result",
          "data": {
            "text/plain": [
              "True"
            ]
          },
          "metadata": {},
          "execution_count": 13
        }
      ]
    },
    {
      "cell_type": "code",
      "source": [
        "import re #import regular expression\n",
        "from nltk.stem import WordNetLemmatizer\n",
        "from nltk.corpus import stopwords\n",
        "from nltk.tokenize import word_tokenize"
      ],
      "metadata": {
        "id": "YeOySAOoqUTv"
      },
      "execution_count": 14,
      "outputs": []
    },
    {
      "cell_type": "code",
      "source": [
        "# create a copy\n",
        "data_copy=data.copy()"
      ],
      "metadata": {
        "id": "L4wpFHsXuNpv"
      },
      "execution_count": 15,
      "outputs": []
    },
    {
      "cell_type": "code",
      "source": [
        "# create a function to preprocess the text data\n",
        "\n",
        "def preprocess_text(text):\n",
        "  text=text.lower() # convert it into lower case\n",
        "  text = re.sub(r'<.*?>', '', text) # remove html tags, substitute with null\n",
        "  text = re.sub(r'http\\S+|www\\S+|https\\S+', '', text, flags=re.MULTILINE)# Remove URLs\n",
        "  text = re.sub(r'[^\\w\\s]', '', text) # Remove punctuation and special characters  @#;substitute with null\n",
        "  text = re.sub(r'[Ï¡Ïàü_ÊÎÒ£Áââ_£â_ÛâRT]+', '', text)\n",
        "  text = re.sub(r'\\d+', '', text)# remove numbers\n",
        "  words=word_tokenize(text)\n",
        "  words=[i for i in words if i not in stopwords.words('english')]# remove stopwords\n",
        "  lemmatise_obj=WordNetLemmatizer()\n",
        "  words=[lemmatise_obj.lemmatize(i) for i in words]# lemmatise words, convert it to its stem form\n",
        "  text= \" \".join(words)\n",
        "  text = re.sub(r'\\s+', ' ', text).strip()#remove extra spaces\n",
        "  return text\n"
      ],
      "metadata": {
        "id": "HkZ7BpzVoolO"
      },
      "execution_count": 16,
      "outputs": []
    },
    {
      "cell_type": "code",
      "source": [
        "data['cleaned_text']=data['tweet_text'].apply(lambda x: preprocess_text(x)) # prepare the cleaned test"
      ],
      "metadata": {
        "id": "c03GapNQsp1x"
      },
      "execution_count": 17,
      "outputs": []
    },
    {
      "cell_type": "code",
      "source": [
        "data.head(3)"
      ],
      "metadata": {
        "colab": {
          "base_uri": "https://localhost:8080/",
          "height": 143
        },
        "id": "JVfZ1TZzvjUV",
        "outputId": "82000102-bc5a-4847-8080-57c2da87da60"
      },
      "execution_count": 18,
      "outputs": [
        {
          "output_type": "execute_result",
          "data": {
            "text/plain": [
              "                                          tweet_text  \\\n",
              "0  .@wesley83 I have a 3G iPhone. After 3 hrs twe...   \n",
              "1  @jessedee Know about @fludapp ? Awesome iPad/i...   \n",
              "2  @swonderlin Can not wait for #iPad 2 also. The...   \n",
              "\n",
              "  is_there_an_emotion_directed_at_a_brand_or_product  \\\n",
              "0                                   Negative emotion   \n",
              "1                                   Positive emotion   \n",
              "2                                   Positive emotion   \n",
              "\n",
              "                                        cleaned_text  \n",
              "0  wesley g iphone hr tweeting riseaustin dead ne...  \n",
              "1  jessedee know fludapp awesome ipadiphone app y...  \n",
              "2                swonderlin wait ipad also sale sxsw  "
            ],
            "text/html": [
              "\n",
              "  <div id=\"df-85e251ae-f90c-438f-bcb2-675b7ca002ef\" class=\"colab-df-container\">\n",
              "    <div>\n",
              "<style scoped>\n",
              "    .dataframe tbody tr th:only-of-type {\n",
              "        vertical-align: middle;\n",
              "    }\n",
              "\n",
              "    .dataframe tbody tr th {\n",
              "        vertical-align: top;\n",
              "    }\n",
              "\n",
              "    .dataframe thead th {\n",
              "        text-align: right;\n",
              "    }\n",
              "</style>\n",
              "<table border=\"1\" class=\"dataframe\">\n",
              "  <thead>\n",
              "    <tr style=\"text-align: right;\">\n",
              "      <th></th>\n",
              "      <th>tweet_text</th>\n",
              "      <th>is_there_an_emotion_directed_at_a_brand_or_product</th>\n",
              "      <th>cleaned_text</th>\n",
              "    </tr>\n",
              "  </thead>\n",
              "  <tbody>\n",
              "    <tr>\n",
              "      <th>0</th>\n",
              "      <td>.@wesley83 I have a 3G iPhone. After 3 hrs twe...</td>\n",
              "      <td>Negative emotion</td>\n",
              "      <td>wesley g iphone hr tweeting riseaustin dead ne...</td>\n",
              "    </tr>\n",
              "    <tr>\n",
              "      <th>1</th>\n",
              "      <td>@jessedee Know about @fludapp ? Awesome iPad/i...</td>\n",
              "      <td>Positive emotion</td>\n",
              "      <td>jessedee know fludapp awesome ipadiphone app y...</td>\n",
              "    </tr>\n",
              "    <tr>\n",
              "      <th>2</th>\n",
              "      <td>@swonderlin Can not wait for #iPad 2 also. The...</td>\n",
              "      <td>Positive emotion</td>\n",
              "      <td>swonderlin wait ipad also sale sxsw</td>\n",
              "    </tr>\n",
              "  </tbody>\n",
              "</table>\n",
              "</div>\n",
              "    <div class=\"colab-df-buttons\">\n",
              "\n",
              "  <div class=\"colab-df-container\">\n",
              "    <button class=\"colab-df-convert\" onclick=\"convertToInteractive('df-85e251ae-f90c-438f-bcb2-675b7ca002ef')\"\n",
              "            title=\"Convert this dataframe to an interactive table.\"\n",
              "            style=\"display:none;\">\n",
              "\n",
              "  <svg xmlns=\"http://www.w3.org/2000/svg\" height=\"24px\" viewBox=\"0 -960 960 960\">\n",
              "    <path d=\"M120-120v-720h720v720H120Zm60-500h600v-160H180v160Zm220 220h160v-160H400v160Zm0 220h160v-160H400v160ZM180-400h160v-160H180v160Zm440 0h160v-160H620v160ZM180-180h160v-160H180v160Zm440 0h160v-160H620v160Z\"/>\n",
              "  </svg>\n",
              "    </button>\n",
              "\n",
              "  <style>\n",
              "    .colab-df-container {\n",
              "      display:flex;\n",
              "      gap: 12px;\n",
              "    }\n",
              "\n",
              "    .colab-df-convert {\n",
              "      background-color: #E8F0FE;\n",
              "      border: none;\n",
              "      border-radius: 50%;\n",
              "      cursor: pointer;\n",
              "      display: none;\n",
              "      fill: #1967D2;\n",
              "      height: 32px;\n",
              "      padding: 0 0 0 0;\n",
              "      width: 32px;\n",
              "    }\n",
              "\n",
              "    .colab-df-convert:hover {\n",
              "      background-color: #E2EBFA;\n",
              "      box-shadow: 0px 1px 2px rgba(60, 64, 67, 0.3), 0px 1px 3px 1px rgba(60, 64, 67, 0.15);\n",
              "      fill: #174EA6;\n",
              "    }\n",
              "\n",
              "    .colab-df-buttons div {\n",
              "      margin-bottom: 4px;\n",
              "    }\n",
              "\n",
              "    [theme=dark] .colab-df-convert {\n",
              "      background-color: #3B4455;\n",
              "      fill: #D2E3FC;\n",
              "    }\n",
              "\n",
              "    [theme=dark] .colab-df-convert:hover {\n",
              "      background-color: #434B5C;\n",
              "      box-shadow: 0px 1px 3px 1px rgba(0, 0, 0, 0.15);\n",
              "      filter: drop-shadow(0px 1px 2px rgba(0, 0, 0, 0.3));\n",
              "      fill: #FFFFFF;\n",
              "    }\n",
              "  </style>\n",
              "\n",
              "    <script>\n",
              "      const buttonEl =\n",
              "        document.querySelector('#df-85e251ae-f90c-438f-bcb2-675b7ca002ef button.colab-df-convert');\n",
              "      buttonEl.style.display =\n",
              "        google.colab.kernel.accessAllowed ? 'block' : 'none';\n",
              "\n",
              "      async function convertToInteractive(key) {\n",
              "        const element = document.querySelector('#df-85e251ae-f90c-438f-bcb2-675b7ca002ef');\n",
              "        const dataTable =\n",
              "          await google.colab.kernel.invokeFunction('convertToInteractive',\n",
              "                                                    [key], {});\n",
              "        if (!dataTable) return;\n",
              "\n",
              "        const docLinkHtml = 'Like what you see? Visit the ' +\n",
              "          '<a target=\"_blank\" href=https://colab.research.google.com/notebooks/data_table.ipynb>data table notebook</a>'\n",
              "          + ' to learn more about interactive tables.';\n",
              "        element.innerHTML = '';\n",
              "        dataTable['output_type'] = 'display_data';\n",
              "        await google.colab.output.renderOutput(dataTable, element);\n",
              "        const docLink = document.createElement('div');\n",
              "        docLink.innerHTML = docLinkHtml;\n",
              "        element.appendChild(docLink);\n",
              "      }\n",
              "    </script>\n",
              "  </div>\n",
              "\n",
              "\n",
              "<div id=\"df-898fba47-41b5-4a4b-9029-b63b7b8d51a9\">\n",
              "  <button class=\"colab-df-quickchart\" onclick=\"quickchart('df-898fba47-41b5-4a4b-9029-b63b7b8d51a9')\"\n",
              "            title=\"Suggest charts\"\n",
              "            style=\"display:none;\">\n",
              "\n",
              "<svg xmlns=\"http://www.w3.org/2000/svg\" height=\"24px\"viewBox=\"0 0 24 24\"\n",
              "     width=\"24px\">\n",
              "    <g>\n",
              "        <path d=\"M19 3H5c-1.1 0-2 .9-2 2v14c0 1.1.9 2 2 2h14c1.1 0 2-.9 2-2V5c0-1.1-.9-2-2-2zM9 17H7v-7h2v7zm4 0h-2V7h2v10zm4 0h-2v-4h2v4z\"/>\n",
              "    </g>\n",
              "</svg>\n",
              "  </button>\n",
              "\n",
              "<style>\n",
              "  .colab-df-quickchart {\n",
              "      --bg-color: #E8F0FE;\n",
              "      --fill-color: #1967D2;\n",
              "      --hover-bg-color: #E2EBFA;\n",
              "      --hover-fill-color: #174EA6;\n",
              "      --disabled-fill-color: #AAA;\n",
              "      --disabled-bg-color: #DDD;\n",
              "  }\n",
              "\n",
              "  [theme=dark] .colab-df-quickchart {\n",
              "      --bg-color: #3B4455;\n",
              "      --fill-color: #D2E3FC;\n",
              "      --hover-bg-color: #434B5C;\n",
              "      --hover-fill-color: #FFFFFF;\n",
              "      --disabled-bg-color: #3B4455;\n",
              "      --disabled-fill-color: #666;\n",
              "  }\n",
              "\n",
              "  .colab-df-quickchart {\n",
              "    background-color: var(--bg-color);\n",
              "    border: none;\n",
              "    border-radius: 50%;\n",
              "    cursor: pointer;\n",
              "    display: none;\n",
              "    fill: var(--fill-color);\n",
              "    height: 32px;\n",
              "    padding: 0;\n",
              "    width: 32px;\n",
              "  }\n",
              "\n",
              "  .colab-df-quickchart:hover {\n",
              "    background-color: var(--hover-bg-color);\n",
              "    box-shadow: 0 1px 2px rgba(60, 64, 67, 0.3), 0 1px 3px 1px rgba(60, 64, 67, 0.15);\n",
              "    fill: var(--button-hover-fill-color);\n",
              "  }\n",
              "\n",
              "  .colab-df-quickchart-complete:disabled,\n",
              "  .colab-df-quickchart-complete:disabled:hover {\n",
              "    background-color: var(--disabled-bg-color);\n",
              "    fill: var(--disabled-fill-color);\n",
              "    box-shadow: none;\n",
              "  }\n",
              "\n",
              "  .colab-df-spinner {\n",
              "    border: 2px solid var(--fill-color);\n",
              "    border-color: transparent;\n",
              "    border-bottom-color: var(--fill-color);\n",
              "    animation:\n",
              "      spin 1s steps(1) infinite;\n",
              "  }\n",
              "\n",
              "  @keyframes spin {\n",
              "    0% {\n",
              "      border-color: transparent;\n",
              "      border-bottom-color: var(--fill-color);\n",
              "      border-left-color: var(--fill-color);\n",
              "    }\n",
              "    20% {\n",
              "      border-color: transparent;\n",
              "      border-left-color: var(--fill-color);\n",
              "      border-top-color: var(--fill-color);\n",
              "    }\n",
              "    30% {\n",
              "      border-color: transparent;\n",
              "      border-left-color: var(--fill-color);\n",
              "      border-top-color: var(--fill-color);\n",
              "      border-right-color: var(--fill-color);\n",
              "    }\n",
              "    40% {\n",
              "      border-color: transparent;\n",
              "      border-right-color: var(--fill-color);\n",
              "      border-top-color: var(--fill-color);\n",
              "    }\n",
              "    60% {\n",
              "      border-color: transparent;\n",
              "      border-right-color: var(--fill-color);\n",
              "    }\n",
              "    80% {\n",
              "      border-color: transparent;\n",
              "      border-right-color: var(--fill-color);\n",
              "      border-bottom-color: var(--fill-color);\n",
              "    }\n",
              "    90% {\n",
              "      border-color: transparent;\n",
              "      border-bottom-color: var(--fill-color);\n",
              "    }\n",
              "  }\n",
              "</style>\n",
              "\n",
              "  <script>\n",
              "    async function quickchart(key) {\n",
              "      const quickchartButtonEl =\n",
              "        document.querySelector('#' + key + ' button');\n",
              "      quickchartButtonEl.disabled = true;  // To prevent multiple clicks.\n",
              "      quickchartButtonEl.classList.add('colab-df-spinner');\n",
              "      try {\n",
              "        const charts = await google.colab.kernel.invokeFunction(\n",
              "            'suggestCharts', [key], {});\n",
              "      } catch (error) {\n",
              "        console.error('Error during call to suggestCharts:', error);\n",
              "      }\n",
              "      quickchartButtonEl.classList.remove('colab-df-spinner');\n",
              "      quickchartButtonEl.classList.add('colab-df-quickchart-complete');\n",
              "    }\n",
              "    (() => {\n",
              "      let quickchartButtonEl =\n",
              "        document.querySelector('#df-898fba47-41b5-4a4b-9029-b63b7b8d51a9 button');\n",
              "      quickchartButtonEl.style.display =\n",
              "        google.colab.kernel.accessAllowed ? 'block' : 'none';\n",
              "    })();\n",
              "  </script>\n",
              "</div>\n",
              "\n",
              "    </div>\n",
              "  </div>\n"
            ],
            "application/vnd.google.colaboratory.intrinsic+json": {
              "type": "dataframe",
              "variable_name": "data",
              "summary": "{\n  \"name\": \"data\",\n  \"rows\": 9092,\n  \"fields\": [\n    {\n      \"column\": \"tweet_text\",\n      \"properties\": {\n        \"dtype\": \"string\",\n        \"num_unique_values\": 9065,\n        \"samples\": [\n          \"RT @mention @mention shows #Apple 's position in the tablet wars. #tapworthy #sxsw  {link}\",\n          \"My first #SXSW survival kit. iPhone not in the shot because I'm using it to take the picture.  {link} I might be ready.\",\n          \"RT@mention by parabolico_bh MARAVILHA, APROVEITEM!\\n{link} \\u0089\\u00e3_ #edchat #musedchat #sxsw #sxswi #classical\"\n        ],\n        \"semantic_type\": \"\",\n        \"description\": \"\"\n      }\n    },\n    {\n      \"column\": \"is_there_an_emotion_directed_at_a_brand_or_product\",\n      \"properties\": {\n        \"dtype\": \"category\",\n        \"num_unique_values\": 4,\n        \"samples\": [\n          \"Positive emotion\",\n          \"I can't tell\",\n          \"Negative emotion\"\n        ],\n        \"semantic_type\": \"\",\n        \"description\": \"\"\n      }\n    },\n    {\n      \"column\": \"cleaned_text\",\n      \"properties\": {\n        \"dtype\": \"string\",\n        \"num_unique_values\": 8893,\n        \"samples\": [\n          \"iphone battery going quickly guy behind let borrow portable charger want one link sxsw\",\n          \"mention heading austin sxsw mention austin guide iphone free limited time link lp travel\",\n          \"rt mention qagb sxsw timely rt mention bings search engine share continues rise google still top link\"\n        ],\n        \"semantic_type\": \"\",\n        \"description\": \"\"\n      }\n    }\n  ]\n}"
            }
          },
          "metadata": {},
          "execution_count": 18
        }
      ]
    },
    {
      "cell_type": "code",
      "source": [
        "pd.set_option('display.max_colwidth',None)"
      ],
      "metadata": {
        "id": "imNj0Gh8upT2"
      },
      "execution_count": 19,
      "outputs": []
    },
    {
      "cell_type": "markdown",
      "source": [
        "#### Tokenise the text and generate the word index"
      ],
      "metadata": {
        "id": "nIXv5O6Jvz8Y"
      }
    },
    {
      "cell_type": "code",
      "source": [
        "import tensorflow as tf\n",
        "from tensorflow.keras.preprocessing.text import Tokenizer\n",
        "from tensorflow.keras.preprocessing.sequence import pad_sequences"
      ],
      "metadata": {
        "id": "eJ1YJDIptM3Q"
      },
      "execution_count": 20,
      "outputs": []
    },
    {
      "cell_type": "code",
      "source": [
        "max_words = 1000# Max number of words to tokenize\n",
        "tokenizer = Tokenizer(num_words=max_words, oov_token=\"<OOV>\")# Instantiate the obj, OOv stands out of vocabulary\n",
        "tokenizer.fit_on_texts(data['cleaned_text']) # fit the text data\n",
        "word_index = tokenizer.word_index # get teh word index"
      ],
      "metadata": {
        "id": "RxQ8iKQqwUIo"
      },
      "execution_count": 21,
      "outputs": []
    },
    {
      "cell_type": "code",
      "source": [
        "word_index"
      ],
      "metadata": {
        "colab": {
          "base_uri": "https://localhost:8080/"
        },
        "id": "jH8kYermxLlm",
        "outputId": "d6f9586b-07d9-4ae2-ddad-61f022cb9b96"
      },
      "execution_count": 22,
      "outputs": [
        {
          "output_type": "execute_result",
          "data": {
            "text/plain": [
              "{'<OOV>': 1,\n",
              " 'sxsw': 2,\n",
              " 'mention': 3,\n",
              " 'link': 4,\n",
              " 'rt': 5,\n",
              " 'ipad': 6,\n",
              " 'google': 7,\n",
              " 'apple': 8,\n",
              " 'iphone': 9,\n",
              " 'store': 10,\n",
              " 'new': 11,\n",
              " 'austin': 12,\n",
              " 'app': 13,\n",
              " 'amp': 14,\n",
              " 'launch': 15,\n",
              " 'social': 16,\n",
              " 'circle': 17,\n",
              " 'popup': 18,\n",
              " 'today': 19,\n",
              " 'android': 20,\n",
              " 'network': 21,\n",
              " 'get': 22,\n",
              " 'line': 23,\n",
              " 'via': 24,\n",
              " 'free': 25,\n",
              " 'party': 26,\n",
              " 'called': 27,\n",
              " 'sxswi': 28,\n",
              " 'mobile': 29,\n",
              " 'one': 30,\n",
              " 'major': 31,\n",
              " 'time': 32,\n",
              " 'like': 33,\n",
              " 'day': 34,\n",
              " 'map': 35,\n",
              " 'temporary': 36,\n",
              " 'u': 37,\n",
              " 'opening': 38,\n",
              " 'im': 39,\n",
              " 'open': 40,\n",
              " 'possibly': 41,\n",
              " 'win': 42,\n",
              " 'need': 43,\n",
              " 'go': 44,\n",
              " 'come': 45,\n",
              " 'apps': 46,\n",
              " 'people': 47,\n",
              " 'see': 48,\n",
              " 'downtown': 49,\n",
              " 'great': 50,\n",
              " 'going': 51,\n",
              " 'mayer': 52,\n",
              " 'check': 53,\n",
              " 'w': 54,\n",
              " 'dont': 55,\n",
              " 'know': 56,\n",
              " 'marissa': 57,\n",
              " 'got': 58,\n",
              " 'want': 59,\n",
              " 'make': 60,\n",
              " 'good': 61,\n",
              " 'first': 62,\n",
              " 'say': 63,\n",
              " 'year': 64,\n",
              " 'ûïmention': 65,\n",
              " 'set': 66,\n",
              " 'pop': 67,\n",
              " 'product': 68,\n",
              " 'user': 69,\n",
              " 'game': 70,\n",
              " 'panel': 71,\n",
              " 'news': 72,\n",
              " 'guy': 73,\n",
              " 'search': 74,\n",
              " 'think': 75,\n",
              " 'music': 76,\n",
              " 'look': 77,\n",
              " 'next': 78,\n",
              " 'love': 79,\n",
              " 'tech': 80,\n",
              " 'shop': 81,\n",
              " 'cool': 82,\n",
              " 'talk': 83,\n",
              " 'design': 84,\n",
              " 'best': 85,\n",
              " 'thanks': 86,\n",
              " 'show': 87,\n",
              " 'th': 88,\n",
              " 'video': 89,\n",
              " 'awesome': 90,\n",
              " 'rumor': 91,\n",
              " 'big': 92,\n",
              " 'use': 93,\n",
              " 'would': 94,\n",
              " 'around': 95,\n",
              " 'last': 96,\n",
              " 'thing': 97,\n",
              " 'session': 98,\n",
              " 'ipads': 99,\n",
              " 'pm': 100,\n",
              " 'phone': 101,\n",
              " 'case': 102,\n",
              " 'anyone': 103,\n",
              " 'right': 104,\n",
              " 'tweet': 105,\n",
              " 'using': 106,\n",
              " 'location': 107,\n",
              " 'japan': 108,\n",
              " 'download': 109,\n",
              " 'really': 110,\n",
              " 'even': 111,\n",
              " 'take': 112,\n",
              " 'launching': 113,\n",
              " 'still': 114,\n",
              " 'buy': 115,\n",
              " 'coming': 116,\n",
              " 'photo': 117,\n",
              " 'team': 118,\n",
              " 'week': 119,\n",
              " 'booth': 120,\n",
              " 'event': 121,\n",
              " 'congress': 122,\n",
              " 'twitter': 123,\n",
              " 'hey': 124,\n",
              " 'way': 125,\n",
              " 'itunes': 126,\n",
              " 'blackberry': 127,\n",
              " 'future': 128,\n",
              " 'heard': 129,\n",
              " 'digital': 130,\n",
              " 'world': 131,\n",
              " 'update': 132,\n",
              " 'technology': 133,\n",
              " 'tonight': 134,\n",
              " 'ive': 135,\n",
              " 'find': 136,\n",
              " 'well': 137,\n",
              " 'may': 138,\n",
              " 'v': 139,\n",
              " 'cant': 140,\n",
              " 'let': 141,\n",
              " 'code': 142,\n",
              " 'everyone': 143,\n",
              " 'hour': 144,\n",
              " 'friend': 145,\n",
              " 'fun': 146,\n",
              " 'youre': 147,\n",
              " 'back': 148,\n",
              " 'lot': 149,\n",
              " 'work': 150,\n",
              " 'facebook': 151,\n",
              " 'looking': 152,\n",
              " 'getting': 153,\n",
              " 'web': 154,\n",
              " 'could': 155,\n",
              " 'bing': 156,\n",
              " 'also': 157,\n",
              " 'many': 158,\n",
              " 'nice': 159,\n",
              " 'away': 160,\n",
              " 'ever': 161,\n",
              " 'geek': 162,\n",
              " 'tv': 163,\n",
              " 'wait': 164,\n",
              " 'temp': 165,\n",
              " 'sxswû': 166,\n",
              " 'designing': 167,\n",
              " 'pic': 168,\n",
              " 'yes': 169,\n",
              " 'long': 170,\n",
              " 'already': 171,\n",
              " 'fb': 172,\n",
              " 'tomorrow': 173,\n",
              " 'giving': 174,\n",
              " 'quotgoogle': 175,\n",
              " 'place': 176,\n",
              " 'please': 177,\n",
              " 'includes': 178,\n",
              " 'uberguide': 179,\n",
              " 'interesting': 180,\n",
              " 'ready': 181,\n",
              " 'live': 182,\n",
              " 'ubersocial': 183,\n",
              " 'platform': 184,\n",
              " 'fast': 185,\n",
              " 'gsdm': 186,\n",
              " 'block': 187,\n",
              " 'keep': 188,\n",
              " 'much': 189,\n",
              " 'ill': 190,\n",
              " 'someone': 191,\n",
              " 'interactive': 192,\n",
              " 'detail': 193,\n",
              " 'others': 194,\n",
              " 'sell': 195,\n",
              " 'marketing': 196,\n",
              " 'night': 197,\n",
              " 'available': 198,\n",
              " 'every': 199,\n",
              " 'sure': 200,\n",
              " 'join': 201,\n",
              " 'service': 202,\n",
              " 'made': 203,\n",
              " 'action': 204,\n",
              " 'smart': 205,\n",
              " 'help': 206,\n",
              " 'art': 207,\n",
              " 'developer': 208,\n",
              " 'g': 209,\n",
              " 'company': 210,\n",
              " 'battery': 211,\n",
              " 'p': 212,\n",
              " 'meet': 213,\n",
              " 'oh': 214,\n",
              " 'laptop': 215,\n",
              " 'cc': 216,\n",
              " 'medium': 217,\n",
              " 'st': 218,\n",
              " 'quot': 219,\n",
              " 'give': 220,\n",
              " 'street': 221,\n",
              " 'wow': 222,\n",
              " 'two': 223,\n",
              " 'yet': 224,\n",
              " 'better': 225,\n",
              " 'begin': 226,\n",
              " 'hotpot': 227,\n",
              " 'else': 228,\n",
              " 'post': 229,\n",
              " 'relief': 230,\n",
              " 'there': 231,\n",
              " 'interface': 232,\n",
              " 'stop': 233,\n",
              " 'flipboard': 234,\n",
              " 'charger': 235,\n",
              " 'white': 236,\n",
              " 'winning': 237,\n",
              " 'saw': 238,\n",
              " 'hope': 239,\n",
              " 'thats': 240,\n",
              " 'seen': 241,\n",
              " 'tablet': 242,\n",
              " 'ranking': 243,\n",
              " 'na': 244,\n",
              " 'quotapple': 245,\n",
              " 'demo': 246,\n",
              " 'presentation': 247,\n",
              " 'room': 248,\n",
              " 'might': 249,\n",
              " 'tapworthy': 250,\n",
              " 'device': 251,\n",
              " 'far': 252,\n",
              " 'gt': 253,\n",
              " 'connect': 254,\n",
              " 'waiting': 255,\n",
              " 'sampler': 256,\n",
              " 'physical': 257,\n",
              " 'another': 258,\n",
              " 'heading': 259,\n",
              " 'release': 260,\n",
              " 'data': 261,\n",
              " 'navigation': 262,\n",
              " 'working': 263,\n",
              " 'building': 264,\n",
              " 'foursquare': 265,\n",
              " 'sponsored': 266,\n",
              " 'person': 267,\n",
              " 'guide': 268,\n",
              " 'track': 269,\n",
              " 'head': 270,\n",
              " 'quotthe': 271,\n",
              " 'taking': 272,\n",
              " 'business': 273,\n",
              " 'hand': 274,\n",
              " 'qagb': 275,\n",
              " 'idea': 276,\n",
              " 'content': 277,\n",
              " 'info': 278,\n",
              " 'convention': 279,\n",
              " 'left': 280,\n",
              " 'core': 281,\n",
              " 'gave': 282,\n",
              " 'money': 283,\n",
              " 'valid': 284,\n",
              " 'infektd': 285,\n",
              " 'theyre': 286,\n",
              " 'sale': 287,\n",
              " 'mashable': 288,\n",
              " 'follow': 289,\n",
              " 'life': 290,\n",
              " 'making': 291,\n",
              " 'front': 292,\n",
              " 'group': 293,\n",
              " 'card': 294,\n",
              " 'sold': 295,\n",
              " 'doesnt': 296,\n",
              " 'attendee': 297,\n",
              " 'saving': 298,\n",
              " 'rock': 299,\n",
              " 'wonder': 300,\n",
              " 'school': 301,\n",
              " 'tell': 302,\n",
              " 'excited': 303,\n",
              " 'start': 304,\n",
              " 'weekend': 305,\n",
              " 'hootsuite': 306,\n",
              " 'checkins': 307,\n",
              " 'happy': 308,\n",
              " 'wifi': 309,\n",
              " 'center': 310,\n",
              " 'morning': 311,\n",
              " 'website': 312,\n",
              " 'drink': 313,\n",
              " 'trying': 314,\n",
              " 'blog': 315,\n",
              " 'million': 316,\n",
              " 'share': 317,\n",
              " 'texas': 318,\n",
              " 'startup': 319,\n",
              " 'artist': 320,\n",
              " 'view': 321,\n",
              " 'gowalla': 322,\n",
              " 'site': 323,\n",
              " 'nerd': 324,\n",
              " 'amazing': 325,\n",
              " 'used': 326,\n",
              " 'something': 327,\n",
              " 'outside': 328,\n",
              " 'crowd': 329,\n",
              " 'plenty': 330,\n",
              " 'version': 331,\n",
              " 'band': 332,\n",
              " 'experience': 333,\n",
              " 'preview': 334,\n",
              " 'screen': 335,\n",
              " 'call': 336,\n",
              " 'cnn': 337,\n",
              " 'without': 338,\n",
              " 'must': 339,\n",
              " 'traffic': 340,\n",
              " 'cont': 341,\n",
              " 'uxdes': 342,\n",
              " 'io': 343,\n",
              " 'whats': 344,\n",
              " 'playing': 345,\n",
              " 'found': 346,\n",
              " 'reward': 347,\n",
              " 'feature': 348,\n",
              " 'showing': 349,\n",
              " 'edchat': 350,\n",
              " 'talking': 351,\n",
              " 'power': 352,\n",
              " 'food': 353,\n",
              " 'launched': 354,\n",
              " 'thought': 355,\n",
              " 'giveaway': 356,\n",
              " 'wish': 357,\n",
              " 'watch': 358,\n",
              " 'quoti': 359,\n",
              " 'instead': 360,\n",
              " 'bring': 361,\n",
              " 'feel': 362,\n",
              " 'qampa': 363,\n",
              " 'featured': 364,\n",
              " 'play': 365,\n",
              " 'book': 366,\n",
              " 'report': 367,\n",
              " 'sign': 368,\n",
              " 'meetup': 369,\n",
              " 'hear': 370,\n",
              " 'full': 371,\n",
              " 'usage': 372,\n",
              " 'chance': 373,\n",
              " 'put': 374,\n",
              " 'folk': 375,\n",
              " 'didnt': 376,\n",
              " 'lol': 377,\n",
              " 'camera': 378,\n",
              " 'stuff': 379,\n",
              " 'job': 380,\n",
              " 'home': 381,\n",
              " 'bought': 382,\n",
              " 'probably': 383,\n",
              " 'musedchat': 384,\n",
              " 'tip': 385,\n",
              " 'industry': 386,\n",
              " 'lost': 387,\n",
              " 'man': 388,\n",
              " 'bad': 389,\n",
              " 'daily': 390,\n",
              " 'hot': 391,\n",
              " 'try': 392,\n",
              " 'able': 393,\n",
              " 'fail': 394,\n",
              " 'ppl': 395,\n",
              " 'newtwitter': 396,\n",
              " 'buzz': 397,\n",
              " 'brain': 398,\n",
              " 'seo': 399,\n",
              " 'tool': 400,\n",
              " 'pretty': 401,\n",
              " 'true': 402,\n",
              " 'doodle': 403,\n",
              " 'march': 404,\n",
              " 'never': 405,\n",
              " 'dude': 406,\n",
              " 'story': 407,\n",
              " 'starting': 408,\n",
              " 'old': 409,\n",
              " 'access': 410,\n",
              " 'mac': 411,\n",
              " 'local': 412,\n",
              " 'minute': 413,\n",
              " 'real': 414,\n",
              " 'listening': 415,\n",
              " 'diller': 416,\n",
              " 'huge': 417,\n",
              " 'seems': 418,\n",
              " 'route': 419,\n",
              " 'bar': 420,\n",
              " 'checking': 421,\n",
              " 'conference': 422,\n",
              " 'forward': 423,\n",
              " '¼': 424,\n",
              " 'classical': 425,\n",
              " 'read': 426,\n",
              " 'expert': 427,\n",
              " 'maybe': 428,\n",
              " 'ballroom': 429,\n",
              " 'plan': 430,\n",
              " 'brilliant': 431,\n",
              " 'quotcirclesquot': 432,\n",
              " 'built': 433,\n",
              " 'setting': 434,\n",
              " 'hilton': 435,\n",
              " 'microsoft': 436,\n",
              " 'socialmedia': 437,\n",
              " 'said': 438,\n",
              " 'festival': 439,\n",
              " 'fan': 440,\n",
              " 'hollergram': 441,\n",
              " 'thank': 442,\n",
              " 'everything': 443,\n",
              " 'selling': 444,\n",
              " 'trade': 445,\n",
              " 'question': 446,\n",
              " 'brand': 447,\n",
              " 'friday': 448,\n",
              " 'walking': 449,\n",
              " 'conferencesquot': 450,\n",
              " 'dev': 451,\n",
              " 'youll': 452,\n",
              " 'top': 453,\n",
              " 'internet': 454,\n",
              " 'attending': 455,\n",
              " 'touchingstories': 456,\n",
              " 'here': 457,\n",
              " 'south': 458,\n",
              " 'schedule': 459,\n",
              " 'song': 460,\n",
              " 'genius': 461,\n",
              " 'note': 462,\n",
              " 'newsapps': 463,\n",
              " 'late': 464,\n",
              " 'headache': 465,\n",
              " 'month': 466,\n",
              " 'award': 467,\n",
              " 'hipster': 468,\n",
              " 'queue': 469,\n",
              " 'test': 470,\n",
              " 'html': 471,\n",
              " 'updated': 472,\n",
              " 'b': 473,\n",
              " 'soon': 474,\n",
              " 'official': 475,\n",
              " 'including': 476,\n",
              " 'mom': 477,\n",
              " 'mean': 478,\n",
              " 'seeing': 479,\n",
              " 'locationbased': 480,\n",
              " 'turn': 481,\n",
              " 'grab': 482,\n",
              " 'behind': 483,\n",
              " 'technews': 484,\n",
              " 'save': 485,\n",
              " 'macbook': 486,\n",
              " 'min': 487,\n",
              " 'since': 488,\n",
              " 'choice': 489,\n",
              " 'analytics': 490,\n",
              " 'market': 491,\n",
              " 'quotpopupquot': 492,\n",
              " 'gadget': 493,\n",
              " 'ã': 494,\n",
              " 'wan': 495,\n",
              " 'quotmention': 496,\n",
              " 'atampt': 497,\n",
              " 'aclu': 498,\n",
              " 'security': 499,\n",
              " 'crazy': 500,\n",
              " 'result': 501,\n",
              " 'scheduled': 502,\n",
              " 'forget': 503,\n",
              " 'gon': 504,\n",
              " 'nothing': 505,\n",
              " 'interview': 506,\n",
              " 'marissagoogle': 507,\n",
              " 'review': 508,\n",
              " 'town': 509,\n",
              " 'based': 510,\n",
              " 'earthquake': 511,\n",
              " 'atx': 512,\n",
              " 'house': 513,\n",
              " 'keynote': 514,\n",
              " 'strategy': 515,\n",
              " 'lounge': 516,\n",
              " 'packed': 517,\n",
              " 'deal': 518,\n",
              " 'tx': 519,\n",
              " 'living': 520,\n",
              " 'killer': 521,\n",
              " 'window': 522,\n",
              " 'wont': 523,\n",
              " 'move': 524,\n",
              " 'enter': 525,\n",
              " 'page': 526,\n",
              " 'project': 527,\n",
              " 'register': 528,\n",
              " 'speakquot': 529,\n",
              " 'belinsky': 530,\n",
              " 'yesterday': 531,\n",
              " 'space': 532,\n",
              " 'sxswquot': 533,\n",
              " 'enchantment': 534,\n",
              " 'point': 535,\n",
              " 'lp': 536,\n",
              " 'picture': 537,\n",
              " 'hit': 538,\n",
              " 'sweet': 539,\n",
              " 'juice': 540,\n",
              " 'anything': 541,\n",
              " 'everywhere': 542,\n",
              " 'interrupt': 543,\n",
              " 'programming': 544,\n",
              " 'red': 545,\n",
              " 'stream': 546,\n",
              " 'charge': 547,\n",
              " 'n': 548,\n",
              " 'congrats': 549,\n",
              " 'sound': 550,\n",
              " 'tweeting': 551,\n",
              " 'started': 552,\n",
              " 'zazzlesxsw': 553,\n",
              " 'actually': 554,\n",
              " 'checkin': 555,\n",
              " 'stay': 556,\n",
              " 'cnet': 557,\n",
              " 'funny': 558,\n",
              " 'beta': 559,\n",
              " 'city': 560,\n",
              " 'retail': 561,\n",
              " 'special': 562,\n",
              " 'verizon': 563,\n",
              " 'customer': 564,\n",
              " 'standing': 565,\n",
              " 'regularly': 566,\n",
              " 'ie': 567,\n",
              " 'apparently': 568,\n",
              " 'always': 569,\n",
              " 'information': 570,\n",
              " 'important': 571,\n",
              " 'pack': 572,\n",
              " 'ask': 573,\n",
              " 'boomer': 574,\n",
              " 'visit': 575,\n",
              " 'isnt': 576,\n",
              " 'haha': 577,\n",
              " 'flight': 578,\n",
              " 'lt': 579,\n",
              " 'opened': 580,\n",
              " 'audience': 581,\n",
              " 'per': 582,\n",
              " 'etc': 583,\n",
              " 'rtmention': 584,\n",
              " 'catch': 585,\n",
              " 'sharing': 586,\n",
              " 'shot': 587,\n",
              " 'schema': 588,\n",
              " 'offer': 589,\n",
              " 'list': 590,\n",
              " 'kid': 591,\n",
              " 'maggie': 592,\n",
              " 'privacy': 593,\n",
              " 'magazine': 594,\n",
              " 'almost': 595,\n",
              " 'end': 596,\n",
              " 'watching': 597,\n",
              " 'stock': 598,\n",
              " 'sq': 599,\n",
              " 'mark': 600,\n",
              " 'hckers': 601,\n",
              " 'ux': 602,\n",
              " 'travel': 603,\n",
              " 'barry': 604,\n",
              " 'went': 605,\n",
              " 'took': 606,\n",
              " 'issue': 607,\n",
              " 'dj': 608,\n",
              " 'early': 609,\n",
              " 'buying': 610,\n",
              " 'miss': 611,\n",
              " 'hall': 612,\n",
              " 'guess': 613,\n",
              " 'attend': 614,\n",
              " 'spot': 615,\n",
              " 'little': 616,\n",
              " 'yr': 617,\n",
              " 'change': 618,\n",
              " 'doc': 619,\n",
              " 'droid': 620,\n",
              " 'engine': 621,\n",
              " 'enjoy': 622,\n",
              " 'least': 623,\n",
              " 'samsung': 624,\n",
              " 'pick': 625,\n",
              " 'ad': 626,\n",
              " 'ur': 627,\n",
              " 'learn': 628,\n",
              " 'ride': 629,\n",
              " 'control': 630,\n",
              " 'nfc': 631,\n",
              " 'meeting': 632,\n",
              " 'league': 633,\n",
              " 'extraordinary': 634,\n",
              " 'contextual': 635,\n",
              " 'maes': 636,\n",
              " 'air': 637,\n",
              " 'r': 638,\n",
              " 'id': 639,\n",
              " 'jealous': 640,\n",
              " 'finally': 641,\n",
              " 'communication': 642,\n",
              " 'plus': 643,\n",
              " 'holler': 644,\n",
              " 'gram': 645,\n",
              " 'done': 646,\n",
              " 'discovery': 647,\n",
              " 'tweetquot': 648,\n",
              " 'quotthink': 649,\n",
              " 'kawasaki': 650,\n",
              " 'blogger': 651,\n",
              " 'gsdampm': 652,\n",
              " 'ok': 653,\n",
              " 'film': 654,\n",
              " 'pay': 655,\n",
              " 'course': 656,\n",
              " 'picked': 657,\n",
              " 'example': 658,\n",
              " 'x': 659,\n",
              " 'havent': 660,\n",
              " 'sitting': 661,\n",
              " 'woman': 662,\n",
              " 'badge': 663,\n",
              " 'beyond': 664,\n",
              " 'computer': 665,\n",
              " 'send': 666,\n",
              " 'later': 667,\n",
              " 'netflix': 668,\n",
              " 'released': 669,\n",
              " 'bag': 670,\n",
              " 'cab': 671,\n",
              " 'hard': 672,\n",
              " 'online': 673,\n",
              " 'showcased': 674,\n",
              " 'calendar': 675,\n",
              " 'value': 676,\n",
              " 'speech': 677,\n",
              " 'wondering': 678,\n",
              " 'rumored': 679,\n",
              " 'development': 680,\n",
              " 'gb': 681,\n",
              " 'ûò': 682,\n",
              " 'step': 683,\n",
              " 'girl': 684,\n",
              " 'stupid': 685,\n",
              " 'surprise': 686,\n",
              " 'run': 687,\n",
              " 'exhibit': 688,\n",
              " 'hacker': 689,\n",
              " 'charging': 690,\n",
              " 'employee': 691,\n",
              " 'latest': 692,\n",
              " 'tattoo': 693,\n",
              " 'recommendation': 694,\n",
              " 'fight': 695,\n",
              " 'gtgt': 696,\n",
              " 'peep': 697,\n",
              " 'mike': 698,\n",
              " 'useful': 699,\n",
              " 'tyson': 700,\n",
              " 'tim': 701,\n",
              " 'enjoying': 702,\n",
              " 'system': 703,\n",
              " 'model': 704,\n",
              " 'except': 705,\n",
              " 'email': 706,\n",
              " 'le': 707,\n",
              " 'southwest': 708,\n",
              " 'mile': 709,\n",
              " 'busy': 710,\n",
              " 'believe': 711,\n",
              " 'missed': 712,\n",
              " 'america': 713,\n",
              " 'near': 714,\n",
              " 'airport': 715,\n",
              " 'enough': 716,\n",
              " 'hello': 717,\n",
              " 'across': 718,\n",
              " 'acc': 719,\n",
              " 'bigger': 720,\n",
              " 'create': 721,\n",
              " 'super': 722,\n",
              " 'consider': 723,\n",
              " 'owner': 724,\n",
              " 'reality': 725,\n",
              " 'browser': 726,\n",
              " 'car': 727,\n",
              " 'cloud': 728,\n",
              " 'favorite': 729,\n",
              " 'drive': 730,\n",
              " 'ûó': 731,\n",
              " 'asked': 732,\n",
              " 'ta': 733,\n",
              " 'added': 734,\n",
              " 'god': 735,\n",
              " 'pnid': 736,\n",
              " 'name': 737,\n",
              " 'easy': 738,\n",
              " 'earth': 739,\n",
              " 'sxswh': 740,\n",
              " 'mind': 741,\n",
              " 'saved': 742,\n",
              " 'together': 743,\n",
              " 'worth': 744,\n",
              " 'holding': 745,\n",
              " 'k': 746,\n",
              " 'mistake': 747,\n",
              " 'bringing': 748,\n",
              " 'pro': 749,\n",
              " 'anywhere': 750,\n",
              " 'past': 751,\n",
              " 'prize': 752,\n",
              " 'source': 753,\n",
              " 'ipod': 754,\n",
              " 'who': 755,\n",
              " 'killing': 756,\n",
              " 'reading': 757,\n",
              " 'trip': 758,\n",
              " 'heat': 759,\n",
              " 'dead': 760,\n",
              " 'alarm': 761,\n",
              " 'part': 762,\n",
              " 'ton': 763,\n",
              " 'learning': 764,\n",
              " 'spent': 765,\n",
              " 'success': 766,\n",
              " 'present': 767,\n",
              " 'war': 768,\n",
              " 'word': 769,\n",
              " 'coffee': 770,\n",
              " 'bet': 771,\n",
              " 'googlebing': 772,\n",
              " 'vp': 773,\n",
              " 'floor': 774,\n",
              " 'challenge': 775,\n",
              " 'article': 776,\n",
              " 'running': 777,\n",
              " 'q': 778,\n",
              " 'black': 779,\n",
              " 'gig': 780,\n",
              " 'credit': 781,\n",
              " 'purchase': 782,\n",
              " 'mophie': 783,\n",
              " 'lady': 784,\n",
              " 'iphones': 785,\n",
              " 'close': 786,\n",
              " 'ago': 787,\n",
              " 'plane': 788,\n",
              " 'reader': 789,\n",
              " 'improve': 790,\n",
              " 'giant': 791,\n",
              " 'socialtypequot': 792,\n",
              " 'among': 793,\n",
              " 'secret': 794,\n",
              " 'button': 795,\n",
              " 'groundlink': 796,\n",
              " 'bit': 797,\n",
              " 'vip': 798,\n",
              " 'saying': 799,\n",
              " 'totally': 800,\n",
              " 'light': 801,\n",
              " 'small': 802,\n",
              " 'startupbus': 803,\n",
              " 'afford': 804,\n",
              " 'therapy': 805,\n",
              " 'podcast': 806,\n",
              " 'augmented': 807,\n",
              " 'whole': 808,\n",
              " 'bbq': 809,\n",
              " 'zlf': 810,\n",
              " 'fascist': 811,\n",
              " 'lonely': 812,\n",
              " 'blue': 813,\n",
              " 'crowley': 814,\n",
              " 'heart': 815,\n",
              " 'corner': 816,\n",
              " 'til': 817,\n",
              " 'leave': 818,\n",
              " 'ha': 819,\n",
              " 'publishing': 820,\n",
              " 'album': 821,\n",
              " 'bettersearch': 822,\n",
              " 'support': 823,\n",
              " 'headed': 824,\n",
              " 'focus': 825,\n",
              " 'suck': 826,\n",
              " 'hotel': 827,\n",
              " 'biggest': 828,\n",
              " 'came': 829,\n",
              " 'chrome': 830,\n",
              " 'announces': 831,\n",
              " 'chat': 832,\n",
              " 'hi': 833,\n",
              " 'yelp': 834,\n",
              " 'lego': 835,\n",
              " 'yeah': 836,\n",
              " 'quotgroupon': 837,\n",
              " 'speak': 838,\n",
              " 'leaving': 839,\n",
              " 'hold': 840,\n",
              " 'flash': 841,\n",
              " 'explorer': 842,\n",
              " 'walked': 843,\n",
              " 'pc': 844,\n",
              " 'glad': 845,\n",
              " 'fam': 846,\n",
              " 'interested': 847,\n",
              " 'reason': 848,\n",
              " 'loving': 849,\n",
              " 'table': 850,\n",
              " 'omg': 851,\n",
              " 'different': 852,\n",
              " 'biz': 853,\n",
              " 'exclusive': 854,\n",
              " 'sxflip': 855,\n",
              " 'tried': 856,\n",
              " 'z': 857,\n",
              " 'original': 858,\n",
              " 'kind': 859,\n",
              " 'dear': 860,\n",
              " 'j': 861,\n",
              " 'pearl': 862,\n",
              " 'player': 863,\n",
              " 'double': 864,\n",
              " 'yall': 865,\n",
              " 'thinking': 866,\n",
              " 'chris': 867,\n",
              " 'swarm': 868,\n",
              " 'us': 869,\n",
              " 'push': 870,\n",
              " 'concept': 871,\n",
              " 'agree': 872,\n",
              " 'stand': 873,\n",
              " 'ice': 874,\n",
              " 'cream': 875,\n",
              " 'weird': 876,\n",
              " 'contact': 877,\n",
              " 'hp': 878,\n",
              " 'testing': 879,\n",
              " 'walk': 880,\n",
              " 'lunch': 881,\n",
              " 'nd': 882,\n",
              " 'longer': 883,\n",
              " 'extra': 884,\n",
              " 'sixth': 885,\n",
              " 'fire': 886,\n",
              " 'beer': 887,\n",
              " 'random': 888,\n",
              " 'salon': 889,\n",
              " 'arrived': 890,\n",
              " 'qr': 891,\n",
              " 'image': 892,\n",
              " 'met': 893,\n",
              " 'pr': 894,\n",
              " 'crew': 895,\n",
              " 'disc': 896,\n",
              " 'mon': 897,\n",
              " 'public': 898,\n",
              " 'direction': 899,\n",
              " 'connected': 900,\n",
              " 'care': 901,\n",
              " 'though': 902,\n",
              " 'concert': 903,\n",
              " 'finding': 904,\n",
              " 'yep': 905,\n",
              " 'high': 906,\n",
              " 'japanese': 907,\n",
              " 'quake': 908,\n",
              " 'brought': 909,\n",
              " 'welcome': 910,\n",
              " 'door': 911,\n",
              " 'confirmed': 912,\n",
              " 'bings': 913,\n",
              " 'appears': 914,\n",
              " 'abt': 915,\n",
              " 'streaming': 916,\n",
              " 'upgrade': 917,\n",
              " 'likely': 918,\n",
              " 'downloaded': 919,\n",
              " 'wed': 920,\n",
              " 'print': 921,\n",
              " 'putting': 922,\n",
              " 'midnight': 923,\n",
              " 'quotipad': 924,\n",
              " 'matter': 925,\n",
              " 'mine': 926,\n",
              " 'limited': 927,\n",
              " 'tradeshow': 928,\n",
              " 'inside': 929,\n",
              " 'joke': 930,\n",
              " 'missing': 931,\n",
              " 'client': 932,\n",
              " 'sat': 933,\n",
              " 'networking': 934,\n",
              " 'hoot': 935,\n",
              " 'gen': 936,\n",
              " 'lose': 937,\n",
              " 'he': 938,\n",
              " 'hashable': 939,\n",
              " 'speakeasy': 940,\n",
              " 'valuable': 941,\n",
              " 'officially': 942,\n",
              " 'invite': 943,\n",
              " 'spending': 944,\n",
              " 'disaster': 945,\n",
              " 'hanging': 946,\n",
              " 'necro': 947,\n",
              " 'friendly': 948,\n",
              " 'bc': 949,\n",
              " 'unofficial': 950,\n",
              " 'expect': 951,\n",
              " 'drop': 952,\n",
              " 'survive': 953,\n",
              " 'insight': 954,\n",
              " 'h': 955,\n",
              " 'kick': 956,\n",
              " 'envy': 957,\n",
              " 'happens': 958,\n",
              " 'discovr': 959,\n",
              " 'personalized': 960,\n",
              " 'contest': 961,\n",
              " 'planet': 962,\n",
              " 'bank': 963,\n",
              " 'recap': 964,\n",
              " 'guard': 965,\n",
              " 'lustre': 966,\n",
              " 'yourmom': 967,\n",
              " 'conversation': 968,\n",
              " 'ui': 969,\n",
              " 'entry': 970,\n",
              " 'bavcid': 971,\n",
              " 'josh': 972,\n",
              " 'pass': 973,\n",
              " 'station': 974,\n",
              " 'wrote': 975,\n",
              " 'rad': 976,\n",
              " 'sunday': 977,\n",
              " 'yay': 978,\n",
              " 'youûªre': 979,\n",
              " 'account': 980,\n",
              " 'face': 981,\n",
              " 'created': 982,\n",
              " 'conf': 983,\n",
              " 'shiny': 984,\n",
              " 'devs': 985,\n",
              " 'movie': 986,\n",
              " 'poursite': 987,\n",
              " 'wp': 988,\n",
              " 'response': 989,\n",
              " 'add': 990,\n",
              " 'announcing': 991,\n",
              " 'makeshift': 992,\n",
              " 'shit': 993,\n",
              " 'software': 994,\n",
              " 'hate': 995,\n",
              " 'googledoodle': 996,\n",
              " 'celebrate': 997,\n",
              " 'nexus': 998,\n",
              " 'iphoneipad': 999,\n",
              " 'dashboard': 1000,\n",
              " ...}"
            ]
          },
          "metadata": {},
          "execution_count": 22
        }
      ]
    },
    {
      "cell_type": "markdown",
      "source": [
        "#### convert the text into sequences"
      ],
      "metadata": {
        "id": "T1SwMdRXxW-w"
      }
    },
    {
      "cell_type": "code",
      "source": [
        "# convert the text into sequences of word index\n",
        "sequences=tokenizer.texts_to_sequences(data['cleaned_text'])\n",
        "# find the max length\n",
        "max_length=max([len(seq) for seq in sequences])"
      ],
      "metadata": {
        "id": "z0X0VU8ExMcw"
      },
      "execution_count": 23,
      "outputs": []
    },
    {
      "cell_type": "code",
      "source": [
        "print(max_length) # max sequence length is 26"
      ],
      "metadata": {
        "colab": {
          "base_uri": "https://localhost:8080/"
        },
        "id": "ZK15ppfCx8ZO",
        "outputId": "d22209d0-b9a0-4573-cfd1-c17eee6fffe1"
      },
      "execution_count": 24,
      "outputs": [
        {
          "output_type": "stream",
          "name": "stdout",
          "text": [
            "25\n"
          ]
        }
      ]
    },
    {
      "cell_type": "markdown",
      "source": [
        "#### Convert the sequences into same length using pad_sequence\n"
      ],
      "metadata": {
        "id": "Uu_3h8ZI0bca"
      }
    },
    {
      "cell_type": "code",
      "source": [
        "# make the text into same length using pad_sequence method\n",
        "padded_sequences=pad_sequences(sequences,maxlen=max_length,padding='post')\n",
        "print(padded_sequences)"
      ],
      "metadata": {
        "colab": {
          "base_uri": "https://localhost:8080/"
        },
        "id": "dp6ok4s3x9t6",
        "outputId": "b018ae76-e87b-48a8-dfd9-1cadcf41d24d"
      },
      "execution_count": 25,
      "outputs": [
        {
          "output_type": "stream",
          "name": "stdout",
          "text": [
            "[[  1 209   9 ...   0   0   0]\n",
            " [  1  56   1 ...   0   0   0]\n",
            " [  1 164   6 ...   0   0   0]\n",
            " ...\n",
            " [  7   1   1 ...   0   0   0]\n",
            " [563   9 564 ...   0   0   0]\n",
            " [  1   3   7 ...   0   0   0]]\n"
          ]
        }
      ]
    },
    {
      "cell_type": "markdown",
      "source": [
        "#### Encode the target column"
      ],
      "metadata": {
        "id": "y_kQzYATzOgh"
      }
    },
    {
      "cell_type": "code",
      "source": [
        "from sklearn.preprocessing import LabelEncoder\n",
        "from tensorflow.keras.utils import to_categorical"
      ],
      "metadata": {
        "id": "qMKK2UpzzN9h"
      },
      "execution_count": 26,
      "outputs": []
    },
    {
      "cell_type": "code",
      "source": [
        "X=padded_sequences\n",
        "encoder_obj=LabelEncoder()\n",
        "y_numeric=encoder_obj.fit_transform(data['is_there_an_emotion_directed_at_a_brand_or_product'])\n",
        "y = to_categorical(y_numeric)# to_categorical expects numerical input"
      ],
      "metadata": {
        "id": "kYT5cABtyqa0"
      },
      "execution_count": 27,
      "outputs": []
    },
    {
      "cell_type": "markdown",
      "source": [
        "#### Split the data into train & test"
      ],
      "metadata": {
        "id": "qF-olSfizrDZ"
      }
    },
    {
      "cell_type": "code",
      "source": [
        "from sklearn.model_selection import train_test_split"
      ],
      "metadata": {
        "id": "k9kcT6fFznH_"
      },
      "execution_count": 28,
      "outputs": []
    },
    {
      "cell_type": "code",
      "source": [
        "x_train,x_test,y_train,y_test=train_test_split(X, y, test_size=0.2, random_state=42) # 80% data will be used for training & the rest for testing"
      ],
      "metadata": {
        "id": "7RfD5DYVzy4F"
      },
      "execution_count": 29,
      "outputs": []
    },
    {
      "cell_type": "markdown",
      "source": [
        "#### Define LSTM model"
      ],
      "metadata": {
        "id": "x2Qzg9nn0jBp"
      }
    },
    {
      "cell_type": "code",
      "source": [
        "# LSTM is a deep learning model\n",
        "vocab_size = len(tokenizer.word_index) + 1  # Vocabulary size (+1 for OOV token)"
      ],
      "metadata": {
        "id": "jwuSeUr6z-X4"
      },
      "execution_count": 30,
      "outputs": []
    },
    {
      "cell_type": "code",
      "source": [
        "#import necessary libraries\n",
        "from tensorflow.keras.models import Sequential\n",
        "from tensorflow.keras.layers import Embedding, LSTM, Dense, SpatialDropout1D,Dropout # ID dropout layer\n",
        "from tensorflow.keras.layers import Bidirectional\n",
        "from tensorflow.keras.optimizers import Adam"
      ],
      "metadata": {
        "id": "HqdtcQbv0vRI"
      },
      "execution_count": 31,
      "outputs": []
    },
    {
      "cell_type": "code",
      "source": [
        "model=Sequential()\n",
        "model.add(Embedding(input_length=max_length,input_dim=vocab_size,output_dim=100)) # gives vectors of dim 100\n",
        "model.add(SpatialDropout1D(0.3)) # ID dropout layer\n",
        "model.add(Bidirectional(LSTM(100, dropout=0.3, recurrent_dropout=0.3, return_sequences=True)))# LSTM layer\n",
        "model.add(Bidirectional(LSTM(150, dropout=0.3, recurrent_dropout=0.3)))# another LSTM layer\n",
        "model.add(Dense(128, activation='relu'))\n",
        "model.add(Dropout(0.5))\n",
        "model.add(Dense(64, activation='relu'))\n",
        "model.add(Dense(4, activation='softmax')) # Fully connected layer\n",
        "model.compile(loss='categorical_crossentropy', optimizer=Adam(learning_rate=0.001), metrics=['accuracy']) # compile the model"
      ],
      "metadata": {
        "colab": {
          "base_uri": "https://localhost:8080/"
        },
        "id": "hX0I1xNy0zZI",
        "outputId": "735fafc4-513f-468c-ddb8-7d07ec80e0f5"
      },
      "execution_count": 32,
      "outputs": [
        {
          "output_type": "stream",
          "name": "stderr",
          "text": [
            "WARNING:tensorflow:Layer lstm will not use cuDNN kernels since it doesn't meet the criteria. It will use a generic GPU kernel as fallback when running on GPU.\n",
            "WARNING:tensorflow:Layer lstm will not use cuDNN kernels since it doesn't meet the criteria. It will use a generic GPU kernel as fallback when running on GPU.\n",
            "WARNING:tensorflow:Layer lstm will not use cuDNN kernels since it doesn't meet the criteria. It will use a generic GPU kernel as fallback when running on GPU.\n",
            "WARNING:tensorflow:Layer lstm_1 will not use cuDNN kernels since it doesn't meet the criteria. It will use a generic GPU kernel as fallback when running on GPU.\n",
            "WARNING:tensorflow:Layer lstm_1 will not use cuDNN kernels since it doesn't meet the criteria. It will use a generic GPU kernel as fallback when running on GPU.\n",
            "WARNING:tensorflow:Layer lstm_1 will not use cuDNN kernels since it doesn't meet the criteria. It will use a generic GPU kernel as fallback when running on GPU.\n"
          ]
        }
      ]
    },
    {
      "cell_type": "code",
      "source": [
        "# print model summary\n",
        "print(model.summary())"
      ],
      "metadata": {
        "colab": {
          "base_uri": "https://localhost:8080/"
        },
        "id": "MtDAbun52UhS",
        "outputId": "2f65b194-befd-4e1e-ba55-13f24dd7d9e3"
      },
      "execution_count": 33,
      "outputs": [
        {
          "output_type": "stream",
          "name": "stdout",
          "text": [
            "Model: \"sequential\"\n",
            "_________________________________________________________________\n",
            " Layer (type)                Output Shape              Param #   \n",
            "=================================================================\n",
            " embedding (Embedding)       (None, 25, 100)           963800    \n",
            "                                                                 \n",
            " spatial_dropout1d (Spatial  (None, 25, 100)           0         \n",
            " Dropout1D)                                                      \n",
            "                                                                 \n",
            " bidirectional (Bidirection  (None, 25, 200)           160800    \n",
            " al)                                                             \n",
            "                                                                 \n",
            " bidirectional_1 (Bidirecti  (None, 300)               421200    \n",
            " onal)                                                           \n",
            "                                                                 \n",
            " dense (Dense)               (None, 128)               38528     \n",
            "                                                                 \n",
            " dropout (Dropout)           (None, 128)               0         \n",
            "                                                                 \n",
            " dense_1 (Dense)             (None, 64)                8256      \n",
            "                                                                 \n",
            " dense_2 (Dense)             (None, 4)                 260       \n",
            "                                                                 \n",
            "=================================================================\n",
            "Total params: 1592844 (6.08 MB)\n",
            "Trainable params: 1592844 (6.08 MB)\n",
            "Non-trainable params: 0 (0.00 Byte)\n",
            "_________________________________________________________________\n",
            "None\n"
          ]
        }
      ]
    },
    {
      "cell_type": "markdown",
      "source": [
        "Note: a total of 1592844 trainable parameters are there."
      ],
      "metadata": {
        "id": "rNwssFY32dz7"
      }
    },
    {
      "cell_type": "markdown",
      "source": [
        "#### Train the model"
      ],
      "metadata": {
        "id": "eDOgCEM92qMj"
      }
    },
    {
      "cell_type": "code",
      "source": [
        "from tensorflow.keras.callbacks import EarlyStopping\n",
        "\n",
        "epochs = 20 # how many time training will happen\n",
        "batch_size = 32 # no of batches in each training\n",
        "\n",
        "early_stopping = EarlyStopping(monitor='val_loss', patience=3, restore_best_weights=True) # Stop training when validation loss stops improving\n",
        "history = model.fit(x_train, y_train, epochs=epochs, batch_size=batch_size, validation_data=(x_test, y_test), verbose=2, callbacks=[early_stopping])"
      ],
      "metadata": {
        "colab": {
          "base_uri": "https://localhost:8080/"
        },
        "id": "ifWKh9kR2Ywe",
        "outputId": "63362d94-c3f0-481e-a6fa-16535bbe8012"
      },
      "execution_count": 34,
      "outputs": [
        {
          "output_type": "stream",
          "name": "stdout",
          "text": [
            "Epoch 1/20\n",
            "228/228 - 104s - loss: 0.9342 - accuracy: 0.5919 - val_loss: 0.8801 - val_accuracy: 0.6091 - 104s/epoch - 455ms/step\n",
            "Epoch 2/20\n",
            "228/228 - 80s - loss: 0.8340 - accuracy: 0.6431 - val_loss: 0.8159 - val_accuracy: 0.6416 - 80s/epoch - 352ms/step\n",
            "Epoch 3/20\n",
            "228/228 - 88s - loss: 0.7625 - accuracy: 0.6774 - val_loss: 0.8192 - val_accuracy: 0.6427 - 88s/epoch - 386ms/step\n",
            "Epoch 4/20\n",
            "228/228 - 77s - loss: 0.7211 - accuracy: 0.7034 - val_loss: 0.8035 - val_accuracy: 0.6520 - 77s/epoch - 336ms/step\n",
            "Epoch 5/20\n",
            "228/228 - 75s - loss: 0.6889 - accuracy: 0.7166 - val_loss: 0.8008 - val_accuracy: 0.6614 - 75s/epoch - 331ms/step\n",
            "Epoch 6/20\n",
            "228/228 - 77s - loss: 0.6653 - accuracy: 0.7238 - val_loss: 0.8251 - val_accuracy: 0.6427 - 77s/epoch - 339ms/step\n",
            "Epoch 7/20\n",
            "228/228 - 74s - loss: 0.6422 - accuracy: 0.7416 - val_loss: 0.8668 - val_accuracy: 0.6267 - 74s/epoch - 326ms/step\n",
            "Epoch 8/20\n",
            "228/228 - 76s - loss: 0.6241 - accuracy: 0.7459 - val_loss: 0.8690 - val_accuracy: 0.6553 - 76s/epoch - 334ms/step\n"
          ]
        }
      ]
    },
    {
      "cell_type": "markdown",
      "source": [
        "Note: training accuracy is 0.74 and validation accuracy is 0.65. So model is little bit overfitting."
      ],
      "metadata": {
        "id": "Jl1exprPD6A3"
      }
    },
    {
      "cell_type": "markdown",
      "source": [
        "#### Evaluate the model"
      ],
      "metadata": {
        "id": "NhAibyBDAjNO"
      }
    },
    {
      "cell_type": "code",
      "source": [
        "from sklearn.metrics import accuracy_score"
      ],
      "metadata": {
        "id": "olKc_rawAyhY"
      },
      "execution_count": 35,
      "outputs": []
    },
    {
      "cell_type": "code",
      "source": [
        "y_pred = (model.predict(x_test) > 0.5).astype('int32')\n",
        "accuracy_score(y_test,y_pred)"
      ],
      "metadata": {
        "colab": {
          "base_uri": "https://localhost:8080/"
        },
        "id": "ia0fQzGW2oZa",
        "outputId": "495acaee-c142-46a8-8c45-8c10311fe602"
      },
      "execution_count": 36,
      "outputs": [
        {
          "output_type": "stream",
          "name": "stdout",
          "text": [
            "57/57 [==============================] - 3s 43ms/step\n"
          ]
        },
        {
          "output_type": "execute_result",
          "data": {
            "text/plain": [
              "0.5909840571742716"
            ]
          },
          "metadata": {},
          "execution_count": 36
        }
      ]
    },
    {
      "cell_type": "markdown",
      "source": [
        "Note: We got the accuracy score as 0.59\n"
      ],
      "metadata": {
        "id": "TIf4S_slmOg8"
      }
    },
    {
      "cell_type": "markdown",
      "source": [
        "#### Test on a new data"
      ],
      "metadata": {
        "id": "c6NkmtEtmVvj"
      }
    },
    {
      "cell_type": "code",
      "source": [
        "x_sample='Just got my hands on the new iPhone 11! The camera is amazing and the battery life is a game-changer. Loving the new colors too. #iPhone11 #Apple'\n",
        "x_sample=preprocess_text(x_sample)\n",
        "x_sample=tokenizer.texts_to_sequences([x_sample])\n",
        "x_sample=pad_sequences(x_sample,maxlen=max_length,padding='post')\n",
        "y_pred = (model.predict(x_sample) > 0.5).astype('int32')\n",
        "y_pred"
      ],
      "metadata": {
        "colab": {
          "base_uri": "https://localhost:8080/"
        },
        "id": "hpxNyeJo2oWL",
        "outputId": "b0dd8d4f-ae0e-49e8-a4d3-981044d8fb1c"
      },
      "execution_count": 40,
      "outputs": [
        {
          "output_type": "stream",
          "name": "stdout",
          "text": [
            "1/1 [==============================] - 0s 70ms/step\n"
          ]
        },
        {
          "output_type": "execute_result",
          "data": {
            "text/plain": [
              "array([[0, 0, 0, 1]], dtype=int32)"
            ]
          },
          "metadata": {},
          "execution_count": 40
        }
      ]
    },
    {
      "cell_type": "code",
      "source": [
        "# Get the index of the predicted class, to get the class no\n",
        "predicted_index = y_pred.argmax(axis=-1)[0]\n",
        "# Inverse transform to get the class name\n",
        "predicted_class = encoder_obj.inverse_transform([predicted_index])[0]\n",
        "print(f\"Predicted class: {predicted_class}\")"
      ],
      "metadata": {
        "colab": {
          "base_uri": "https://localhost:8080/"
        },
        "id": "8fKJtqIF2oS1",
        "outputId": "afa89f37-5689-4c01-d9ed-47f8e4bf8e93"
      },
      "execution_count": 41,
      "outputs": [
        {
          "output_type": "stream",
          "name": "stdout",
          "text": [
            "Predicted class: Positive emotion\n"
          ]
        }
      ]
    }
  ]
}